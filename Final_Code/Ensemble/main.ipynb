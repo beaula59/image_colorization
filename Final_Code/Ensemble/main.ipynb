{
 "cells": [
  {
   "cell_type": "code",
   "execution_count": null,
   "id": "00aa6176",
   "metadata": {},
   "outputs": [],
   "source": [
    "import torch\n",
    "import torch.nn as nn\n",
    "import torch.optim as optim\n",
    "from torchvision import models, datasets, transforms\n",
    "from torch.utils.data import DataLoader, Dataset\n",
    "import os\n",
    "import sys\n",
    "from glob import glob\n",
    "from sklearn.model_selection import train_test_split\n",
    "import numpy as np\n",
    "from skimage.color import lab2rgb, rgb2lab\n",
    "sys.path.append(os.path.abspath(os.path.join(os.getcwd(), \"..\")))\n",
    "from cGAN_CL.compute_metrics import compute_metrics\n",
    "from cGAN.models import MainModel, build_res_unet \n",
    "from COLORIZATION.colorizers import *\n",
    "from tqdm import tqdm"
   ]
  },
  {
   "cell_type": "code",
   "execution_count": 30,
   "id": "2fa2864a",
   "metadata": {},
   "outputs": [],
   "source": [
    "def model2_outputs(data_path, model, device): \n",
    "    #Image transformation\n",
    "    SIZE = 256\n",
    "    class ColorizationDataset(Dataset):\n",
    "        def __init__(self, paths):\n",
    "            self.transforms = transforms.Compose([\n",
    "                transforms.Resize((SIZE, SIZE), Image.BICUBIC),\n",
    "                transforms.ToTensor()\n",
    "            ])\n",
    "            self.paths = paths\n",
    "        \n",
    "        def __getitem__(self, idx):\n",
    "            try:\n",
    "                img = Image.open(self.paths[idx]).convert(\"RGB\")\n",
    "                img = self.transforms(img)\n",
    "                img_np = np.array(img.permute(1, 2, 0))  # Convert to HWC format for rgb2lab\n",
    "                img_lab = rgb2lab(img_np).astype(\"float32\")\n",
    "                img_lab = torch.tensor(img_lab).permute(2, 0, 1)  # Convert to CHW format\n",
    "                L = img_lab[[0], ...] / 50. - 1.  # Normalize L\n",
    "                ab = img_lab[[1, 2], ...] / 110.  # Normalize ab\n",
    "                return {'L': L, 'ab': ab, 'path': self.paths[idx]}\n",
    "            except Exception as e:\n",
    "                print(f\"Error loading image {self.paths[idx]}: {e}\")\n",
    "                return None  # Skip the image\n",
    "        \n",
    "        def __len__(self):\n",
    "            return len(self.paths)\n",
    "\n",
    "    def make_dataloader(data_path, batch_size=16, num_workers=2, pin_memory=True):\n",
    "        dataset = ColorizationDataset(data_path)\n",
    "        dataloader = DataLoader(dataset, batch_size=batch_size, num_workers=num_workers, shuffle = False, pin_memory=pin_memory)\n",
    "        return dataloader\n",
    "\n",
    "    def colorize_model2(data, model, device):\n",
    "        colorized_results = []\n",
    "        for batch in tqdm(data, desc=\"Model: Colorizing images\"):\n",
    "            if batch is None:\n",
    "                continue  # Skip corrupted images\n",
    "            \n",
    "            L, ab, paths = batch['L'].to(device), batch['ab'].to(device), batch['path']\n",
    "            \n",
    "            with torch.no_grad():\n",
    "                pred_ab = model.net_G(L)  # Output should be ab channels\n",
    "            \n",
    "            for i in range(len(paths)):\n",
    "                L_img = (L[i].cpu().numpy() + 1.) * 50.  # De-normalize L\n",
    "                pred_ab_img = pred_ab[i].cpu().numpy() * 110.  # De-normalize ab\n",
    "                lab_img = np.concatenate((L_img, pred_ab_img), axis=0).transpose(1, 2, 0)\n",
    "                colorized_rgb = (lab2rgb(lab_img) * 255).astype(\"uint8\")\n",
    "                colorized_rgb = torch.from_numpy(colorized_rgb).permute(2, 0, 1)  # Convert to CHW format\n",
    "                colorized_results.append(colorized_rgb)\n",
    "        return colorized_results\n",
    "\n",
    "    data = make_dataloader(data_path)\n",
    "    return colorize_model2(data, model, device)\n",
    "\n"
   ]
  },
  {
   "cell_type": "code",
   "execution_count": 31,
   "id": "4e90e5df",
   "metadata": {},
   "outputs": [],
   "source": [
    "def model1_outputs(data_path, colorizer, device):\n",
    "    colorised_results = []\n",
    "    for img_path in tqdm(data_path):\n",
    "        try:\n",
    "            img = load_img(img_path)\n",
    "            (tens_l_orig, tens_l_rs) = preprocess_img(img, HW=(256, 256))\n",
    "\n",
    "            tens_l_rs = tens_l_rs.cuda()\n",
    "            out_img_siggraph17 = postprocess_tens(tens_l_orig, colorizer(tens_l_rs).cpu())\n",
    "            result = (np.clip(out_img_siggraph17, 0, 1) * 255).astype(np.uint8)\n",
    "            result = torch.from_numpy(result)  # Convert NumPy array to PyTorch tensor\n",
    "            result = result.permute(2, 0, 1)  # Example: for changing HWC → CHW\n",
    "            colorised_results.append(result)\n",
    "\n",
    "        except Exception as e:\n",
    "            print(f\"Error processing {img_path}: {e}\")\n",
    "    return colorised_results"
   ]
  },
  {
   "cell_type": "code",
   "execution_count": 32,
   "id": "1ff6d8ad",
   "metadata": {},
   "outputs": [
    {
     "name": "stderr",
     "output_type": "stream",
     "text": [
      "/u/student/2021/cs21btech11002/miniconda3/envs/cGAN/lib/python3.9/site-packages/torchvision/models/_utils.py:208: UserWarning: The parameter 'pretrained' is deprecated since 0.13 and may be removed in the future, please use 'weights' instead.\n",
      "  warnings.warn(\n",
      "/u/student/2021/cs21btech11002/miniconda3/envs/cGAN/lib/python3.9/site-packages/torchvision/models/_utils.py:223: UserWarning: Arguments other than a weight enum or `None` for 'weights' are deprecated since 0.13 and may be removed in the future. The current behavior is equivalent to passing `weights=ResNet18_Weights.IMAGENET1K_V1`. You can also use `weights=ResNet18_Weights.DEFAULT` to get the most up-to-date weights.\n",
      "  warnings.warn(msg)\n"
     ]
    },
    {
     "name": "stdout",
     "output_type": "stream",
     "text": [
      "model initialized with norm initialization\n",
      "Model 1 and Model 2 loaded successfully.\n"
     ]
    }
   ],
   "source": [
    "device = torch.device(\"cuda\" if torch.cuda.is_available() else \"cpu\")\n",
    "\n",
    "model1 = siggraph17(pretrained=True).eval()\n",
    "model1.cuda()\n",
    "\n",
    "\n",
    "net_G = build_res_unet(n_input=1, n_output=2, size=256)\n",
    "model2 = MainModel(net_G=net_G)\n",
    "model2.load_state_dict(torch.load(\"/u/student/2021/cs21btech11002/CV_Project/cGAN/cGAN-unet.pt\", map_location=device))  # Load trained MainModel\n",
    "model2.to(device)\n",
    "model2.eval()\n",
    "print(\"Model 1 and Model 2 loaded successfully.\")"
   ]
  },
  {
   "cell_type": "code",
   "execution_count": 33,
   "id": "3a638af5",
   "metadata": {},
   "outputs": [],
   "source": [
    "def ensemble_weighted_mse_loss(model1_output, model2_output, selector_probs, target):\n",
    "    mse1 = ((model1_output.float() - target.float()) ** 2).mean(dim=[1,2,3])  # [B]\n",
    "    mse2 = ((model2_output.float() - target.float()) ** 2).mean(dim=[1,2,3])  # [B]\n",
    "    weighted_loss = selector_probs[:, 0] * mse1 + selector_probs[:, 1] * mse2  # [B]\n",
    "    return weighted_loss.mean()\n"
   ]
  },
  {
   "cell_type": "code",
   "execution_count": null,
   "id": "84e57796",
   "metadata": {},
   "outputs": [
    {
     "name": "stdout",
     "output_type": "stream",
     "text": [
      "Train paths: 1600, Test paths: 19959\n"
     ]
    },
    {
     "name": "stderr",
     "output_type": "stream",
     "text": [
      "  1%|          | 12/1600 [00:03<06:50,  3.87it/s]/u/student/2021/cs21btech11002/CV_Project/COLORIZATION/colorizers/util.py:47: UserWarning: Conversion from CIE-LAB, via XYZ to sRGB color space resulted in 2 negative Z values that have been clipped to zero\n",
      "  return color.lab2rgb(out_lab_orig.data.cpu().numpy()[0,...].transpose((1,2,0)))\n",
      "  2%|▏         | 24/1600 [00:06<06:16,  4.18it/s]/u/student/2021/cs21btech11002/CV_Project/COLORIZATION/colorizers/util.py:47: UserWarning: Conversion from CIE-LAB, via XYZ to sRGB color space resulted in 13 negative Z values that have been clipped to zero\n",
      "  return color.lab2rgb(out_lab_orig.data.cpu().numpy()[0,...].transpose((1,2,0)))\n",
      "  2%|▏         | 26/1600 [00:06<07:22,  3.55it/s]/u/student/2021/cs21btech11002/CV_Project/COLORIZATION/colorizers/util.py:47: UserWarning: Conversion from CIE-LAB, via XYZ to sRGB color space resulted in 3 negative Z values that have been clipped to zero\n",
      "  return color.lab2rgb(out_lab_orig.data.cpu().numpy()[0,...].transpose((1,2,0)))\n",
      "  2%|▏         | 38/1600 [00:09<06:17,  4.14it/s]/u/student/2021/cs21btech11002/CV_Project/COLORIZATION/colorizers/util.py:47: UserWarning: Conversion from CIE-LAB, via XYZ to sRGB color space resulted in 7 negative Z values that have been clipped to zero\n",
      "  return color.lab2rgb(out_lab_orig.data.cpu().numpy()[0,...].transpose((1,2,0)))\n",
      "  3%|▎         | 41/1600 [00:10<06:46,  3.84it/s]/u/student/2021/cs21btech11002/CV_Project/COLORIZATION/colorizers/util.py:47: UserWarning: Conversion from CIE-LAB, via XYZ to sRGB color space resulted in 33 negative Z values that have been clipped to zero\n",
      "  return color.lab2rgb(out_lab_orig.data.cpu().numpy()[0,...].transpose((1,2,0)))\n",
      "  3%|▎         | 42/1600 [00:10<07:04,  3.67it/s]/u/student/2021/cs21btech11002/CV_Project/COLORIZATION/colorizers/util.py:47: UserWarning: Conversion from CIE-LAB, via XYZ to sRGB color space resulted in 9 negative Z values that have been clipped to zero\n",
      "  return color.lab2rgb(out_lab_orig.data.cpu().numpy()[0,...].transpose((1,2,0)))\n",
      "  3%|▎         | 55/1600 [00:14<06:31,  3.95it/s]/u/student/2021/cs21btech11002/CV_Project/COLORIZATION/colorizers/util.py:47: UserWarning: Conversion from CIE-LAB, via XYZ to sRGB color space resulted in 1 negative Z values that have been clipped to zero\n",
      "  return color.lab2rgb(out_lab_orig.data.cpu().numpy()[0,...].transpose((1,2,0)))\n",
      "  5%|▌         | 85/1600 [00:22<06:48,  3.71it/s]/u/student/2021/cs21btech11002/CV_Project/COLORIZATION/colorizers/util.py:47: UserWarning: Conversion from CIE-LAB, via XYZ to sRGB color space resulted in 32 negative Z values that have been clipped to zero\n",
      "  return color.lab2rgb(out_lab_orig.data.cpu().numpy()[0,...].transpose((1,2,0)))\n",
      "  6%|▋         | 103/1600 [00:27<06:24,  3.89it/s]/u/student/2021/cs21btech11002/CV_Project/COLORIZATION/colorizers/util.py:47: UserWarning: Conversion from CIE-LAB, via XYZ to sRGB color space resulted in 39 negative Z values that have been clipped to zero\n",
      "  return color.lab2rgb(out_lab_orig.data.cpu().numpy()[0,...].transpose((1,2,0)))\n",
      "  7%|▋         | 112/1600 [00:29<07:13,  3.44it/s]/u/student/2021/cs21btech11002/CV_Project/COLORIZATION/colorizers/util.py:47: UserWarning: Conversion from CIE-LAB, via XYZ to sRGB color space resulted in 18 negative Z values that have been clipped to zero\n",
      "  return color.lab2rgb(out_lab_orig.data.cpu().numpy()[0,...].transpose((1,2,0)))\n",
      "  8%|▊         | 123/1600 [00:33<12:18,  2.00it/s]/u/student/2021/cs21btech11002/CV_Project/COLORIZATION/colorizers/util.py:47: UserWarning: Conversion from CIE-LAB, via XYZ to sRGB color space resulted in 4 negative Z values that have been clipped to zero\n",
      "  return color.lab2rgb(out_lab_orig.data.cpu().numpy()[0,...].transpose((1,2,0)))\n",
      "  9%|▉         | 144/1600 [00:40<05:19,  4.56it/s]/u/student/2021/cs21btech11002/CV_Project/COLORIZATION/colorizers/util.py:47: UserWarning: Conversion from CIE-LAB, via XYZ to sRGB color space resulted in 17 negative Z values that have been clipped to zero\n",
      "  return color.lab2rgb(out_lab_orig.data.cpu().numpy()[0,...].transpose((1,2,0)))\n",
      "  9%|▉         | 147/1600 [00:41<05:05,  4.75it/s]/u/student/2021/cs21btech11002/CV_Project/COLORIZATION/colorizers/util.py:47: UserWarning: Conversion from CIE-LAB, via XYZ to sRGB color space resulted in 26 negative Z values that have been clipped to zero\n",
      "  return color.lab2rgb(out_lab_orig.data.cpu().numpy()[0,...].transpose((1,2,0)))\n",
      " 13%|█▎        | 210/1600 [00:57<05:03,  4.58it/s]/u/student/2021/cs21btech11002/CV_Project/COLORIZATION/colorizers/util.py:47: UserWarning: Conversion from CIE-LAB, via XYZ to sRGB color space resulted in 22 negative Z values that have been clipped to zero\n",
      "  return color.lab2rgb(out_lab_orig.data.cpu().numpy()[0,...].transpose((1,2,0)))\n",
      " 14%|█▍        | 223/1600 [01:00<04:59,  4.60it/s]/u/student/2021/cs21btech11002/CV_Project/COLORIZATION/colorizers/util.py:47: UserWarning: Conversion from CIE-LAB, via XYZ to sRGB color space resulted in 19 negative Z values that have been clipped to zero\n",
      "  return color.lab2rgb(out_lab_orig.data.cpu().numpy()[0,...].transpose((1,2,0)))\n",
      " 15%|█▍        | 237/1600 [01:03<04:58,  4.56it/s]/u/student/2021/cs21btech11002/CV_Project/COLORIZATION/colorizers/util.py:47: UserWarning: Conversion from CIE-LAB, via XYZ to sRGB color space resulted in 12 negative Z values that have been clipped to zero\n",
      "  return color.lab2rgb(out_lab_orig.data.cpu().numpy()[0,...].transpose((1,2,0)))\n",
      " 16%|█▌        | 257/1600 [01:08<06:08,  3.64it/s]/u/student/2021/cs21btech11002/CV_Project/COLORIZATION/colorizers/util.py:47: UserWarning: Conversion from CIE-LAB, via XYZ to sRGB color space resulted in 197 negative Z values that have been clipped to zero\n",
      "  return color.lab2rgb(out_lab_orig.data.cpu().numpy()[0,...].transpose((1,2,0)))\n",
      " 17%|█▋        | 275/1600 [01:12<04:58,  4.44it/s]/u/student/2021/cs21btech11002/CV_Project/COLORIZATION/colorizers/util.py:47: UserWarning: Conversion from CIE-LAB, via XYZ to sRGB color space resulted in 86 negative Z values that have been clipped to zero\n",
      "  return color.lab2rgb(out_lab_orig.data.cpu().numpy()[0,...].transpose((1,2,0)))\n",
      " 20%|██        | 320/1600 [01:23<05:28,  3.90it/s]/u/student/2021/cs21btech11002/CV_Project/COLORIZATION/colorizers/util.py:47: UserWarning: Conversion from CIE-LAB, via XYZ to sRGB color space resulted in 11 negative Z values that have been clipped to zero\n",
      "  return color.lab2rgb(out_lab_orig.data.cpu().numpy()[0,...].transpose((1,2,0)))\n",
      " 20%|██        | 322/1600 [01:24<05:56,  3.59it/s]/u/student/2021/cs21btech11002/CV_Project/COLORIZATION/colorizers/util.py:47: UserWarning: Conversion from CIE-LAB, via XYZ to sRGB color space resulted in 60 negative Z values that have been clipped to zero\n",
      "  return color.lab2rgb(out_lab_orig.data.cpu().numpy()[0,...].transpose((1,2,0)))\n",
      " 21%|██▏       | 343/1600 [01:29<05:37,  3.73it/s]/u/student/2021/cs21btech11002/CV_Project/COLORIZATION/colorizers/util.py:47: UserWarning: Conversion from CIE-LAB, via XYZ to sRGB color space resulted in 284 negative Z values that have been clipped to zero\n",
      "  return color.lab2rgb(out_lab_orig.data.cpu().numpy()[0,...].transpose((1,2,0)))\n",
      " 22%|██▏       | 352/1600 [01:31<04:38,  4.48it/s]/u/student/2021/cs21btech11002/CV_Project/COLORIZATION/colorizers/util.py:47: UserWarning: Conversion from CIE-LAB, via XYZ to sRGB color space resulted in 6 negative Z values that have been clipped to zero\n",
      "  return color.lab2rgb(out_lab_orig.data.cpu().numpy()[0,...].transpose((1,2,0)))\n",
      " 23%|██▎       | 362/1600 [01:33<04:58,  4.15it/s]/u/student/2021/cs21btech11002/CV_Project/COLORIZATION/colorizers/util.py:47: UserWarning: Conversion from CIE-LAB, via XYZ to sRGB color space resulted in 1154 negative Z values that have been clipped to zero\n",
      "  return color.lab2rgb(out_lab_orig.data.cpu().numpy()[0,...].transpose((1,2,0)))\n",
      " 23%|██▎       | 372/1600 [01:36<05:05,  4.02it/s]/u/student/2021/cs21btech11002/CV_Project/COLORIZATION/colorizers/util.py:47: UserWarning: Conversion from CIE-LAB, via XYZ to sRGB color space resulted in 8 negative Z values that have been clipped to zero\n",
      "  return color.lab2rgb(out_lab_orig.data.cpu().numpy()[0,...].transpose((1,2,0)))\n",
      " 30%|██▉       | 479/1600 [02:01<04:43,  3.96it/s]/u/student/2021/cs21btech11002/CV_Project/COLORIZATION/colorizers/util.py:47: UserWarning: Conversion from CIE-LAB, via XYZ to sRGB color space resulted in 34 negative Z values that have been clipped to zero\n",
      "  return color.lab2rgb(out_lab_orig.data.cpu().numpy()[0,...].transpose((1,2,0)))\n",
      " 37%|███▋      | 589/1600 [02:26<03:39,  4.60it/s]/u/student/2021/cs21btech11002/CV_Project/COLORIZATION/colorizers/util.py:47: UserWarning: Conversion from CIE-LAB, via XYZ to sRGB color space resulted in 20 negative Z values that have been clipped to zero\n",
      "  return color.lab2rgb(out_lab_orig.data.cpu().numpy()[0,...].transpose((1,2,0)))\n",
      " 37%|███▋      | 594/1600 [02:27<03:16,  5.12it/s]/u/student/2021/cs21btech11002/CV_Project/COLORIZATION/colorizers/util.py:47: UserWarning: Conversion from CIE-LAB, via XYZ to sRGB color space resulted in 205 negative Z values that have been clipped to zero\n",
      "  return color.lab2rgb(out_lab_orig.data.cpu().numpy()[0,...].transpose((1,2,0)))\n",
      " 38%|███▊      | 616/1600 [02:32<03:50,  4.28it/s]/u/student/2021/cs21btech11002/CV_Project/COLORIZATION/colorizers/util.py:47: UserWarning: Conversion from CIE-LAB, via XYZ to sRGB color space resulted in 10 negative Z values that have been clipped to zero\n",
      "  return color.lab2rgb(out_lab_orig.data.cpu().numpy()[0,...].transpose((1,2,0)))\n",
      " 41%|████      | 649/1600 [02:41<03:44,  4.23it/s]/u/student/2021/cs21btech11002/CV_Project/COLORIZATION/colorizers/util.py:47: UserWarning: Conversion from CIE-LAB, via XYZ to sRGB color space resulted in 29 negative Z values that have been clipped to zero\n",
      "  return color.lab2rgb(out_lab_orig.data.cpu().numpy()[0,...].transpose((1,2,0)))\n",
      " 41%|████▏     | 662/1600 [02:44<03:45,  4.17it/s]/u/student/2021/cs21btech11002/CV_Project/COLORIZATION/colorizers/util.py:47: UserWarning: Conversion from CIE-LAB, via XYZ to sRGB color space resulted in 160 negative Z values that have been clipped to zero\n",
      "  return color.lab2rgb(out_lab_orig.data.cpu().numpy()[0,...].transpose((1,2,0)))\n",
      " 43%|████▎     | 682/1600 [02:48<03:38,  4.21it/s]/u/student/2021/cs21btech11002/CV_Project/COLORIZATION/colorizers/util.py:47: UserWarning: Conversion from CIE-LAB, via XYZ to sRGB color space resulted in 28 negative Z values that have been clipped to zero\n",
      "  return color.lab2rgb(out_lab_orig.data.cpu().numpy()[0,...].transpose((1,2,0)))\n",
      " 44%|████▍     | 703/1600 [02:53<03:28,  4.30it/s]/u/student/2021/cs21btech11002/CV_Project/COLORIZATION/colorizers/util.py:47: UserWarning: Conversion from CIE-LAB, via XYZ to sRGB color space resulted in 30 negative Z values that have been clipped to zero\n",
      "  return color.lab2rgb(out_lab_orig.data.cpu().numpy()[0,...].transpose((1,2,0)))\n",
      " 47%|████▋     | 754/1600 [03:04<03:06,  4.54it/s]/u/student/2021/cs21btech11002/CV_Project/COLORIZATION/colorizers/util.py:47: UserWarning: Conversion from CIE-LAB, via XYZ to sRGB color space resulted in 14 negative Z values that have been clipped to zero\n",
      "  return color.lab2rgb(out_lab_orig.data.cpu().numpy()[0,...].transpose((1,2,0)))\n",
      " 48%|████▊     | 768/1600 [03:07<03:15,  4.25it/s]/u/student/2021/cs21btech11002/CV_Project/COLORIZATION/colorizers/util.py:47: UserWarning: Conversion from CIE-LAB, via XYZ to sRGB color space resulted in 972 negative Z values that have been clipped to zero\n",
      "  return color.lab2rgb(out_lab_orig.data.cpu().numpy()[0,...].transpose((1,2,0)))\n",
      " 49%|████▉     | 786/1600 [03:12<03:09,  4.30it/s]/u/student/2021/cs21btech11002/CV_Project/COLORIZATION/colorizers/util.py:47: UserWarning: Conversion from CIE-LAB, via XYZ to sRGB color space resulted in 40 negative Z values that have been clipped to zero\n",
      "  return color.lab2rgb(out_lab_orig.data.cpu().numpy()[0,...].transpose((1,2,0)))\n",
      " 53%|█████▎    | 855/1600 [03:27<02:37,  4.73it/s]/u/student/2021/cs21btech11002/CV_Project/COLORIZATION/colorizers/util.py:47: UserWarning: Conversion from CIE-LAB, via XYZ to sRGB color space resulted in 75 negative Z values that have been clipped to zero\n",
      "  return color.lab2rgb(out_lab_orig.data.cpu().numpy()[0,...].transpose((1,2,0)))\n",
      " 64%|██████▎   | 1016/1600 [03:59<01:47,  5.43it/s]/u/student/2021/cs21btech11002/CV_Project/COLORIZATION/colorizers/util.py:47: UserWarning: Conversion from CIE-LAB, via XYZ to sRGB color space resulted in 50 negative Z values that have been clipped to zero\n",
      "  return color.lab2rgb(out_lab_orig.data.cpu().numpy()[0,...].transpose((1,2,0)))\n",
      " 65%|██████▌   | 1045/1600 [04:05<01:53,  4.89it/s]/u/student/2021/cs21btech11002/CV_Project/COLORIZATION/colorizers/util.py:47: UserWarning: Conversion from CIE-LAB, via XYZ to sRGB color space resulted in 66 negative Z values that have been clipped to zero\n",
      "  return color.lab2rgb(out_lab_orig.data.cpu().numpy()[0,...].transpose((1,2,0)))\n",
      " 68%|██████▊   | 1085/1600 [04:12<01:26,  5.94it/s]/u/student/2021/cs21btech11002/CV_Project/COLORIZATION/colorizers/util.py:47: UserWarning: Conversion from CIE-LAB, via XYZ to sRGB color space resulted in 36 negative Z values that have been clipped to zero\n",
      "  return color.lab2rgb(out_lab_orig.data.cpu().numpy()[0,...].transpose((1,2,0)))\n",
      " 70%|███████   | 1127/1600 [04:20<01:37,  4.86it/s]/u/student/2021/cs21btech11002/CV_Project/COLORIZATION/colorizers/util.py:47: UserWarning: Conversion from CIE-LAB, via XYZ to sRGB color space resulted in 15 negative Z values that have been clipped to zero\n",
      "  return color.lab2rgb(out_lab_orig.data.cpu().numpy()[0,...].transpose((1,2,0)))\n",
      " 80%|███████▉  | 1275/1600 [04:50<00:48,  6.69it/s]/u/student/2021/cs21btech11002/CV_Project/COLORIZATION/colorizers/util.py:47: UserWarning: Conversion from CIE-LAB, via XYZ to sRGB color space resulted in 35 negative Z values that have been clipped to zero\n",
      "  return color.lab2rgb(out_lab_orig.data.cpu().numpy()[0,...].transpose((1,2,0)))\n",
      " 91%|█████████▏| 1460/1600 [05:31<00:27,  5.12it/s]/u/student/2021/cs21btech11002/CV_Project/COLORIZATION/colorizers/util.py:47: UserWarning: Conversion from CIE-LAB, via XYZ to sRGB color space resulted in 5 negative Z values that have been clipped to zero\n",
      "  return color.lab2rgb(out_lab_orig.data.cpu().numpy()[0,...].transpose((1,2,0)))\n",
      " 97%|█████████▋| 1558/1600 [05:49<00:09,  4.64it/s]/u/student/2021/cs21btech11002/CV_Project/COLORIZATION/colorizers/util.py:47: UserWarning: Conversion from CIE-LAB, via XYZ to sRGB color space resulted in 27 negative Z values that have been clipped to zero\n",
      "  return color.lab2rgb(out_lab_orig.data.cpu().numpy()[0,...].transpose((1,2,0)))\n",
      "100%|██████████| 1600/1600 [05:57<00:00,  4.47it/s]\n",
      "Model: Colorizing images:   3%|▎         | 3/100 [00:01<00:42,  2.30it/s]/tmp/ipykernel_2183398/1344644219.py:49: UserWarning: Conversion from CIE-LAB, via XYZ to sRGB color space resulted in 1 negative Z values that have been clipped to zero\n",
      "  colorized_rgb = (lab2rgb(lab_img) * 255).astype(\"uint8\")\n",
      "Model: Colorizing images:  17%|█▋        | 17/100 [00:04<00:18,  4.51it/s]/tmp/ipykernel_2183398/1344644219.py:49: UserWarning: Conversion from CIE-LAB, via XYZ to sRGB color space resulted in 6 negative Z values that have been clipped to zero\n",
      "  colorized_rgb = (lab2rgb(lab_img) * 255).astype(\"uint8\")\n",
      "Model: Colorizing images:  37%|███▋      | 37/100 [00:09<00:13,  4.54it/s]/tmp/ipykernel_2183398/1344644219.py:49: UserWarning: Conversion from CIE-LAB, via XYZ to sRGB color space resulted in 2 negative Z values that have been clipped to zero\n",
      "  colorized_rgb = (lab2rgb(lab_img) * 255).astype(\"uint8\")\n",
      "Model: Colorizing images: 100%|██████████| 100/100 [00:23<00:00,  4.33it/s]\n"
     ]
    }
   ],
   "source": [
    "# === Configuration ===\n",
    "BATCH_SIZE = 32\n",
    "NUM_CLASSES = 2\n",
    "NUM_EPOCHS = 20\n",
    "LEARNING_RATE = 1e-4\n",
    "DATA_DIR = \"../unlabeled2017\" # folder containing 'train' and 'val' subfolders\n",
    "\n",
    "paths_coco = glob(os.path.join(DATA_DIR, '../unlabeled2017', '*'))\n",
    "paths_image_net = glob(os.path.join(DATA_DIR, '../ImageNet', '**', '*.JPEG'), recursive=True)\n",
    "train_paths = paths_coco[:800] + paths_image_net[:800]\n",
    "\n",
    "model1_train_outputs = model1_outputs(train_paths, model1, device)\n",
    "model2_train_outputs = model2_outputs(train_paths, model2, device)"
   ]
  },
  {
   "cell_type": "code",
   "execution_count": 38,
   "id": "381264ec",
   "metadata": {},
   "outputs": [],
   "source": [
    "# === Transforms for Grayscale + Inception ===\n",
    "transform = transforms.Compose([\n",
    "    transforms.Resize((256, 256), Image.BICUBIC)\n",
    "])\n",
    "transform_input = transforms.Compose([\n",
    "    transforms.Grayscale(num_output_channels=1),\n",
    "    transforms.Resize((224, 224), Image.BICUBIC),\n",
    "    transforms.ToTensor()\n",
    "])\n",
    "\n",
    "\n",
    "\n",
    "class EnsembleTrainingDataset(Dataset):\n",
    "    def __init__(self, image_paths, m1_outputs, m2_outputs, transform=None, transform_input=None):\n",
    "        self.image_paths = image_paths\n",
    "        self.m1_outputs = m1_outputs\n",
    "        self.m2_outputs = m2_outputs\n",
    "        self.transform = transform\n",
    "        self.transform_input = transform_input\n",
    "\n",
    "    def __len__(self):\n",
    "        return len(self.image_paths)\n",
    "\n",
    "    def __getitem__(self, idx):\n",
    "        path = self.image_paths[idx]\n",
    "        image_rgb = Image.open(path).convert(\"RGB\")\n",
    "        input = self.transform_input(image_rgb) if self.transform_input else image_rgb\n",
    "        image_rgb = torch.tensor(np.array(image_rgb)).permute(2, 0, 1)\n",
    "        target = self.transform(image_rgb) if self.transform else image_rgb\n",
    "        out1 = self.m1_outputs[idx]\n",
    "        out2 = self.m2_outputs[idx]\n",
    "        out1 = self.transform(out1) if self.transform else out1\n",
    "        out2 = self.transform(out2) if self.transform else out2\n",
    "\n",
    "        return input, out1, out2, target\n",
    "\n",
    "train_dataset = EnsembleTrainingDataset(train_paths, model1_train_outputs, model2_train_outputs, transform=transform, transform_input=transform_input)\n",
    "train_loader = DataLoader(train_dataset, batch_size=BATCH_SIZE, shuffle=False, num_workers=2)\n"
   ]
  },
  {
   "cell_type": "code",
   "execution_count": 39,
   "id": "b616a458",
   "metadata": {},
   "outputs": [
    {
     "name": "stderr",
     "output_type": "stream",
     "text": [
      "  0%|          | 0/25 [00:00<?, ?it/s]"
     ]
    },
    {
     "name": "stdout",
     "output_type": "stream",
     "text": [
      "\n",
      "Epoch 1/25\n"
     ]
    },
    {
     "name": "stderr",
     "output_type": "stream",
     "text": [
      "100%|██████████| 50/50 [00:22<00:00,  2.23it/s]\n",
      "  4%|▍         | 1/25 [00:22<08:57, 22.40s/it]"
     ]
    },
    {
     "name": "stdout",
     "output_type": "stream",
     "text": [
      "Training Loss: 269.6669006347656\n",
      "\n",
      "Epoch 2/25\n"
     ]
    },
    {
     "name": "stderr",
     "output_type": "stream",
     "text": [
      "100%|██████████| 50/50 [00:15<00:00,  3.17it/s]\n",
      "  8%|▊         | 2/25 [00:38<07:05, 18.52s/it]"
     ]
    },
    {
     "name": "stdout",
     "output_type": "stream",
     "text": [
      "Training Loss: 255.57003784179688\n",
      "\n",
      "Epoch 3/25\n"
     ]
    },
    {
     "name": "stderr",
     "output_type": "stream",
     "text": [
      "100%|██████████| 50/50 [00:16<00:00,  3.02it/s]\n",
      " 12%|█▏        | 3/25 [00:54<06:27, 17.63s/it]"
     ]
    },
    {
     "name": "stdout",
     "output_type": "stream",
     "text": [
      "Training Loss: 225.3173370361328\n",
      "\n",
      "Epoch 4/25\n"
     ]
    },
    {
     "name": "stderr",
     "output_type": "stream",
     "text": [
      "100%|██████████| 50/50 [00:16<00:00,  2.94it/s]\n",
      " 16%|█▌        | 4/25 [01:11<06:05, 17.39s/it]"
     ]
    },
    {
     "name": "stdout",
     "output_type": "stream",
     "text": [
      "Training Loss: 218.83319091796875\n",
      "\n",
      "Epoch 5/25\n"
     ]
    },
    {
     "name": "stderr",
     "output_type": "stream",
     "text": [
      "100%|██████████| 50/50 [00:16<00:00,  3.06it/s]\n",
      " 20%|██        | 5/25 [01:28<05:40, 17.02s/it]"
     ]
    },
    {
     "name": "stdout",
     "output_type": "stream",
     "text": [
      "Training Loss: 213.67446899414062\n",
      "\n",
      "Epoch 6/25\n"
     ]
    },
    {
     "name": "stderr",
     "output_type": "stream",
     "text": [
      "100%|██████████| 50/50 [00:16<00:00,  2.97it/s]\n",
      " 24%|██▍       | 6/25 [01:45<05:22, 16.96s/it]"
     ]
    },
    {
     "name": "stdout",
     "output_type": "stream",
     "text": [
      "Training Loss: 212.14181518554688\n",
      "\n",
      "Epoch 7/25\n"
     ]
    },
    {
     "name": "stderr",
     "output_type": "stream",
     "text": [
      "100%|██████████| 50/50 [02:28<00:00,  2.97s/it]\n",
      " 28%|██▊       | 7/25 [04:13<17:59, 59.96s/it]"
     ]
    },
    {
     "name": "stdout",
     "output_type": "stream",
     "text": [
      "Training Loss: 211.1863250732422\n",
      "\n",
      "Epoch 8/25\n"
     ]
    },
    {
     "name": "stderr",
     "output_type": "stream",
     "text": [
      "100%|██████████| 50/50 [00:35<00:00,  1.41it/s]\n",
      " 32%|███▏      | 8/25 [04:49<14:47, 52.19s/it]"
     ]
    },
    {
     "name": "stdout",
     "output_type": "stream",
     "text": [
      "Training Loss: 210.49668884277344\n",
      "\n",
      "Epoch 9/25\n"
     ]
    },
    {
     "name": "stderr",
     "output_type": "stream",
     "text": [
      "100%|██████████| 50/50 [00:16<00:00,  2.96it/s]\n",
      " 36%|███▌      | 9/25 [05:05<10:58, 41.16s/it]"
     ]
    },
    {
     "name": "stdout",
     "output_type": "stream",
     "text": [
      "Training Loss: 209.9573211669922\n",
      "\n",
      "Epoch 10/25\n"
     ]
    },
    {
     "name": "stderr",
     "output_type": "stream",
     "text": [
      "100%|██████████| 50/50 [00:17<00:00,  2.86it/s]\n",
      " 40%|████      | 10/25 [05:23<08:27, 33.86s/it]"
     ]
    },
    {
     "name": "stdout",
     "output_type": "stream",
     "text": [
      "Training Loss: 209.5076446533203\n",
      "\n",
      "Epoch 11/25\n"
     ]
    },
    {
     "name": "stderr",
     "output_type": "stream",
     "text": [
      "100%|██████████| 50/50 [00:17<00:00,  2.88it/s]\n",
      " 44%|████▍     | 11/25 [05:40<06:43, 28.82s/it]"
     ]
    },
    {
     "name": "stdout",
     "output_type": "stream",
     "text": [
      "Training Loss: 209.11358642578125\n",
      "\n",
      "Epoch 12/25\n"
     ]
    },
    {
     "name": "stderr",
     "output_type": "stream",
     "text": [
      "100%|██████████| 50/50 [00:16<00:00,  3.02it/s]\n",
      " 48%|████▊     | 12/25 [05:57<05:26, 25.10s/it]"
     ]
    },
    {
     "name": "stdout",
     "output_type": "stream",
     "text": [
      "Training Loss: 208.75965881347656\n",
      "\n",
      "Epoch 13/25\n"
     ]
    },
    {
     "name": "stderr",
     "output_type": "stream",
     "text": [
      "100%|██████████| 50/50 [00:17<00:00,  2.93it/s]\n",
      " 52%|█████▏    | 13/25 [06:14<04:32, 22.68s/it]"
     ]
    },
    {
     "name": "stdout",
     "output_type": "stream",
     "text": [
      "Training Loss: 208.43527221679688\n",
      "\n",
      "Epoch 14/25\n"
     ]
    },
    {
     "name": "stderr",
     "output_type": "stream",
     "text": [
      "100%|██████████| 50/50 [00:17<00:00,  2.89it/s]\n",
      " 56%|█████▌    | 14/25 [06:31<03:51, 21.05s/it]"
     ]
    },
    {
     "name": "stdout",
     "output_type": "stream",
     "text": [
      "Training Loss: 208.1365509033203\n",
      "\n",
      "Epoch 15/25\n"
     ]
    },
    {
     "name": "stderr",
     "output_type": "stream",
     "text": [
      "100%|██████████| 50/50 [00:16<00:00,  2.99it/s]\n",
      " 60%|██████    | 15/25 [06:48<03:17, 19.76s/it]"
     ]
    },
    {
     "name": "stdout",
     "output_type": "stream",
     "text": [
      "Training Loss: 207.8604278564453\n",
      "\n",
      "Epoch 16/25\n"
     ]
    },
    {
     "name": "stderr",
     "output_type": "stream",
     "text": [
      "100%|██████████| 50/50 [00:16<00:00,  2.99it/s]\n",
      " 64%|██████▍   | 16/25 [07:05<02:49, 18.85s/it]"
     ]
    },
    {
     "name": "stdout",
     "output_type": "stream",
     "text": [
      "Training Loss: 207.6086883544922\n",
      "\n",
      "Epoch 17/25\n"
     ]
    },
    {
     "name": "stderr",
     "output_type": "stream",
     "text": [
      "100%|██████████| 50/50 [00:16<00:00,  3.06it/s]\n",
      " 68%|██████▊   | 17/25 [07:21<02:24, 18.10s/it]"
     ]
    },
    {
     "name": "stdout",
     "output_type": "stream",
     "text": [
      "Training Loss: 207.368896484375\n",
      "\n",
      "Epoch 18/25\n"
     ]
    },
    {
     "name": "stderr",
     "output_type": "stream",
     "text": [
      "100%|██████████| 50/50 [00:16<00:00,  2.98it/s]\n",
      " 72%|███████▏  | 18/25 [07:38<02:03, 17.71s/it]"
     ]
    },
    {
     "name": "stdout",
     "output_type": "stream",
     "text": [
      "Training Loss: 207.13534545898438\n",
      "\n",
      "Epoch 19/25\n"
     ]
    },
    {
     "name": "stderr",
     "output_type": "stream",
     "text": [
      "100%|██████████| 50/50 [00:16<00:00,  3.00it/s]\n",
      " 76%|███████▌  | 19/25 [07:55<01:44, 17.40s/it]"
     ]
    },
    {
     "name": "stdout",
     "output_type": "stream",
     "text": [
      "Training Loss: 206.89697265625\n",
      "\n",
      "Epoch 20/25\n"
     ]
    },
    {
     "name": "stderr",
     "output_type": "stream",
     "text": [
      "100%|██████████| 50/50 [00:17<00:00,  2.92it/s]\n",
      " 80%|████████  | 20/25 [08:12<01:26, 17.33s/it]"
     ]
    },
    {
     "name": "stdout",
     "output_type": "stream",
     "text": [
      "Training Loss: 206.64016723632812\n",
      "\n",
      "Epoch 21/25\n"
     ]
    },
    {
     "name": "stderr",
     "output_type": "stream",
     "text": [
      "100%|██████████| 50/50 [00:16<00:00,  3.01it/s]\n",
      " 84%|████████▍ | 21/25 [08:28<01:08, 17.11s/it]"
     ]
    },
    {
     "name": "stdout",
     "output_type": "stream",
     "text": [
      "Training Loss: 206.36529541015625\n",
      "\n",
      "Epoch 22/25\n"
     ]
    },
    {
     "name": "stderr",
     "output_type": "stream",
     "text": [
      "100%|██████████| 50/50 [00:16<00:00,  3.00it/s]\n",
      " 88%|████████▊ | 22/25 [08:45<00:50, 16.98s/it]"
     ]
    },
    {
     "name": "stdout",
     "output_type": "stream",
     "text": [
      "Training Loss: 206.0771484375\n",
      "\n",
      "Epoch 23/25\n"
     ]
    },
    {
     "name": "stderr",
     "output_type": "stream",
     "text": [
      "100%|██████████| 50/50 [00:16<00:00,  2.96it/s]\n",
      " 92%|█████████▏| 23/25 [09:02<00:33, 16.97s/it]"
     ]
    },
    {
     "name": "stdout",
     "output_type": "stream",
     "text": [
      "Training Loss: 205.7972412109375\n",
      "\n",
      "Epoch 24/25\n"
     ]
    },
    {
     "name": "stderr",
     "output_type": "stream",
     "text": [
      "100%|██████████| 50/50 [00:17<00:00,  2.86it/s]\n",
      " 96%|█████████▌| 24/25 [09:20<00:17, 17.14s/it]"
     ]
    },
    {
     "name": "stdout",
     "output_type": "stream",
     "text": [
      "Training Loss: 205.54884338378906\n",
      "\n",
      "Epoch 25/25\n"
     ]
    },
    {
     "name": "stderr",
     "output_type": "stream",
     "text": [
      "100%|██████████| 50/50 [00:16<00:00,  3.11it/s]\n",
      "100%|██████████| 25/25 [09:36<00:00, 23.05s/it]"
     ]
    },
    {
     "name": "stdout",
     "output_type": "stream",
     "text": [
      "Training Loss: 205.3300323486328\n"
     ]
    },
    {
     "name": "stderr",
     "output_type": "stream",
     "text": [
      "\n"
     ]
    }
   ],
   "source": [
    "import clip\n",
    "from torchvision import transforms\n",
    "import torch.nn as nn\n",
    "\n",
    "# === Load CLIP ===\n",
    "clip_model, preprocess_clip = clip.load(\"ViT-B/32\", device=device)\n",
    "clip_model.eval()\n",
    "\n",
    "# Freeze CLIP\n",
    "for param in clip_model.parameters():\n",
    "    param.requires_grad = False\n",
    "\n",
    "# Replace CLIP image encoder's projection with a custom selector head\n",
    "def init_weights(m):\n",
    "    if isinstance(m, nn.Linear):\n",
    "        nn.init.kaiming_normal_(m.weight, nonlinearity='relu')\n",
    "        if m.bias is not None:\n",
    "            nn.init.constant_(m.bias, 0)\n",
    "\n",
    "selector_head = nn.Sequential(\n",
    "    nn.Linear(clip_model.visual.output_dim, 512),\n",
    "    nn.ReLU(),\n",
    "    nn.Linear(512, NUM_CLASSES)\n",
    ").to(device)\n",
    "\n",
    "selector_head.apply(init_weights)\n",
    "\n",
    "# Optimizer for selector head\n",
    "optimizer = optim.Adam(selector_head.parameters(), lr=LEARNING_RATE)\n",
    "\n",
    "# === Training Loop ===\n",
    "NUM_EPOCHS = 25\n",
    "losses = []\n",
    "updates = 0\n",
    "non_updates = 0\n",
    "\n",
    "for epoch in tqdm(range(NUM_EPOCHS)):\n",
    "    print(f\"\\nEpoch {epoch + 1}/{NUM_EPOCHS}\") \n",
    "    running_loss = 0.0\n",
    "    for input_img, out1, out2, target in tqdm(train_loader):\n",
    "        input_img = input_img.to(device)       # Grayscale: [B, 1, H, W]\n",
    "        out1 = out1.to(device)\n",
    "        out2 = out2.to(device)\n",
    "        target = target.to(device)\n",
    "\n",
    "        # Convert to 3 channels (RGB format for CLIP)\n",
    "        input_rgb = input_img.repeat(1, 3, 1, 1)\n",
    "\n",
    "        # Resize and normalize input for CLIP using preprocess (same as transforms for CLIP)\n",
    "        input_rgb = nn.functional.interpolate(input_rgb, size=224, mode='bicubic', align_corners=False)\n",
    "        input_rgb = input_rgb.clamp(0, 1)  # Ensure range is [0, 1]\n",
    "\n",
    "        # Normalize manually using CLIP mean/std\n",
    "        normalize = transforms.Normalize(\n",
    "            mean=[0.48145466, 0.4578275, 0.40821073],\n",
    "            std=[0.26862954, 0.26130258, 0.27577711]\n",
    "        )\n",
    "        input_rgb = normalize(input_rgb)\n",
    "\n",
    "        # Get CLIP visual embeddings\n",
    "        with torch.no_grad():\n",
    "            features = clip_model.encode_image(input_rgb)  # [B, D]\n",
    "            features = features.float()\n",
    "        \n",
    "        # Predict selector probabilities\n",
    "        selector_logits = selector_head(features)  # [B, NUM_CLASSES]\n",
    "        selector_probs = torch.softmax(selector_logits, dim=1)  # [B, NUM_CLASSES]\n",
    "\n",
    "        # Compute weighted MSE loss\n",
    "        loss = ensemble_weighted_mse_loss(out1, out2, selector_probs, target)\n",
    "        # Check if weights are updated\n",
    "        before_update = selector_head[2].weight.clone()\n",
    "        optimizer.zero_grad()\n",
    "        loss.backward()\n",
    "        optimizer.step()\n",
    "        after_update = selector_head[2].weight.clone()\n",
    "        if torch.equal(before_update, after_update):\n",
    "            non_updates += 1\n",
    "        else:\n",
    "            updates += 1\n",
    "        running_loss += loss\n",
    "\n",
    "    epoch_loss = running_loss / len(train_loader)\n",
    "    losses.append(epoch_loss)\n",
    "    print(f\"Training Loss: {epoch_loss}\")\n"
   ]
  },
  {
   "cell_type": "code",
   "execution_count": 40,
   "id": "b7104fc9",
   "metadata": {},
   "outputs": [
    {
     "data": {
      "image/png": "[encoded data removed]",
      "text/plain": [
       "<Figure size 1000x600 with 1 Axes>"
      ]
     },
     "metadata": {},
     "output_type": "display_data"
    }
   ],
   "source": [
    "import matplotlib.pyplot as plt\n",
    "\n",
    "# Plot training loss\n",
    "plt.figure(figsize=(10, 6))\n",
    "plt.plot(range(1, len(losses) + 1), [loss.item() for loss in losses], marker='o', label='Training Loss')\n",
    "plt.xlabel('Epoch')\n",
    "plt.ylabel('Loss')\n",
    "plt.title('Training Loss Over Epochs')\n",
    "plt.legend()\n",
    "plt.grid()\n",
    "plt.show()"
   ]
  },
  {
   "cell_type": "code",
   "execution_count": 58,
   "id": "70899d99",
   "metadata": {},
   "outputs": [],
   "source": [
    "def test_model(test_loader):\n",
    "    choices = []\n",
    "    best = []\n",
    "    for input_img, out1, out2, target in tqdm(test_loader):\n",
    "        input_img = input_img.to(device)\n",
    "        out1 = out1.to(device)\n",
    "        out2 = out2.to(device)\n",
    "        target = target.to(device)\n",
    "        # Convert to 3 channels (RGB format for CLIP)\n",
    "        input_rgb = input_img.repeat(1, 3, 1, 1)\n",
    "        # Resize and normalize input for CLIP using preprocess (same as transforms for CLIP)\n",
    "        input_rgb = nn.functional.interpolate(input_rgb, size=224, mode='bicubic', align_corners=False)\n",
    "        input_rgb = input_rgb.clamp(0, 1)  # Ensure range is [0, 1]\n",
    "        # Normalize manually using CLIP mean/std\n",
    "        normalize = transforms.Normalize(\n",
    "            mean=[0.48145466, 0.4578275, 0.40821073],\n",
    "            std=[0.26862954, 0.26130258, 0.27577711]\n",
    "        )\n",
    "        input_rgb = normalize(input_rgb)\n",
    "\n",
    "        with torch.no_grad():\n",
    "            features = clip_model.encode_image(input_rgb)  # [B, D]\n",
    "            features = features.float()\n",
    "            # Predict selector probabilities\n",
    "            selector_logits = selector_head(features)  # [B, NUM_CLASSES]\n",
    "            selector_probs = torch.softmax(selector_logits, dim=1)  # [B, NUM_CLASSES]\n",
    "            mse1 = ((out1.float() - target.float()) ** 2).mean(dim=[1,2,3])  # [B]\n",
    "            mse2 = ((out2.float() - target.float()) ** 2).mean(dim=[1,2,3])  # [B]\n",
    "            best.extend((mse2<=mse1).int())\n",
    "            choices.extend(torch.argmax(selector_probs, dim=1))\n",
    "            \n",
    "    return choices, best"
   ]
  },
  {
   "cell_type": "code",
   "execution_count": 62,
   "id": "d988478e",
   "metadata": {},
   "outputs": [],
   "source": [
    "def inference(test_path):\n",
    "    model1_test_outputs = model1_outputs(test_path, model1, device)\n",
    "    model2_test_outputs = model2_outputs(test_path, model2, device)\n",
    "    test_dataset = EnsembleTrainingDataset(test_path, model1_test_outputs, model2_test_outputs, transform=transform, transform_input=transform_input)\n",
    "    test_loader = DataLoader(test_dataset, batch_size=BATCH_SIZE*4, shuffle=False, num_workers=2)\n",
    "    choices, best_choices = test_model(test_loader)\n",
    "    # Find overlap between best_choices and choices\n",
    "    index = [i for i, (best, choice) in enumerate(zip(best_choices, choices)) if best == choice]\n",
    "    overlap = sum(1 for best, choice in zip(best_choices, choices) if best == choice)\n",
    "    choices_tensor = torch.tensor(choices)\n",
    "    num_ones = (choices_tensor == 1).sum().item()\n",
    "    num_zeros = (choices_tensor == 0).sum().item()\n",
    "    print(f\"Number of 1's: {num_ones}\")\n",
    "    print(f\"Number of 0's: {num_zeros}\")\n",
    "    print(f\"Accuracy: {overlap/len(choices) * 100:.2f}%\")\n",
    "    return choices, model1_test_outputs, model2_test_outputs\n"
   ]
  },
  {
   "cell_type": "code",
   "execution_count": 60,
   "id": "828851cd",
   "metadata": {},
   "outputs": [],
   "source": [
    "\n",
    "paths_coco_test = sorted(glob(os.path.join(DATA_DIR, '../test_COCO', '*')))[:2000]\n",
    "paths_image_net_test = sorted(glob(os.path.join(DATA_DIR, '../test_ImageNet', '*')))[:2000]"
   ]
  },
  {
   "cell_type": "code",
   "execution_count": 63,
   "id": "23c199e1",
   "metadata": {},
   "outputs": [
    {
     "name": "stderr",
     "output_type": "stream",
     "text": [
      "  0%|          | 0/2000 [00:00<?, ?it/s]"
     ]
    },
    {
     "name": "stderr",
     "output_type": "stream",
     "text": [
      "100%|██████████| 2000/2000 [07:27<00:00,  4.47it/s]\n",
      "Model: Colorizing images:   1%|          | 1/125 [00:01<02:52,  1.39s/it]/tmp/ipykernel_2183398/1344644219.py:49: UserWarning: Conversion from CIE-LAB, via XYZ to sRGB color space resulted in 1 negative Z values that have been clipped to zero\n",
      "  colorized_rgb = (lab2rgb(lab_img) * 255).astype(\"uint8\")\n",
      "Model: Colorizing images:   6%|▌         | 7/125 [00:02<00:36,  3.27it/s]/tmp/ipykernel_2183398/1344644219.py:49: UserWarning: Conversion from CIE-LAB, via XYZ to sRGB color space resulted in 5 negative Z values that have been clipped to zero\n",
      "  colorized_rgb = (lab2rgb(lab_img) * 255).astype(\"uint8\")\n",
      "Model: Colorizing images:  26%|██▋       | 33/125 [00:09<00:21,  4.20it/s]/tmp/ipykernel_2183398/1344644219.py:49: UserWarning: Conversion from CIE-LAB, via XYZ to sRGB color space resulted in 7 negative Z values that have been clipped to zero\n",
      "  colorized_rgb = (lab2rgb(lab_img) * 255).astype(\"uint8\")\n",
      "Model: Colorizing images:  46%|████▋     | 58/125 [00:15<00:15,  4.26it/s]/tmp/ipykernel_2183398/1344644219.py:49: UserWarning: Conversion from CIE-LAB, via XYZ to sRGB color space resulted in 39 negative Z values that have been clipped to zero\n",
      "  colorized_rgb = (lab2rgb(lab_img) * 255).astype(\"uint8\")\n",
      "Model: Colorizing images:  53%|█████▎    | 66/125 [00:17<00:16,  3.60it/s]/tmp/ipykernel_2183398/1344644219.py:49: UserWarning: Conversion from CIE-LAB, via XYZ to sRGB color space resulted in 3 negative Z values that have been clipped to zero\n",
      "  colorized_rgb = (lab2rgb(lab_img) * 255).astype(\"uint8\")\n",
      "Model: Colorizing images:  68%|██████▊   | 85/125 [00:24<00:11,  3.56it/s]/tmp/ipykernel_2183398/1344644219.py:49: UserWarning: Conversion from CIE-LAB, via XYZ to sRGB color space resulted in 2 negative Z values that have been clipped to zero\n",
      "  colorized_rgb = (lab2rgb(lab_img) * 255).astype(\"uint8\")\n",
      "Model: Colorizing images: 100%|██████████| 125/125 [00:34<00:00,  3.57it/s]\n",
      "100%|██████████| 16/16 [00:26<00:00,  1.65s/it]"
     ]
    },
    {
     "name": "stdout",
     "output_type": "stream",
     "text": [
      "Number of 1's: 1833\n",
      "Number of 0's: 167\n",
      "Accuracy: 71.35%\n"
     ]
    },
    {
     "name": "stderr",
     "output_type": "stream",
     "text": [
      "\n"
     ]
    }
   ],
   "source": [
    "choices_coco, m1_coco, m2_coco = inference(paths_coco_test)\n",
    "results_coco = [m1 if choice == 0 else m2 for choice, m1, m2 in zip(choices_coco, m1_coco, m2_coco)]\n"
   ]
  },
  {
   "cell_type": "code",
   "execution_count": 64,
   "id": "0f96bf20",
   "metadata": {},
   "outputs": [
    {
     "name": "stderr",
     "output_type": "stream",
     "text": [
      "  2%|▏         | 31/2000 [00:06<06:07,  5.35it/s]/u/student/2021/cs21btech11002/CV_Project/COLORIZATION/colorizers/util.py:47: UserWarning: Conversion from CIE-LAB, via XYZ to sRGB color space resulted in 1 negative Z values that have been clipped to zero\n",
      "  return color.lab2rgb(out_lab_orig.data.cpu().numpy()[0,...].transpose((1,2,0)))\n",
      "  8%|▊         | 155/2000 [00:28<05:40,  5.42it/s]/u/student/2021/cs21btech11002/CV_Project/COLORIZATION/colorizers/util.py:47: UserWarning: Conversion from CIE-LAB, via XYZ to sRGB color space resulted in 21 negative Z values that have been clipped to zero\n",
      "  return color.lab2rgb(out_lab_orig.data.cpu().numpy()[0,...].transpose((1,2,0)))\n",
      "  8%|▊         | 157/2000 [00:28<05:39,  5.44it/s]/u/student/2021/cs21btech11002/CV_Project/COLORIZATION/colorizers/util.py:47: UserWarning: Conversion from CIE-LAB, via XYZ to sRGB color space resulted in 2 negative Z values that have been clipped to zero\n",
      "  return color.lab2rgb(out_lab_orig.data.cpu().numpy()[0,...].transpose((1,2,0)))\n",
      " 12%|█▏        | 242/2000 [00:45<05:59,  4.89it/s]/u/student/2021/cs21btech11002/CV_Project/COLORIZATION/colorizers/util.py:47: UserWarning: Conversion from CIE-LAB, via XYZ to sRGB color space resulted in 11 negative Z values that have been clipped to zero\n",
      "  return color.lab2rgb(out_lab_orig.data.cpu().numpy()[0,...].transpose((1,2,0)))\n",
      " 12%|█▏        | 247/2000 [00:45<04:16,  6.83it/s]/u/student/2021/cs21btech11002/CV_Project/COLORIZATION/colorizers/util.py:47: UserWarning: Conversion from CIE-LAB, via XYZ to sRGB color space resulted in 4 negative Z values that have been clipped to zero\n",
      "  return color.lab2rgb(out_lab_orig.data.cpu().numpy()[0,...].transpose((1,2,0)))\n",
      " 13%|█▎        | 264/2000 [00:48<04:36,  6.28it/s]/u/student/2021/cs21btech11002/CV_Project/COLORIZATION/colorizers/util.py:47: UserWarning: Conversion from CIE-LAB, via XYZ to sRGB color space resulted in 14 negative Z values that have been clipped to zero\n",
      "  return color.lab2rgb(out_lab_orig.data.cpu().numpy()[0,...].transpose((1,2,0)))\n",
      " 13%|█▎        | 265/2000 [00:49<04:51,  5.95it/s]/u/student/2021/cs21btech11002/CV_Project/COLORIZATION/colorizers/util.py:47: UserWarning: Conversion from CIE-LAB, via XYZ to sRGB color space resulted in 33 negative Z values that have been clipped to zero\n",
      "  return color.lab2rgb(out_lab_orig.data.cpu().numpy()[0,...].transpose((1,2,0)))\n",
      " 14%|█▎        | 272/2000 [00:50<04:59,  5.77it/s]/u/student/2021/cs21btech11002/CV_Project/COLORIZATION/colorizers/util.py:47: UserWarning: Conversion from CIE-LAB, via XYZ to sRGB color space resulted in 8 negative Z values that have been clipped to zero\n",
      "  return color.lab2rgb(out_lab_orig.data.cpu().numpy()[0,...].transpose((1,2,0)))\n",
      " 16%|█▋        | 330/2000 [01:00<04:06,  6.79it/s]/u/student/2021/cs21btech11002/CV_Project/COLORIZATION/colorizers/util.py:47: UserWarning: Conversion from CIE-LAB, via XYZ to sRGB color space resulted in 12 negative Z values that have been clipped to zero\n",
      "  return color.lab2rgb(out_lab_orig.data.cpu().numpy()[0,...].transpose((1,2,0)))\n",
      " 17%|█▋        | 342/2000 [01:02<05:00,  5.52it/s]/u/student/2021/cs21btech11002/CV_Project/COLORIZATION/colorizers/util.py:47: UserWarning: Conversion from CIE-LAB, via XYZ to sRGB color space resulted in 3 negative Z values that have been clipped to zero\n",
      "  return color.lab2rgb(out_lab_orig.data.cpu().numpy()[0,...].transpose((1,2,0)))\n",
      " 17%|█▋        | 344/2000 [01:03<04:48,  5.74it/s]/u/student/2021/cs21btech11002/CV_Project/COLORIZATION/colorizers/util.py:47: UserWarning: Conversion from CIE-LAB, via XYZ to sRGB color space resulted in 6 negative Z values that have been clipped to zero\n",
      "  return color.lab2rgb(out_lab_orig.data.cpu().numpy()[0,...].transpose((1,2,0)))\n",
      " 17%|█▋        | 349/2000 [01:03<04:19,  6.37it/s]/u/student/2021/cs21btech11002/CV_Project/COLORIZATION/colorizers/util.py:47: UserWarning: Conversion from CIE-LAB, via XYZ to sRGB color space resulted in 29 negative Z values that have been clipped to zero\n",
      "  return color.lab2rgb(out_lab_orig.data.cpu().numpy()[0,...].transpose((1,2,0)))\n",
      " 18%|█▊        | 355/2000 [01:05<05:00,  5.47it/s]/u/student/2021/cs21btech11002/CV_Project/COLORIZATION/colorizers/util.py:47: UserWarning: Conversion from CIE-LAB, via XYZ to sRGB color space resulted in 77 negative Z values that have been clipped to zero\n",
      "  return color.lab2rgb(out_lab_orig.data.cpu().numpy()[0,...].transpose((1,2,0)))\n",
      " 18%|█▊        | 364/2000 [01:06<04:30,  6.05it/s]/u/student/2021/cs21btech11002/CV_Project/COLORIZATION/colorizers/util.py:47: UserWarning: Conversion from CIE-LAB, via XYZ to sRGB color space resulted in 10 negative Z values that have been clipped to zero\n",
      "  return color.lab2rgb(out_lab_orig.data.cpu().numpy()[0,...].transpose((1,2,0)))\n",
      " 18%|█▊        | 369/2000 [01:07<04:48,  5.65it/s]/u/student/2021/cs21btech11002/CV_Project/COLORIZATION/colorizers/util.py:47: UserWarning: Conversion from CIE-LAB, via XYZ to sRGB color space resulted in 9 negative Z values that have been clipped to zero\n",
      "  return color.lab2rgb(out_lab_orig.data.cpu().numpy()[0,...].transpose((1,2,0)))\n",
      " 20%|██        | 400/2000 [01:12<04:46,  5.58it/s]/u/student/2021/cs21btech11002/CV_Project/COLORIZATION/colorizers/util.py:47: UserWarning: Conversion from CIE-LAB, via XYZ to sRGB color space resulted in 31 negative Z values that have been clipped to zero\n",
      "  return color.lab2rgb(out_lab_orig.data.cpu().numpy()[0,...].transpose((1,2,0)))\n",
      " 20%|██        | 406/2000 [01:13<04:14,  6.25it/s]/u/student/2021/cs21btech11002/CV_Project/COLORIZATION/colorizers/util.py:47: UserWarning: Conversion from CIE-LAB, via XYZ to sRGB color space resulted in 46 negative Z values that have been clipped to zero\n",
      "  return color.lab2rgb(out_lab_orig.data.cpu().numpy()[0,...].transpose((1,2,0)))\n",
      " 20%|██        | 409/2000 [01:13<04:16,  6.20it/s]/u/student/2021/cs21btech11002/CV_Project/COLORIZATION/colorizers/util.py:47: UserWarning: Conversion from CIE-LAB, via XYZ to sRGB color space resulted in 1018 negative Z values that have been clipped to zero\n",
      "  return color.lab2rgb(out_lab_orig.data.cpu().numpy()[0,...].transpose((1,2,0)))\n",
      " 21%|██        | 412/2000 [01:14<04:44,  5.59it/s]/u/student/2021/cs21btech11002/CV_Project/COLORIZATION/colorizers/util.py:47: UserWarning: Conversion from CIE-LAB, via XYZ to sRGB color space resulted in 5 negative Z values that have been clipped to zero\n",
      "  return color.lab2rgb(out_lab_orig.data.cpu().numpy()[0,...].transpose((1,2,0)))\n",
      " 21%|██▏       | 425/2000 [01:16<04:08,  6.34it/s]/u/student/2021/cs21btech11002/CV_Project/COLORIZATION/colorizers/util.py:47: UserWarning: Conversion from CIE-LAB, via XYZ to sRGB color space resulted in 45 negative Z values that have been clipped to zero\n",
      "  return color.lab2rgb(out_lab_orig.data.cpu().numpy()[0,...].transpose((1,2,0)))\n",
      " 21%|██▏       | 428/2000 [01:17<04:30,  5.80it/s]/u/student/2021/cs21btech11002/CV_Project/COLORIZATION/colorizers/util.py:47: UserWarning: Conversion from CIE-LAB, via XYZ to sRGB color space resulted in 36 negative Z values that have been clipped to zero\n",
      "  return color.lab2rgb(out_lab_orig.data.cpu().numpy()[0,...].transpose((1,2,0)))\n",
      " 22%|██▏       | 443/2000 [01:19<04:25,  5.86it/s]/u/student/2021/cs21btech11002/CV_Project/COLORIZATION/colorizers/util.py:47: UserWarning: Conversion from CIE-LAB, via XYZ to sRGB color space resulted in 27 negative Z values that have been clipped to zero\n",
      "  return color.lab2rgb(out_lab_orig.data.cpu().numpy()[0,...].transpose((1,2,0)))\n",
      " 24%|██▍       | 481/2000 [01:25<03:31,  7.19it/s]/u/student/2021/cs21btech11002/CV_Project/COLORIZATION/colorizers/util.py:47: UserWarning: Conversion from CIE-LAB, via XYZ to sRGB color space resulted in 24 negative Z values that have been clipped to zero\n",
      "  return color.lab2rgb(out_lab_orig.data.cpu().numpy()[0,...].transpose((1,2,0)))\n",
      " 25%|██▍       | 491/2000 [01:27<03:55,  6.42it/s]/u/student/2021/cs21btech11002/CV_Project/COLORIZATION/colorizers/util.py:47: UserWarning: Conversion from CIE-LAB, via XYZ to sRGB color space resulted in 18 negative Z values that have been clipped to zero\n",
      "  return color.lab2rgb(out_lab_orig.data.cpu().numpy()[0,...].transpose((1,2,0)))\n",
      " 31%|███       | 620/2000 [01:46<03:44,  6.16it/s]/u/student/2021/cs21btech11002/CV_Project/COLORIZATION/colorizers/util.py:47: UserWarning: Conversion from CIE-LAB, via XYZ to sRGB color space resulted in 394 negative Z values that have been clipped to zero\n",
      "  return color.lab2rgb(out_lab_orig.data.cpu().numpy()[0,...].transpose((1,2,0)))\n",
      " 36%|███▌      | 719/2000 [02:04<03:29,  6.12it/s]/u/student/2021/cs21btech11002/CV_Project/COLORIZATION/colorizers/util.py:47: UserWarning: Conversion from CIE-LAB, via XYZ to sRGB color space resulted in 13 negative Z values that have been clipped to zero\n",
      "  return color.lab2rgb(out_lab_orig.data.cpu().numpy()[0,...].transpose((1,2,0)))\n",
      " 37%|███▋      | 732/2000 [02:06<02:48,  7.51it/s]/u/student/2021/cs21btech11002/CV_Project/COLORIZATION/colorizers/util.py:47: UserWarning: Conversion from CIE-LAB, via XYZ to sRGB color space resulted in 7 negative Z values that have been clipped to zero\n",
      "  return color.lab2rgb(out_lab_orig.data.cpu().numpy()[0,...].transpose((1,2,0)))\n",
      " 38%|███▊      | 750/2000 [02:09<03:33,  5.86it/s]/u/student/2021/cs21btech11002/CV_Project/COLORIZATION/colorizers/util.py:47: UserWarning: Conversion from CIE-LAB, via XYZ to sRGB color space resulted in 67 negative Z values that have been clipped to zero\n",
      "  return color.lab2rgb(out_lab_orig.data.cpu().numpy()[0,...].transpose((1,2,0)))\n",
      " 38%|███▊      | 751/2000 [02:09<03:32,  5.88it/s]/u/student/2021/cs21btech11002/CV_Project/COLORIZATION/colorizers/util.py:47: UserWarning: Conversion from CIE-LAB, via XYZ to sRGB color space resulted in 278 negative Z values that have been clipped to zero\n",
      "  return color.lab2rgb(out_lab_orig.data.cpu().numpy()[0,...].transpose((1,2,0)))\n",
      " 39%|███▉      | 777/2000 [02:14<03:30,  5.81it/s]/u/student/2021/cs21btech11002/CV_Project/COLORIZATION/colorizers/util.py:47: UserWarning: Conversion from CIE-LAB, via XYZ to sRGB color space resulted in 100 negative Z values that have been clipped to zero\n",
      "  return color.lab2rgb(out_lab_orig.data.cpu().numpy()[0,...].transpose((1,2,0)))\n",
      " 41%|████▏     | 827/2000 [02:23<03:13,  6.05it/s]/u/student/2021/cs21btech11002/CV_Project/COLORIZATION/colorizers/util.py:47: UserWarning: Conversion from CIE-LAB, via XYZ to sRGB color space resulted in 115 negative Z values that have been clipped to zero\n",
      "  return color.lab2rgb(out_lab_orig.data.cpu().numpy()[0,...].transpose((1,2,0)))\n",
      " 48%|████▊     | 956/2000 [02:45<02:22,  7.31it/s]/u/student/2021/cs21btech11002/CV_Project/COLORIZATION/colorizers/util.py:47: UserWarning: Conversion from CIE-LAB, via XYZ to sRGB color space resulted in 51 negative Z values that have been clipped to zero\n",
      "  return color.lab2rgb(out_lab_orig.data.cpu().numpy()[0,...].transpose((1,2,0)))\n",
      " 55%|█████▍    | 1099/2000 [03:11<02:26,  6.16it/s]/u/student/2021/cs21btech11002/CV_Project/COLORIZATION/colorizers/util.py:47: UserWarning: Conversion from CIE-LAB, via XYZ to sRGB color space resulted in 22 negative Z values that have been clipped to zero\n",
      "  return color.lab2rgb(out_lab_orig.data.cpu().numpy()[0,...].transpose((1,2,0)))\n",
      " 66%|██████▋   | 1328/2000 [03:49<01:52,  5.98it/s]/u/student/2021/cs21btech11002/CV_Project/COLORIZATION/colorizers/util.py:47: UserWarning: Conversion from CIE-LAB, via XYZ to sRGB color space resulted in 52 negative Z values that have been clipped to zero\n",
      "  return color.lab2rgb(out_lab_orig.data.cpu().numpy()[0,...].transpose((1,2,0)))\n",
      " 69%|██████▉   | 1384/2000 [03:59<01:39,  6.18it/s]/u/student/2021/cs21btech11002/CV_Project/COLORIZATION/colorizers/util.py:47: UserWarning: Conversion from CIE-LAB, via XYZ to sRGB color space resulted in 211 negative Z values that have been clipped to zero\n",
      "  return color.lab2rgb(out_lab_orig.data.cpu().numpy()[0,...].transpose((1,2,0)))\n",
      " 74%|███████▎  | 1473/2000 [04:13<01:36,  5.44it/s]/u/student/2021/cs21btech11002/CV_Project/COLORIZATION/colorizers/util.py:47: UserWarning: Conversion from CIE-LAB, via XYZ to sRGB color space resulted in 198 negative Z values that have been clipped to zero\n",
      "  return color.lab2rgb(out_lab_orig.data.cpu().numpy()[0,...].transpose((1,2,0)))\n",
      " 76%|███████▋  | 1526/2000 [04:21<01:03,  7.45it/s]/u/student/2021/cs21btech11002/CV_Project/COLORIZATION/colorizers/util.py:47: UserWarning: Conversion from CIE-LAB, via XYZ to sRGB color space resulted in 17 negative Z values that have been clipped to zero\n",
      "  return color.lab2rgb(out_lab_orig.data.cpu().numpy()[0,...].transpose((1,2,0)))\n",
      " 78%|███████▊  | 1550/2000 [04:25<01:05,  6.91it/s]/u/student/2021/cs21btech11002/CV_Project/COLORIZATION/colorizers/util.py:47: UserWarning: Conversion from CIE-LAB, via XYZ to sRGB color space resulted in 92 negative Z values that have been clipped to zero\n",
      "  return color.lab2rgb(out_lab_orig.data.cpu().numpy()[0,...].transpose((1,2,0)))\n",
      " 78%|███████▊  | 1555/2000 [04:25<01:17,  5.78it/s]/u/student/2021/cs21btech11002/CV_Project/COLORIZATION/colorizers/util.py:47: UserWarning: Conversion from CIE-LAB, via XYZ to sRGB color space resulted in 39 negative Z values that have been clipped to zero\n",
      "  return color.lab2rgb(out_lab_orig.data.cpu().numpy()[0,...].transpose((1,2,0)))\n",
      " 89%|████████▉ | 1782/2000 [05:04<00:38,  5.60it/s]/u/student/2021/cs21btech11002/CV_Project/COLORIZATION/colorizers/util.py:47: UserWarning: Conversion from CIE-LAB, via XYZ to sRGB color space resulted in 23 negative Z values that have been clipped to zero\n",
      "  return color.lab2rgb(out_lab_orig.data.cpu().numpy()[0,...].transpose((1,2,0)))\n",
      " 95%|█████████▍| 1891/2000 [05:24<00:21,  5.05it/s]/u/student/2021/cs21btech11002/CV_Project/COLORIZATION/colorizers/util.py:47: UserWarning: Conversion from CIE-LAB, via XYZ to sRGB color space resulted in 233 negative Z values that have been clipped to zero\n",
      "  return color.lab2rgb(out_lab_orig.data.cpu().numpy()[0,...].transpose((1,2,0)))\n",
      "100%|██████████| 2000/2000 [05:44<00:00,  5.80it/s]\n",
      "Model: Colorizing images:   2%|▏         | 2/125 [00:01<01:30,  1.36it/s]/tmp/ipykernel_2183398/1344644219.py:49: UserWarning: Conversion from CIE-LAB, via XYZ to sRGB color space resulted in 1 negative Z values that have been clipped to zero\n",
      "  colorized_rgb = (lab2rgb(lab_img) * 255).astype(\"uint8\")\n",
      "Model: Colorizing images: 100%|██████████| 125/125 [00:29<00:00,  4.24it/s]\n",
      "100%|██████████| 16/16 [00:21<00:00,  1.36s/it]\n"
     ]
    },
    {
     "name": "stdout",
     "output_type": "stream",
     "text": [
      "Number of 1's: 1989\n",
      "Number of 0's: 11\n",
      "Accuracy: 17.55%\n"
     ]
    }
   ],
   "source": [
    "choices_imagenet, m1_imagenet, m2_imagenet = inference(paths_image_net_test)\n",
    "results_imagenet = [m1 if choice == 0 else m2 for choice, m1, m2 in zip(choices_imagenet, m1_imagenet, m2_imagenet)]"
   ]
  },
  {
   "cell_type": "code",
   "execution_count": 65,
   "id": "148015f6",
   "metadata": {},
   "outputs": [],
   "source": [
    "colorized_results_coco = [(orig_img, result) for orig_img, result in zip(paths_coco_test, results_coco)]\n",
    "colorized_results_imagenet = [(orig_img, result) for orig_img, result in zip(paths_image_net_test, results_imagenet)]"
   ]
  },
  {
   "cell_type": "code",
   "execution_count": null,
   "id": "f1f361ef",
   "metadata": {},
   "outputs": [],
   "source": [
    "import cv2\n",
    "def eval(test_path, colorized_results):    \n",
    "    # Compute metrics\n",
    "    ssim_scores = []\n",
    "    colorfulness_scores = []\n",
    "    color_harmony_scores = []\n",
    "    color_balance_scores = []\n",
    "    pcqi_scores = []\n",
    "    lpips_scores = []\n",
    "\n",
    "    for orig_img, colorized_rgb in tqdm(colorized_results):\n",
    "        orig_img = cv2.imread(orig_img)\n",
    "        orig_img = cv2.cvtColor(orig_img, cv2.COLOR_BGR2RGB)\n",
    "        #orig_img = np.array(orig_img).transpose(2, 0, 1)  # Convert to CHW format\n",
    "\n",
    "        colorized_rgb = np.array(colorized_rgb).transpose(1, 2, 0)  # Convert to HWC format\n",
    "        metrics = compute_metrics(orig_img, colorized_rgb)\n",
    "\n",
    "        ssim_scores.append(metrics['SSIM'])\n",
    "        colorfulness_scores.append(metrics['Colorfulness'])\n",
    "        color_harmony_scores.append(metrics['Color Harmony'])\n",
    "        color_balance_scores.append(metrics['Color Balance'])\n",
    "        pcqi_scores.append(metrics['PCQI'])\n",
    "        lpips_scores.append(metrics['LPIPS']) \n",
    "\n",
    "    # Calculate average scores\n",
    "    avg_ssim = np.mean(ssim_scores)\n",
    "    avg_colorfulness = np.mean(colorfulness_scores)\n",
    "    avg_color_harmony = np.mean(color_harmony_scores)\n",
    "    avg_color_balance = np.mean(color_balance_scores)\n",
    "    avg_pcqi = np.mean(pcqi_scores)\n",
    "    avg_lpips = np.mean(lpips_scores)\n",
    "\n",
    "    # Calculate standard deviation scores\n",
    "    std_ssim = np.std(ssim_scores)\n",
    "    std_colorfulness = np.std(colorfulness_scores)\n",
    "    std_color_harmony = np.std(color_harmony_scores)\n",
    "    std_color_balance = np.std(color_balance_scores)\n",
    "    std_pcqi = np.std(pcqi_scores)\n",
    "    std_lpips = np.std(lpips_scores)\n",
    "\n",
    "    if test_path == paths_coco_test:\n",
    "        print(\"COCO Dataset Metrics:\")\n",
    "    else:\n",
    "        print(\"ImageNet Dataset Metrics:\")\n",
    "\n",
    "    print(f\"Average SSIM: {avg_ssim:.3f} ± {std_ssim:.3f}\")\n",
    "    print(f\"Average Colorfulness: {avg_colorfulness:.3f} ± {std_colorfulness:.3f}\")\n",
    "    print(f\"Average Color Harmony: {avg_color_harmony:.3f} ± {std_color_harmony:.3f}\")\n",
    "    print(f\"Average Color Balance: {avg_color_balance:.3f} ± {std_color_balance:.3f}\")\n",
    "    print(f\"Average PCQI: {avg_pcqi:.3f} ± {std_pcqi:.3f}\")\n",
    "    print(f\"Average LPIPS: {avg_lpips:.3f} ± {std_lpips:.3f}\")"
   ]
  },
  {
   "cell_type": "code",
   "execution_count": 81,
   "id": "ee3e03d3",
   "metadata": {},
   "outputs": [
    {
     "name": "stderr",
     "output_type": "stream",
     "text": [
      "100%|██████████| 2000/2000 [04:07<00:00,  8.07it/s]"
     ]
    },
    {
     "name": "stdout",
     "output_type": "stream",
     "text": [
      "COCO Dataset Metrics:\n",
      "Average SSIM: 0.855 ± 0.067\n",
      "Average Colorfulness: 137.096 ± 36.207\n",
      "Average Color Harmony: 0.004 ± 0.028\n",
      "Average Color Balance: 1.664 ± 0.175\n",
      "Average PCQI: 1.874 ± 0.469\n",
      "Average LPIPS: 0.187 ± 0.060\n"
     ]
    },
    {
     "name": "stderr",
     "output_type": "stream",
     "text": [
      "\n"
     ]
    }
   ],
   "source": [
    "eval(paths_coco_test, colorized_results_coco)\n"
   ]
  },
  {
   "cell_type": "code",
   "execution_count": 82,
   "id": "da8865dc",
   "metadata": {},
   "outputs": [
    {
     "name": "stderr",
     "output_type": "stream",
     "text": [
      "100%|██████████| 2000/2000 [04:17<00:00,  7.76it/s]"
     ]
    },
    {
     "name": "stdout",
     "output_type": "stream",
     "text": [
      "ImageNet Dataset Metrics:\n",
      "Average SSIM: 0.865 ± 0.064\n",
      "Average Colorfulness: 138.715 ± 31.677\n",
      "Average Color Harmony: 0.002 ± 0.007\n",
      "Average Color Balance: 1.681 ± 0.146\n",
      "Average PCQI: 1.795 ± 0.464\n",
      "Average LPIPS: 0.243 ± 0.080\n"
     ]
    },
    {
     "name": "stderr",
     "output_type": "stream",
     "text": [
      "\n"
     ]
    }
   ],
   "source": [
    "eval(paths_image_net_test, colorized_results_imagenet)"
   ]
  },
  {
   "cell_type": "code",
   "execution_count": 87,
   "id": "c946ad6e",
   "metadata": {},
   "outputs": [],
   "source": [
    "import os\n",
    "from PIL import Image\n",
    "\n",
    "# Directory to save the images\n",
    "output_dir1 = \"ensemble_results_coco\"\n",
    "output_dir2 = \"ensemble_original_coco\"\n",
    "os.makedirs(output_dir1, exist_ok=True)\n",
    "os.makedirs(output_dir2, exist_ok=True)\n",
    "\n",
    "# Save the first 100 images\n",
    "for i, images in enumerate(colorized_results_coco[:100]):\n",
    "    orig_img, colorized_rgb = images\n",
    "    orig_img = Image.open(orig_img).convert(\"RGB\")\n",
    "    orig_img.save(os.path.join(output_dir1, f\"original{i+1}.png\"))\n",
    "    colorized_rgb = colorized_rgb.permute(1, 2, 0).numpy()  # Convert CHW to HWC\n",
    "    colorized_rgb = Image.fromarray(colorized_rgb.astype('uint8'))\n",
    "    colorized_rgb.save(os.path.join(output_dir2, f\"colorised{i+1}.png\"))\n"
   ]
  },
  {
   "cell_type": "code",
   "execution_count": 88,
   "id": "c594c7ae",
   "metadata": {},
   "outputs": [],
   "source": [
    "# Directory to save the images\n",
    "output_dir1 = \"ensemble_results_imagenet\"\n",
    "output_dir2 = \"ensemble_original_imagenet\"\n",
    "os.makedirs(output_dir1, exist_ok=True)\n",
    "os.makedirs(output_dir2, exist_ok=True)\n",
    "\n",
    "# Save the first 100 images\n",
    "for i, images in enumerate(colorized_results_imagenet[:100]):\n",
    "    orig_img, colorized_rgb = images\n",
    "    orig_img = Image.open(orig_img).convert(\"RGB\")\n",
    "    orig_img.save(os.path.join(output_dir1, f\"original{i+1}.png\"))\n",
    "    colorized_rgb = colorized_rgb.permute(1, 2, 0).numpy()  # Convert CHW to HWC\n",
    "    colorized_rgb = Image.fromarray(colorized_rgb.astype('uint8'))\n",
    "    colorized_rgb.save(os.path.join(output_dir2, f\"colorised{i+1}.png\"))"
   ]
  }
 ],
 "metadata": {
  "kernelspec": {
   "display_name": "cGAN",
   "language": "python",
   "name": "python3"
  },
  "language_info": {
   "codemirror_mode": {
    "name": "ipython",
    "version": 3
   },
   "file_extension": ".py",
   "mimetype": "text/x-python",
   "name": "python",
   "nbconvert_exporter": "python",
   "pygments_lexer": "ipython3",
   "version": "3.9.21"
  }
 },
 "nbformat": 4,
 "nbformat_minor": 5
}
