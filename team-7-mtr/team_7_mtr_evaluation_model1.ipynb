{
 "cells": [
  {
   "cell_type": "code",
   "execution_count": 1,
   "metadata": {},
   "outputs": [
    {
     "name": "stderr",
     "output_type": "stream",
     "text": [
      "  0%|          | 0/1000 [00:00<?, ?it/s]"
     ]
    },
    {
     "name": "stdout",
     "output_type": "stream",
     "text": [
      "Processing: ../../project/unlabeled2017/000000424574.jpg\n"
     ]
    },
    {
     "name": "stderr",
     "output_type": "stream",
     "text": [
      "  0%|          | 1/1000 [00:05<1:32:04,  5.53s/it]"
     ]
    },
    {
     "name": "stdout",
     "output_type": "stream",
     "text": [
      "Processing: ../../project/unlabeled2017/000000259058.jpg\n"
     ]
    },
    {
     "name": "stderr",
     "output_type": "stream",
     "text": [
      "  0%|          | 2/1000 [00:11<1:32:05,  5.54s/it]"
     ]
    },
    {
     "name": "stdout",
     "output_type": "stream",
     "text": [
      "Processing: ../../project/unlabeled2017/000000511722.jpg\n"
     ]
    },
    {
     "name": "stderr",
     "output_type": "stream",
     "text": [
      "/home/venkateshp/miniconda3/envs/pse_env/lib/python3.8/site-packages/skimage/_shared/utils.py:394: UserWarning: Color data out of range: Z < 0 in 51 pixels\n",
      "  return func(*args, **kwargs)\n",
      "  0%|          | 3/1000 [00:16<1:30:26,  5.44s/it]"
     ]
    },
    {
     "name": "stdout",
     "output_type": "stream",
     "text": [
      "Processing: ../../project/unlabeled2017/000000040456.jpg\n"
     ]
    },
    {
     "name": "stderr",
     "output_type": "stream",
     "text": [
      "/home/venkateshp/miniconda3/envs/pse_env/lib/python3.8/site-packages/skimage/_shared/utils.py:394: UserWarning: Color data out of range: Z < 0 in 8 pixels\n",
      "  return func(*args, **kwargs)\n",
      "  0%|          | 4/1000 [00:22<1:32:13,  5.56s/it]"
     ]
    },
    {
     "name": "stdout",
     "output_type": "stream",
     "text": [
      "Processing: ../../project/unlabeled2017/000000082587.jpg\n"
     ]
    },
    {
     "name": "stderr",
     "output_type": "stream",
     "text": [
      "  0%|          | 5/1000 [00:27<1:32:45,  5.59s/it]"
     ]
    },
    {
     "name": "stdout",
     "output_type": "stream",
     "text": [
      "Processing: ../../project/unlabeled2017/000000304035.jpg\n"
     ]
    },
    {
     "name": "stderr",
     "output_type": "stream",
     "text": [
      "  1%|          | 6/1000 [00:33<1:35:03,  5.74s/it]"
     ]
    },
    {
     "name": "stdout",
     "output_type": "stream",
     "text": [
      "Processing: ../../project/unlabeled2017/000000040824.jpg\n"
     ]
    },
    {
     "name": "stderr",
     "output_type": "stream",
     "text": [
      "/home/venkateshp/miniconda3/envs/pse_env/lib/python3.8/site-packages/skimage/_shared/utils.py:394: UserWarning: Color data out of range: Z < 0 in 189 pixels\n",
      "  return func(*args, **kwargs)\n",
      "  1%|          | 7/1000 [00:39<1:35:03,  5.74s/it]"
     ]
    },
    {
     "name": "stdout",
     "output_type": "stream",
     "text": [
      "Processing: ../../project/unlabeled2017/000000369550.jpg\n"
     ]
    },
    {
     "name": "stderr",
     "output_type": "stream",
     "text": [
      "  1%|          | 8/1000 [00:45<1:33:54,  5.68s/it]"
     ]
    },
    {
     "name": "stdout",
     "output_type": "stream",
     "text": [
      "Processing: ../../project/unlabeled2017/000000095779.jpg\n"
     ]
    },
    {
     "name": "stderr",
     "output_type": "stream",
     "text": [
      "/home/venkateshp/miniconda3/envs/pse_env/lib/python3.8/site-packages/skimage/_shared/utils.py:394: UserWarning: Color data out of range: Z < 0 in 122 pixels\n",
      "  return func(*args, **kwargs)\n",
      "  1%|          | 9/1000 [00:50<1:32:53,  5.62s/it]"
     ]
    },
    {
     "name": "stdout",
     "output_type": "stream",
     "text": [
      "Processing: ../../project/unlabeled2017/000000197914.jpg\n"
     ]
    },
    {
     "name": "stderr",
     "output_type": "stream",
     "text": [
      "/home/venkateshp/miniconda3/envs/pse_env/lib/python3.8/site-packages/skimage/_shared/utils.py:394: UserWarning: Color data out of range: Z < 0 in 28 pixels\n",
      "  return func(*args, **kwargs)\n",
      "  1%|          | 10/1000 [00:56<1:32:21,  5.60s/it]"
     ]
    },
    {
     "name": "stdout",
     "output_type": "stream",
     "text": [
      "Processing: ../../project/unlabeled2017/000000013643.jpg\n"
     ]
    },
    {
     "name": "stderr",
     "output_type": "stream",
     "text": [
      "/home/venkateshp/miniconda3/envs/pse_env/lib/python3.8/site-packages/skimage/_shared/utils.py:394: UserWarning: Color data out of range: Z < 0 in 81 pixels\n",
      "  return func(*args, **kwargs)\n",
      "  1%|          | 11/1000 [01:01<1:30:48,  5.51s/it]"
     ]
    },
    {
     "name": "stdout",
     "output_type": "stream",
     "text": [
      "Processing: ../../project/unlabeled2017/000000267728.jpg\n"
     ]
    },
    {
     "name": "stderr",
     "output_type": "stream",
     "text": [
      "/home/venkateshp/miniconda3/envs/pse_env/lib/python3.8/site-packages/skimage/_shared/utils.py:394: UserWarning: Color data out of range: Z < 0 in 38 pixels\n",
      "  return func(*args, **kwargs)\n",
      "  1%|          | 12/1000 [01:07<1:31:20,  5.55s/it]"
     ]
    },
    {
     "name": "stdout",
     "output_type": "stream",
     "text": [
      "Processing: ../../project/unlabeled2017/000000440728.jpg\n"
     ]
    },
    {
     "name": "stderr",
     "output_type": "stream",
     "text": [
      "/home/venkateshp/miniconda3/envs/pse_env/lib/python3.8/site-packages/skimage/_shared/utils.py:394: UserWarning: Color data out of range: Z < 0 in 88 pixels\n",
      "  return func(*args, **kwargs)\n",
      "  1%|▏         | 13/1000 [01:12<1:32:37,  5.63s/it]"
     ]
    },
    {
     "name": "stdout",
     "output_type": "stream",
     "text": [
      "Processing: ../../project/unlabeled2017/000000336085.jpg\n"
     ]
    },
    {
     "name": "stderr",
     "output_type": "stream",
     "text": [
      "/home/venkateshp/miniconda3/envs/pse_env/lib/python3.8/site-packages/skimage/_shared/utils.py:394: UserWarning: Color data out of range: Z < 0 in 62 pixels\n",
      "  return func(*args, **kwargs)\n",
      "/home/venkateshp/miniconda3/envs/pse_env/lib/python3.8/site-packages/skimage/_shared/utils.py:394: UserWarning: Color data out of range: Z < 0 in 2 pixels\n",
      "  return func(*args, **kwargs)\n",
      "  1%|▏         | 14/1000 [01:18<1:34:33,  5.75s/it]"
     ]
    },
    {
     "name": "stdout",
     "output_type": "stream",
     "text": [
      "Processing: ../../project/unlabeled2017/000000511085.jpg\n"
     ]
    },
    {
     "name": "stderr",
     "output_type": "stream",
     "text": [
      "/home/venkateshp/miniconda3/envs/pse_env/lib/python3.8/site-packages/skimage/_shared/utils.py:394: UserWarning: Color data out of range: Z < 0 in 1 pixels\n",
      "  return func(*args, **kwargs)\n",
      "  2%|▏         | 15/1000 [01:24<1:34:26,  5.75s/it]"
     ]
    },
    {
     "name": "stdout",
     "output_type": "stream",
     "text": [
      "Processing: ../../project/unlabeled2017/000000247238.jpg\n"
     ]
    },
    {
     "name": "stderr",
     "output_type": "stream",
     "text": [
      "  2%|▏         | 16/1000 [01:30<1:33:22,  5.69s/it]"
     ]
    },
    {
     "name": "stdout",
     "output_type": "stream",
     "text": [
      "Processing: ../../project/unlabeled2017/000000399843.jpg\n"
     ]
    },
    {
     "name": "stderr",
     "output_type": "stream",
     "text": [
      "  2%|▏         | 17/1000 [01:35<1:32:17,  5.63s/it]"
     ]
    },
    {
     "name": "stdout",
     "output_type": "stream",
     "text": [
      "Processing: ../../project/unlabeled2017/000000550730.jpg\n"
     ]
    },
    {
     "name": "stderr",
     "output_type": "stream",
     "text": [
      "/home/venkateshp/miniconda3/envs/pse_env/lib/python3.8/site-packages/skimage/_shared/utils.py:394: UserWarning: Color data out of range: Z < 0 in 56 pixels\n",
      "  return func(*args, **kwargs)\n",
      "  2%|▏         | 18/1000 [01:41<1:30:45,  5.54s/it]"
     ]
    },
    {
     "name": "stdout",
     "output_type": "stream",
     "text": [
      "Processing: ../../project/unlabeled2017/000000570587.jpg\n"
     ]
    },
    {
     "name": "stderr",
     "output_type": "stream",
     "text": [
      "  2%|▏         | 19/1000 [01:46<1:29:38,  5.48s/it]"
     ]
    },
    {
     "name": "stdout",
     "output_type": "stream",
     "text": [
      "Processing: ../../project/unlabeled2017/000000472798.jpg\n"
     ]
    },
    {
     "name": "stderr",
     "output_type": "stream",
     "text": [
      "  2%|▏         | 20/1000 [01:51<1:29:47,  5.50s/it]"
     ]
    },
    {
     "name": "stdout",
     "output_type": "stream",
     "text": [
      "Processing: ../../project/unlabeled2017/000000162359.jpg\n"
     ]
    },
    {
     "name": "stderr",
     "output_type": "stream",
     "text": [
      "  2%|▏         | 21/1000 [01:57<1:30:27,  5.54s/it]"
     ]
    },
    {
     "name": "stdout",
     "output_type": "stream",
     "text": [
      "Processing: ../../project/unlabeled2017/000000255798.jpg\n"
     ]
    },
    {
     "name": "stderr",
     "output_type": "stream",
     "text": [
      "  2%|▏         | 22/1000 [02:03<1:30:13,  5.54s/it]"
     ]
    },
    {
     "name": "stdout",
     "output_type": "stream",
     "text": [
      "Processing: ../../project/unlabeled2017/000000324957.jpg\n"
     ]
    },
    {
     "name": "stderr",
     "output_type": "stream",
     "text": [
      "  2%|▏         | 23/1000 [02:08<1:30:23,  5.55s/it]"
     ]
    },
    {
     "name": "stdout",
     "output_type": "stream",
     "text": [
      "Processing: ../../project/unlabeled2017/000000297649.jpg\n"
     ]
    },
    {
     "name": "stderr",
     "output_type": "stream",
     "text": [
      "/home/venkateshp/miniconda3/envs/pse_env/lib/python3.8/site-packages/skimage/_shared/utils.py:394: UserWarning: Color data out of range: Z < 0 in 2 pixels\n",
      "  return func(*args, **kwargs)\n",
      "  2%|▏         | 24/1000 [02:14<1:29:01,  5.47s/it]"
     ]
    },
    {
     "name": "stdout",
     "output_type": "stream",
     "text": [
      "Processing: ../../project/unlabeled2017/000000211773.jpg\n"
     ]
    },
    {
     "name": "stderr",
     "output_type": "stream",
     "text": [
      "  2%|▎         | 25/1000 [02:19<1:29:18,  5.50s/it]"
     ]
    },
    {
     "name": "stdout",
     "output_type": "stream",
     "text": [
      "Processing: ../../project/unlabeled2017/000000167875.jpg\n"
     ]
    },
    {
     "name": "stderr",
     "output_type": "stream",
     "text": [
      "/home/venkateshp/miniconda3/envs/pse_env/lib/python3.8/site-packages/skimage/_shared/utils.py:394: UserWarning: Color data out of range: Z < 0 in 55 pixels\n",
      "  return func(*args, **kwargs)\n",
      "  3%|▎         | 26/1000 [02:25<1:29:09,  5.49s/it]"
     ]
    },
    {
     "name": "stdout",
     "output_type": "stream",
     "text": [
      "Processing: ../../project/unlabeled2017/000000167407.jpg\n"
     ]
    },
    {
     "name": "stderr",
     "output_type": "stream",
     "text": [
      "/home/venkateshp/miniconda3/envs/pse_env/lib/python3.8/site-packages/skimage/_shared/utils.py:394: UserWarning: Color data out of range: Z < 0 in 166 pixels\n",
      "  return func(*args, **kwargs)\n",
      "/home/venkateshp/miniconda3/envs/pse_env/lib/python3.8/site-packages/skimage/_shared/utils.py:394: UserWarning: Color data out of range: Z < 0 in 13 pixels\n",
      "  return func(*args, **kwargs)\n",
      "  3%|▎         | 27/1000 [02:30<1:29:48,  5.54s/it]"
     ]
    },
    {
     "name": "stdout",
     "output_type": "stream",
     "text": [
      "Processing: ../../project/unlabeled2017/000000580341.jpg\n"
     ]
    },
    {
     "name": "stderr",
     "output_type": "stream",
     "text": [
      "  3%|▎         | 28/1000 [02:36<1:28:47,  5.48s/it]"
     ]
    },
    {
     "name": "stdout",
     "output_type": "stream",
     "text": [
      "Processing: ../../project/unlabeled2017/000000316232.jpg\n"
     ]
    },
    {
     "name": "stderr",
     "output_type": "stream",
     "text": [
      "/home/venkateshp/miniconda3/envs/pse_env/lib/python3.8/site-packages/skimage/_shared/utils.py:394: UserWarning: Color data out of range: Z < 0 in 233 pixels\n",
      "  return func(*args, **kwargs)\n",
      "/home/venkateshp/miniconda3/envs/pse_env/lib/python3.8/site-packages/skimage/_shared/utils.py:394: UserWarning: Color data out of range: Z < 0 in 3 pixels\n",
      "  return func(*args, **kwargs)\n",
      "  3%|▎         | 29/1000 [02:41<1:29:07,  5.51s/it]"
     ]
    },
    {
     "name": "stdout",
     "output_type": "stream",
     "text": [
      "Processing: ../../project/unlabeled2017/000000365290.jpg\n"
     ]
    },
    {
     "name": "stderr",
     "output_type": "stream",
     "text": [
      "  3%|▎         | 30/1000 [02:47<1:31:58,  5.69s/it]"
     ]
    },
    {
     "name": "stdout",
     "output_type": "stream",
     "text": [
      "Processing: ../../project/unlabeled2017/000000052651.jpg\n"
     ]
    },
    {
     "name": "stderr",
     "output_type": "stream",
     "text": [
      "  3%|▎         | 31/1000 [02:53<1:31:39,  5.68s/it]"
     ]
    },
    {
     "name": "stdout",
     "output_type": "stream",
     "text": [
      "Processing: ../../project/unlabeled2017/000000222183.jpg\n"
     ]
    },
    {
     "name": "stderr",
     "output_type": "stream",
     "text": [
      "Traceback (most recent call last):\n",
      "  File \"demo_release.py\", line 27, in <module>\n",
      "    image_files = [f for f in os.listdir(image_dir)[:1000] if f.lower().endswith(('.jpg', '.jpeg', '.png'))]\n",
      "NameError: name 'os' is not defined\n",
      "  3%|▎         | 32/1000 [02:57<1:22:55,  5.14s/it]  File \"demo_release.py\", line 29\n",
      "    img = load_img(opt.img_path)\n",
      "    ^\n",
      "IndentationError: unexpected indent\n",
      "  File \"demo_release.py\", line 29\n",
      "    img = load_img(opt.img_path)\n",
      "    ^\n",
      "IndentationError: unexpected indent\n",
      "  File \"demo_release.py\", line 29\n",
      "    img = load_img(opt.img_path)\n",
      "    ^\n",
      "IndentationError: unexpected indent\n",
      "  File \"demo_release.py\", line 29\n",
      "    img = load_img(opt.img_path)\n",
      "    ^\n",
      "IndentationError: unexpected indent\n",
      "  4%|▎         | 36/1000 [02:57<30:45,  1.91s/it]    File \"demo_release.py\", line 29\n",
      "    img = load_img(opt.img_path)\n",
      "    ^\n",
      "IndentationError: unexpected indent\n",
      "  File \"demo_release.py\", line 29\n",
      "    img = load_img(opt.img_path)\n",
      "    ^\n",
      "IndentationError: unexpected indent\n"
     ]
    },
    {
     "name": "stdout",
     "output_type": "stream",
     "text": [
      "Processing: ../../project/unlabeled2017/000000178027.jpg\n",
      "Processing: ../../project/unlabeled2017/000000196326.jpg\n",
      "Processing: ../../project/unlabeled2017/000000288269.jpg\n",
      "Processing: ../../project/unlabeled2017/000000127255.jpg\n",
      "Processing: ../../project/unlabeled2017/000000368310.jpg\n",
      "Processing: ../../project/unlabeled2017/000000420818.jpg\n",
      "Processing: ../../project/unlabeled2017/000000386011.jpg\n"
     ]
    },
    {
     "name": "stderr",
     "output_type": "stream",
     "text": [
      "  File \"demo_release.py\", line 29\n",
      "    img = load_img(opt.img_path)\n",
      "    ^\n",
      "IndentationError: unexpected indent\n",
      "  File \"demo_release.py\", line 29\n",
      "    img = load_img(opt.img_path)\n",
      "    ^\n",
      "IndentationError: unexpected indent\n",
      "  4%|▍         | 40/1000 [02:57<16:20,  1.02s/it]  File \"demo_release.py\", line 29\n",
      "    img = load_img(opt.img_path)\n",
      "    ^\n",
      "IndentationError: unexpected indent\n",
      "  File \"demo_release.py\", line 29\n",
      "    img = load_img(opt.img_path)\n",
      "    ^\n",
      "IndentationError: unexpected indent\n",
      "  File \"demo_release.py\", line 29\n",
      "    img = load_img(opt.img_path)\n",
      "    ^\n",
      "IndentationError: unexpected indent\n",
      "  File \"demo_release.py\", line 29\n",
      "    img = load_img(opt.img_path)\n",
      "    ^\n",
      "IndentationError: unexpected indent\n",
      "  4%|▍         | 44/1000 [02:57<09:54,  1.61it/s]  File \"demo_release.py\", line 29\n",
      "    img = load_img(opt.img_path)\n",
      "    ^\n",
      "IndentationError: unexpected indent\n"
     ]
    },
    {
     "name": "stdout",
     "output_type": "stream",
     "text": [
      "Processing: ../../project/unlabeled2017/000000073501.jpg\n",
      "Processing: ../../project/unlabeled2017/000000337162.jpg\n",
      "Processing: ../../project/unlabeled2017/000000037998.jpg\n",
      "Processing: ../../project/unlabeled2017/000000494247.jpg\n",
      "Processing: ../../project/unlabeled2017/000000202334.jpg\n",
      "Processing: ../../project/unlabeled2017/000000530800.jpg\n",
      "Processing: ../../project/unlabeled2017/000000507849.jpg\n"
     ]
    },
    {
     "name": "stderr",
     "output_type": "stream",
     "text": [
      "  File \"demo_release.py\", line 29\n",
      "    img = load_img(opt.img_path)\n",
      "    ^\n",
      "IndentationError: unexpected indent\n",
      "  File \"demo_release.py\", line 29\n",
      "    img = load_img(opt.img_path)\n",
      "    ^\n",
      "IndentationError: unexpected indent\n",
      "  File \"demo_release.py\", line 29\n",
      "    img = load_img(opt.img_path)\n",
      "    ^\n",
      "IndentationError: unexpected indent\n",
      "  5%|▍         | 48/1000 [02:57<06:25,  2.47it/s]  File \"demo_release.py\", line 29\n",
      "    img = load_img(opt.img_path)\n",
      "    ^\n",
      "IndentationError: unexpected indent\n",
      "  File \"demo_release.py\", line 29\n",
      "    img = load_img(opt.img_path)\n",
      "    ^\n",
      "IndentationError: unexpected indent\n",
      "  File \"demo_release.py\", line 29\n",
      "    img = load_img(opt.img_path)\n",
      "    ^\n",
      "IndentationError: unexpected indent\n",
      "  File \"demo_release.py\", line 29\n",
      "    img = load_img(opt.img_path)\n",
      "    ^\n",
      "IndentationError: unexpected indent\n",
      "  5%|▌         | 52/1000 [02:57<04:22,  3.62it/s]"
     ]
    },
    {
     "name": "stdout",
     "output_type": "stream",
     "text": [
      "Processing: ../../project/unlabeled2017/000000476686.jpg\n",
      "Processing: ../../project/unlabeled2017/000000278308.jpg\n",
      "Processing: ../../project/unlabeled2017/000000166247.jpg\n",
      "Processing: ../../project/unlabeled2017/000000353499.jpg\n",
      "Processing: ../../project/unlabeled2017/000000251686.jpg\n",
      "Processing: ../../project/unlabeled2017/000000320849.jpg\n",
      "Processing: ../../project/unlabeled2017/000000083812.jpg\n"
     ]
    },
    {
     "name": "stderr",
     "output_type": "stream",
     "text": [
      "  File \"demo_release.py\", line 29\n",
      "    img = load_img(opt.img_path)\n",
      "    ^\n",
      "IndentationError: unexpected indent\n",
      "  File \"demo_release.py\", line 29\n",
      "    img = load_img(opt.img_path)\n",
      "    ^\n",
      "IndentationError: unexpected indent\n",
      "  File \"demo_release.py\", line 29\n",
      "    img = load_img(opt.img_path)\n",
      "    ^\n",
      "IndentationError: unexpected indent\n",
      "  File \"demo_release.py\", line 29\n",
      "    img = load_img(opt.img_path)\n",
      "    ^\n",
      "IndentationError: unexpected indent\n",
      "  6%|▌         | 56/1000 [02:58<03:05,  5.09it/s]  File \"demo_release.py\", line 29\n",
      "    img = load_img(opt.img_path)\n",
      "    ^\n",
      "IndentationError: unexpected indent\n",
      "  File \"demo_release.py\", line 29\n",
      "    img = load_img(opt.img_path)\n",
      "    ^\n",
      "IndentationError: unexpected indent\n",
      "  File \"demo_release.py\", line 29\n",
      "    img = load_img(opt.img_path)\n",
      "    ^\n",
      "IndentationError: unexpected indent\n"
     ]
    },
    {
     "name": "stdout",
     "output_type": "stream",
     "text": [
      "Processing: ../../project/unlabeled2017/000000230384.jpg\n",
      "Processing: ../../project/unlabeled2017/000000563667.jpg\n",
      "Processing: ../../project/unlabeled2017/000000158537.jpg\n",
      "Processing: ../../project/unlabeled2017/000000461478.jpg\n",
      "Processing: ../../project/unlabeled2017/000000014648.jpg\n",
      "Processing: ../../project/unlabeled2017/000000221096.jpg\n",
      "Processing: ../../project/unlabeled2017/000000208518.jpg\n"
     ]
    },
    {
     "name": "stderr",
     "output_type": "stream",
     "text": [
      "  File \"demo_release.py\", line 29\n",
      "    img = load_img(opt.img_path)\n",
      "    ^\n",
      "IndentationError: unexpected indent\n",
      "  6%|▌         | 60/1000 [02:58<02:15,  6.92it/s]  File \"demo_release.py\", line 29\n",
      "    img = load_img(opt.img_path)\n",
      "    ^\n",
      "IndentationError: unexpected indent\n",
      "  File \"demo_release.py\", line 29\n",
      "    img = load_img(opt.img_path)\n",
      "    ^\n",
      "IndentationError: unexpected indent\n",
      "  File \"demo_release.py\", line 29\n",
      "    img = load_img(opt.img_path)\n",
      "    ^\n",
      "IndentationError: unexpected indent\n",
      "  File \"demo_release.py\", line 29\n",
      "    img = load_img(opt.img_path)\n",
      "    ^\n",
      "IndentationError: unexpected indent\n",
      "  6%|▋         | 64/1000 [02:58<01:42,  9.13it/s]  File \"demo_release.py\", line 29\n",
      "    img = load_img(opt.img_path)\n",
      "    ^\n",
      "IndentationError: unexpected indent\n",
      "  File \"demo_release.py\", line 29\n",
      "    img = load_img(opt.img_path)\n",
      "    ^\n",
      "IndentationError: unexpected indent\n"
     ]
    },
    {
     "name": "stdout",
     "output_type": "stream",
     "text": [
      "Processing: ../../project/unlabeled2017/000000023601.jpg\n",
      "Processing: ../../project/unlabeled2017/000000418551.jpg\n",
      "Processing: ../../project/unlabeled2017/000000108190.jpg\n",
      "Processing: ../../project/unlabeled2017/000000149625.jpg\n",
      "Processing: ../../project/unlabeled2017/000000011116.jpg\n",
      "Processing: ../../project/unlabeled2017/000000331729.jpg\n",
      "Processing: ../../project/unlabeled2017/000000414536.jpg\n"
     ]
    },
    {
     "name": "stderr",
     "output_type": "stream",
     "text": [
      "  File \"demo_release.py\", line 29\n",
      "    img = load_img(opt.img_path)\n",
      "    ^\n",
      "IndentationError: unexpected indent\n",
      "  File \"demo_release.py\", line 29\n",
      "    img = load_img(opt.img_path)\n",
      "    ^\n",
      "IndentationError: unexpected indent\n",
      "  7%|▋         | 68/1000 [02:58<01:19, 11.66it/s]  File \"demo_release.py\", line 29\n",
      "    img = load_img(opt.img_path)\n",
      "    ^\n",
      "IndentationError: unexpected indent\n",
      "  File \"demo_release.py\", line 29\n",
      "    img = load_img(opt.img_path)\n",
      "    ^\n",
      "IndentationError: unexpected indent\n",
      "  File \"demo_release.py\", line 29\n",
      "    img = load_img(opt.img_path)\n",
      "    ^\n",
      "IndentationError: unexpected indent\n",
      "  File \"demo_release.py\", line 29\n",
      "    img = load_img(opt.img_path)\n",
      "    ^\n",
      "IndentationError: unexpected indent\n",
      "  7%|▋         | 72/1000 [02:58<01:03, 14.55it/s]  File \"demo_release.py\", line 29\n",
      "    img = load_img(opt.img_path)\n",
      "    ^\n",
      "IndentationError: unexpected indent\n"
     ]
    },
    {
     "name": "stdout",
     "output_type": "stream",
     "text": [
      "Processing: ../../project/unlabeled2017/000000282445.jpg\n",
      "Processing: ../../project/unlabeled2017/000000516729.jpg\n",
      "Processing: ../../project/unlabeled2017/000000359512.jpg\n",
      "Processing: ../../project/unlabeled2017/000000455283.jpg\n",
      "Processing: ../../project/unlabeled2017/000000108637.jpg\n",
      "Processing: ../../project/unlabeled2017/000000314567.jpg\n",
      "Processing: ../../project/unlabeled2017/000000406731.jpg\n"
     ]
    },
    {
     "name": "stderr",
     "output_type": "stream",
     "text": [
      "  File \"demo_release.py\", line 29\n",
      "    img = load_img(opt.img_path)\n",
      "    ^\n",
      "IndentationError: unexpected indent\n",
      "  File \"demo_release.py\", line 29\n",
      "    img = load_img(opt.img_path)\n",
      "    ^\n",
      "IndentationError: unexpected indent\n",
      "  File \"demo_release.py\", line 29\n",
      "    img = load_img(opt.img_path)\n",
      "    ^\n",
      "IndentationError: unexpected indent\n",
      "  8%|▊         | 76/1000 [02:58<00:53, 17.29it/s]  File \"demo_release.py\", line 29\n",
      "    img = load_img(opt.img_path)\n",
      "    ^\n",
      "IndentationError: unexpected indent\n",
      "  File \"demo_release.py\", line 29\n",
      "    img = load_img(opt.img_path)\n",
      "    ^\n",
      "IndentationError: unexpected indent\n",
      "  File \"demo_release.py\", line 29\n",
      "    img = load_img(opt.img_path)\n",
      "    ^\n",
      "IndentationError: unexpected indent\n",
      "  File \"demo_release.py\", line 29\n",
      "    img = load_img(opt.img_path)\n",
      "    ^\n",
      "IndentationError: unexpected indent\n",
      "  8%|▊         | 80/1000 [02:58<00:46, 19.76it/s]"
     ]
    },
    {
     "name": "stdout",
     "output_type": "stream",
     "text": [
      "Processing: ../../project/unlabeled2017/000000501270.jpg\n",
      "Processing: ../../project/unlabeled2017/000000326270.jpg\n",
      "Processing: ../../project/unlabeled2017/000000169335.jpg\n",
      "Processing: ../../project/unlabeled2017/000000414291.jpg\n",
      "Processing: ../../project/unlabeled2017/000000467233.jpg\n",
      "Processing: ../../project/unlabeled2017/000000426586.jpg\n"
     ]
    },
    {
     "name": "stderr",
     "output_type": "stream",
     "text": [
      "  File \"demo_release.py\", line 29\n",
      "    img = load_img(opt.img_path)\n",
      "    ^\n",
      "IndentationError: unexpected indent\n",
      "  File \"demo_release.py\", line 29\n",
      "    img = load_img(opt.img_path)\n",
      "    ^\n",
      "IndentationError: unexpected indent\n",
      "  File \"demo_release.py\", line 29\n",
      "    img = load_img(opt.img_path)\n",
      "    ^\n",
      "IndentationError: unexpected indent\n",
      "  File \"demo_release.py\", line 29\n",
      "    img = load_img(opt.img_path)\n",
      "    ^\n",
      "IndentationError: unexpected indent\n",
      "  8%|▊         | 84/1000 [02:58<00:42, 21.64it/s]  File \"demo_release.py\", line 29\n",
      "    img = load_img(opt.img_path)\n",
      "    ^\n",
      "IndentationError: unexpected indent\n"
     ]
    },
    {
     "name": "stdout",
     "output_type": "stream",
     "text": [
      "Processing: ../../project/unlabeled2017/000000034358.jpg\n",
      "Processing: ../../project/unlabeled2017/000000199981.jpg\n",
      "Processing: ../../project/unlabeled2017/000000286929.jpg\n",
      "Processing: ../../project/unlabeled2017/000000335637.jpg\n",
      "Processing: ../../project/unlabeled2017/000000346695.jpg\n",
      "Processing: ../../project/unlabeled2017/000000553182.jpg\n"
     ]
    },
    {
     "name": "stderr",
     "output_type": "stream",
     "text": [
      "  File \"demo_release.py\", line 29\n",
      "    img = load_img(opt.img_path)\n",
      "    ^\n",
      "IndentationError: unexpected indent\n",
      "  File \"demo_release.py\", line 29\n",
      "    img = load_img(opt.img_path)\n",
      "    ^\n",
      "IndentationError: unexpected indent\n",
      "  9%|▊         | 87/1000 [02:59<00:39, 23.20it/s]  File \"demo_release.py\", line 29\n",
      "    img = load_img(opt.img_path)\n",
      "    ^\n",
      "IndentationError: unexpected indent\n",
      "  File \"demo_release.py\", line 29\n",
      "    img = load_img(opt.img_path)\n",
      "    ^\n",
      "IndentationError: unexpected indent\n",
      "  File \"demo_release.py\", line 29\n",
      "    img = load_img(opt.img_path)\n",
      "    ^\n",
      "IndentationError: unexpected indent\n",
      "  9%|▉         | 90/1000 [02:59<00:37, 24.17it/s]  File \"demo_release.py\", line 29\n",
      "    img = load_img(opt.img_path)\n",
      "    ^\n",
      "IndentationError: unexpected indent\n"
     ]
    },
    {
     "name": "stdout",
     "output_type": "stream",
     "text": [
      "Processing: ../../project/unlabeled2017/000000030993.jpg\n",
      "Processing: ../../project/unlabeled2017/000000319895.jpg\n",
      "Processing: ../../project/unlabeled2017/000000517169.jpg\n",
      "Processing: ../../project/unlabeled2017/000000176715.jpg\n",
      "Processing: ../../project/unlabeled2017/000000125972.jpg\n",
      "Processing: ../../project/unlabeled2017/000000010756.jpg\n"
     ]
    },
    {
     "name": "stderr",
     "output_type": "stream",
     "text": [
      "  File \"demo_release.py\", line 29\n",
      "    img = load_img(opt.img_path)\n",
      "    ^\n",
      "IndentationError: unexpected indent\n",
      "  File \"demo_release.py\", line 29\n",
      "    img = load_img(opt.img_path)\n",
      "    ^\n",
      "IndentationError: unexpected indent\n",
      "  9%|▉         | 93/1000 [02:59<00:36, 25.15it/s]  File \"demo_release.py\", line 29\n",
      "    img = load_img(opt.img_path)\n",
      "    ^\n",
      "IndentationError: unexpected indent\n",
      "  File \"demo_release.py\", line 29\n",
      "    img = load_img(opt.img_path)\n",
      "    ^\n",
      "IndentationError: unexpected indent\n",
      "  File \"demo_release.py\", line 29\n",
      "    img = load_img(opt.img_path)\n",
      "    ^\n",
      "IndentationError: unexpected indent\n",
      " 10%|▉         | 96/1000 [02:59<00:34, 26.18it/s]  File \"demo_release.py\", line 29\n",
      "    img = load_img(opt.img_path)\n",
      "    ^\n",
      "IndentationError: unexpected indent\n"
     ]
    },
    {
     "name": "stdout",
     "output_type": "stream",
     "text": [
      "Processing: ../../project/unlabeled2017/000000366850.jpg\n",
      "Processing: ../../project/unlabeled2017/000000419311.jpg\n",
      "Processing: ../../project/unlabeled2017/000000351819.jpg\n",
      "Processing: ../../project/unlabeled2017/000000209358.jpg\n",
      "Processing: ../../project/unlabeled2017/000000488772.jpg\n",
      "Processing: ../../project/unlabeled2017/000000071981.jpg\n"
     ]
    },
    {
     "name": "stderr",
     "output_type": "stream",
     "text": [
      "  File \"demo_release.py\", line 29\n",
      "    img = load_img(opt.img_path)\n",
      "    ^\n",
      "IndentationError: unexpected indent\n",
      "  File \"demo_release.py\", line 29\n",
      "    img = load_img(opt.img_path)\n",
      "    ^\n",
      "IndentationError: unexpected indent\n",
      " 10%|▉         | 99/1000 [02:59<00:33, 26.85it/s]  File \"demo_release.py\", line 29\n",
      "    img = load_img(opt.img_path)\n",
      "    ^\n",
      "IndentationError: unexpected indent\n",
      "  File \"demo_release.py\", line 29\n",
      "    img = load_img(opt.img_path)\n",
      "    ^\n",
      "IndentationError: unexpected indent\n",
      "  File \"demo_release.py\", line 29\n",
      "    img = load_img(opt.img_path)\n",
      "    ^\n",
      "IndentationError: unexpected indent\n",
      " 10%|█         | 102/1000 [02:59<00:32, 27.39it/s]  File \"demo_release.py\", line 29\n",
      "    img = load_img(opt.img_path)\n",
      "    ^\n",
      "IndentationError: unexpected indent\n"
     ]
    },
    {
     "name": "stdout",
     "output_type": "stream",
     "text": [
      "Processing: ../../project/unlabeled2017/000000335190.jpg\n",
      "Processing: ../../project/unlabeled2017/000000229648.jpg\n",
      "Processing: ../../project/unlabeled2017/000000186674.jpg\n",
      "Processing: ../../project/unlabeled2017/000000035518.jpg\n",
      "Processing: ../../project/unlabeled2017/000000105010.jpg\n",
      "Processing: ../../project/unlabeled2017/000000374625.jpg\n"
     ]
    },
    {
     "name": "stderr",
     "output_type": "stream",
     "text": [
      "  File \"demo_release.py\", line 29\n",
      "    img = load_img(opt.img_path)\n",
      "    ^\n",
      "IndentationError: unexpected indent\n",
      "  File \"demo_release.py\", line 29\n",
      "    img = load_img(opt.img_path)\n",
      "    ^\n",
      "IndentationError: unexpected indent\n",
      " 10%|█         | 105/1000 [02:59<00:32, 27.56it/s]  File \"demo_release.py\", line 29\n",
      "    img = load_img(opt.img_path)\n",
      "    ^\n",
      "IndentationError: unexpected indent\n",
      "  File \"demo_release.py\", line 29\n",
      "    img = load_img(opt.img_path)\n",
      "    ^\n",
      "IndentationError: unexpected indent\n",
      "  File \"demo_release.py\", line 29\n",
      "    img = load_img(opt.img_path)\n",
      "    ^\n",
      "IndentationError: unexpected indent\n",
      " 11%|█         | 108/1000 [02:59<00:31, 27.95it/s]  File \"demo_release.py\", line 29\n",
      "    img = load_img(opt.img_path)\n",
      "    ^\n",
      "IndentationError: unexpected indent\n"
     ]
    },
    {
     "name": "stdout",
     "output_type": "stream",
     "text": [
      "Processing: ../../project/unlabeled2017/000000168575.jpg\n",
      "Processing: ../../project/unlabeled2017/000000553625.jpg\n",
      "Processing: ../../project/unlabeled2017/000000509309.jpg\n",
      "Processing: ../../project/unlabeled2017/000000396931.jpg\n",
      "Processing: ../../project/unlabeled2017/000000573492.jpg\n",
      "Processing: ../../project/unlabeled2017/000000156205.jpg\n"
     ]
    },
    {
     "name": "stderr",
     "output_type": "stream",
     "text": [
      "  File \"demo_release.py\", line 29\n",
      "    img = load_img(opt.img_path)\n",
      "    ^\n",
      "IndentationError: unexpected indent\n",
      "  File \"demo_release.py\", line 29\n",
      "    img = load_img(opt.img_path)\n",
      "    ^\n",
      "IndentationError: unexpected indent\n",
      " 11%|█         | 111/1000 [02:59<00:31, 28.13it/s]  File \"demo_release.py\", line 29\n",
      "    img = load_img(opt.img_path)\n",
      "    ^\n",
      "IndentationError: unexpected indent\n",
      "  File \"demo_release.py\", line 29\n",
      "    img = load_img(opt.img_path)\n",
      "    ^\n",
      "IndentationError: unexpected indent\n",
      "  File \"demo_release.py\", line 29\n",
      "    img = load_img(opt.img_path)\n",
      "    ^\n",
      "IndentationError: unexpected indent\n",
      " 11%|█▏        | 114/1000 [02:59<00:31, 28.19it/s]  File \"demo_release.py\", line 29\n",
      "    img = load_img(opt.img_path)\n",
      "    ^\n",
      "IndentationError: unexpected indent\n"
     ]
    },
    {
     "name": "stdout",
     "output_type": "stream",
     "text": [
      "Processing: ../../project/unlabeled2017/000000388084.jpg\n",
      "Processing: ../../project/unlabeled2017/000000378642.jpg\n",
      "Processing: ../../project/unlabeled2017/000000051744.jpg\n",
      "Processing: ../../project/unlabeled2017/000000127634.jpg\n",
      "Processing: ../../project/unlabeled2017/000000288608.jpg\n",
      "Processing: ../../project/unlabeled2017/000000571001.jpg\n"
     ]
    },
    {
     "name": "stderr",
     "output_type": "stream",
     "text": [
      "  File \"demo_release.py\", line 29\n",
      "    img = load_img(opt.img_path)\n",
      "    ^\n",
      "IndentationError: unexpected indent\n",
      "  File \"demo_release.py\", line 29\n",
      "    img = load_img(opt.img_path)\n",
      "    ^\n",
      "IndentationError: unexpected indent\n",
      " 12%|█▏        | 117/1000 [03:00<00:31, 28.22it/s]  File \"demo_release.py\", line 29\n",
      "    img = load_img(opt.img_path)\n",
      "    ^\n",
      "IndentationError: unexpected indent\n",
      "  File \"demo_release.py\", line 29\n",
      "    img = load_img(opt.img_path)\n",
      "    ^\n",
      "IndentationError: unexpected indent\n",
      "  File \"demo_release.py\", line 29\n",
      "    img = load_img(opt.img_path)\n",
      "    ^\n",
      "IndentationError: unexpected indent\n",
      "  File \"demo_release.py\", line 29\n",
      "    img = load_img(opt.img_path)\n",
      "    ^\n",
      "IndentationError: unexpected indent\n",
      " 12%|█▏        | 121/1000 [03:00<00:29, 29.38it/s]  File \"demo_release.py\", line 29\n",
      "    img = load_img(opt.img_path)\n",
      "    ^\n",
      "IndentationError: unexpected indent\n"
     ]
    },
    {
     "name": "stdout",
     "output_type": "stream",
     "text": [
      "Processing: ../../project/unlabeled2017/000000091206.jpg\n",
      "Processing: ../../project/unlabeled2017/000000266509.jpg\n",
      "Processing: ../../project/unlabeled2017/000000527938.jpg\n",
      "Processing: ../../project/unlabeled2017/000000258279.jpg\n",
      "Processing: ../../project/unlabeled2017/000000386470.jpg\n",
      "Processing: ../../project/unlabeled2017/000000448230.jpg\n",
      "Processing: ../../project/unlabeled2017/000000510503.jpg\n"
     ]
    },
    {
     "name": "stderr",
     "output_type": "stream",
     "text": [
      "  File \"demo_release.py\", line 29\n",
      "    img = load_img(opt.img_path)\n",
      "    ^\n",
      "IndentationError: unexpected indent\n",
      "  File \"demo_release.py\", line 29\n",
      "    img = load_img(opt.img_path)\n",
      "    ^\n",
      "IndentationError: unexpected indent\n",
      " 12%|█▏        | 124/1000 [03:00<00:29, 29.30it/s]  File \"demo_release.py\", line 29\n",
      "    img = load_img(opt.img_path)\n",
      "    ^\n",
      "IndentationError: unexpected indent\n",
      "  File \"demo_release.py\", line 29\n",
      "    img = load_img(opt.img_path)\n",
      "    ^\n",
      "IndentationError: unexpected indent\n",
      "  File \"demo_release.py\", line 29\n",
      "    img = load_img(opt.img_path)\n",
      "    ^\n",
      "IndentationError: unexpected indent\n",
      "  File \"demo_release.py\", line 29\n",
      "    img = load_img(opt.img_path)\n",
      "    ^\n",
      "IndentationError: unexpected indent\n",
      " 13%|█▎        | 128/1000 [03:00<00:29, 29.79it/s]  File \"demo_release.py\", line 29\n",
      "    img = load_img(opt.img_path)\n",
      "    ^\n",
      "IndentationError: unexpected indent\n"
     ]
    },
    {
     "name": "stdout",
     "output_type": "stream",
     "text": [
      "Processing: ../../project/unlabeled2017/000000337971.jpg\n",
      "Processing: ../../project/unlabeled2017/000000578738.jpg\n",
      "Processing: ../../project/unlabeled2017/000000119144.jpg\n",
      "Processing: ../../project/unlabeled2017/000000417042.jpg\n",
      "Processing: ../../project/unlabeled2017/000000230042.jpg\n",
      "Processing: ../../project/unlabeled2017/000000325704.jpg\n",
      "Processing: ../../project/unlabeled2017/000000400969.jpg\n"
     ]
    },
    {
     "name": "stderr",
     "output_type": "stream",
     "text": [
      "  File \"demo_release.py\", line 29\n",
      "    img = load_img(opt.img_path)\n",
      "    ^\n",
      "IndentationError: unexpected indent\n",
      "  File \"demo_release.py\", line 29\n",
      "    img = load_img(opt.img_path)\n",
      "    ^\n",
      "IndentationError: unexpected indent\n",
      " 13%|█▎        | 131/1000 [03:00<00:29, 29.45it/s]  File \"demo_release.py\", line 29\n",
      "    img = load_img(opt.img_path)\n",
      "    ^\n",
      "IndentationError: unexpected indent\n",
      "  File \"demo_release.py\", line 29\n",
      "    img = load_img(opt.img_path)\n",
      "    ^\n",
      "IndentationError: unexpected indent\n",
      "  File \"demo_release.py\", line 29\n",
      "    img = load_img(opt.img_path)\n",
      "    ^\n",
      "IndentationError: unexpected indent\n",
      "  File \"demo_release.py\", line 29\n",
      "    img = load_img(opt.img_path)\n",
      "    ^\n",
      "IndentationError: unexpected indent\n",
      " 14%|█▎        | 135/1000 [03:00<00:29, 29.74it/s]"
     ]
    },
    {
     "name": "stdout",
     "output_type": "stream",
     "text": [
      "Processing: ../../project/unlabeled2017/000000061367.jpg\n",
      "Processing: ../../project/unlabeled2017/000000296468.jpg\n",
      "Processing: ../../project/unlabeled2017/000000558228.jpg\n",
      "Processing: ../../project/unlabeled2017/000000163178.jpg\n",
      "Processing: ../../project/unlabeled2017/000000127193.jpg\n",
      "Processing: ../../project/unlabeled2017/000000154131.jpg\n"
     ]
    },
    {
     "name": "stderr",
     "output_type": "stream",
     "text": [
      "  File \"demo_release.py\", line 29\n",
      "    img = load_img(opt.img_path)\n",
      "    ^\n",
      "IndentationError: unexpected indent\n",
      "  File \"demo_release.py\", line 29\n",
      "    img = load_img(opt.img_path)\n",
      "    ^\n",
      "IndentationError: unexpected indent\n",
      "  File \"demo_release.py\", line 29\n",
      "    img = load_img(opt.img_path)\n",
      "    ^\n",
      "IndentationError: unexpected indent\n",
      " 14%|█▍        | 138/1000 [03:00<00:29, 29.54it/s]  File \"demo_release.py\", line 29\n",
      "    img = load_img(opt.img_path)\n",
      "    ^\n",
      "IndentationError: unexpected indent\n",
      "  File \"demo_release.py\", line 29\n",
      "    img = load_img(opt.img_path)\n",
      "    ^\n",
      "IndentationError: unexpected indent\n",
      "  File \"demo_release.py\", line 29\n",
      "    img = load_img(opt.img_path)\n",
      "    ^\n",
      "IndentationError: unexpected indent\n",
      " 14%|█▍        | 141/1000 [03:00<00:29, 29.50it/s]"
     ]
    },
    {
     "name": "stdout",
     "output_type": "stream",
     "text": [
      "Processing: ../../project/unlabeled2017/000000486853.jpg\n",
      "Processing: ../../project/unlabeled2017/000000278769.jpg\n",
      "Processing: ../../project/unlabeled2017/000000053470.jpg\n",
      "Processing: ../../project/unlabeled2017/000000563206.jpg\n",
      "Processing: ../../project/unlabeled2017/000000158156.jpg\n",
      "Processing: ../../project/unlabeled2017/000000135433.jpg\n"
     ]
    },
    {
     "name": "stderr",
     "output_type": "stream",
     "text": [
      "  File \"demo_release.py\", line 29\n",
      "    img = load_img(opt.img_path)\n",
      "    ^\n",
      "IndentationError: unexpected indent\n",
      "  File \"demo_release.py\", line 29\n",
      "    img = load_img(opt.img_path)\n",
      "    ^\n",
      "IndentationError: unexpected indent\n",
      "  File \"demo_release.py\", line 29\n",
      "    img = load_img(opt.img_path)\n",
      "    ^\n",
      "IndentationError: unexpected indent\n",
      " 14%|█▍        | 144/1000 [03:01<00:29, 29.08it/s]  File \"demo_release.py\", line 29\n",
      "    img = load_img(opt.img_path)\n",
      "    ^\n",
      "IndentationError: unexpected indent\n",
      "  File \"demo_release.py\", line 29\n",
      "    img = load_img(opt.img_path)\n",
      "    ^\n",
      "IndentationError: unexpected indent\n",
      "  File \"demo_release.py\", line 29\n",
      "    img = load_img(opt.img_path)\n",
      "    ^\n",
      "IndentationError: unexpected indent\n",
      " 15%|█▍        | 147/1000 [03:01<00:29, 28.99it/s]"
     ]
    },
    {
     "name": "stdout",
     "output_type": "stream",
     "text": [
      "Processing: ../../project/unlabeled2017/000000456050.jpg\n",
      "Processing: ../../project/unlabeled2017/000000146491.jpg\n",
      "Processing: ../../project/unlabeled2017/000000566558.jpg\n",
      "Processing: ../../project/unlabeled2017/000000243747.jpg\n",
      "Processing: ../../project/unlabeled2017/000000376963.jpg\n",
      "Processing: ../../project/unlabeled2017/000000376511.jpg\n"
     ]
    },
    {
     "name": "stderr",
     "output_type": "stream",
     "text": [
      "  File \"demo_release.py\", line 29\n",
      "    img = load_img(opt.img_path)\n",
      "    ^\n",
      "IndentationError: unexpected indent\n",
      "  File \"demo_release.py\", line 29\n",
      "    img = load_img(opt.img_path)\n",
      "    ^\n",
      "IndentationError: unexpected indent\n",
      "  File \"demo_release.py\", line 29\n",
      "    img = load_img(opt.img_path)\n",
      "    ^\n",
      "IndentationError: unexpected indent\n",
      " 15%|█▌        | 150/1000 [03:01<00:29, 28.96it/s]  File \"demo_release.py\", line 29\n",
      "    img = load_img(opt.img_path)\n",
      "    ^\n",
      "IndentationError: unexpected indent\n",
      "  File \"demo_release.py\", line 29\n",
      "    img = load_img(opt.img_path)\n",
      "    ^\n",
      "IndentationError: unexpected indent\n",
      "  File \"demo_release.py\", line 29\n",
      "    img = load_img(opt.img_path)\n",
      "    ^\n",
      "IndentationError: unexpected indent\n",
      " 15%|█▌        | 153/1000 [03:01<00:29, 28.78it/s]"
     ]
    },
    {
     "name": "stdout",
     "output_type": "stream",
     "text": [
      "Processing: ../../project/unlabeled2017/000000175261.jpg\n",
      "Processing: ../../project/unlabeled2017/000000280771.jpg\n",
      "Processing: ../../project/unlabeled2017/000000231602.jpg\n",
      "Processing: ../../project/unlabeled2017/000000369131.jpg\n",
      "Processing: ../../project/unlabeled2017/000000336343.jpg\n",
      "Processing: ../../project/unlabeled2017/000000328684.jpg\n"
     ]
    },
    {
     "name": "stderr",
     "output_type": "stream",
     "text": [
      "  File \"demo_release.py\", line 29\n",
      "    img = load_img(opt.img_path)\n",
      "    ^\n",
      "IndentationError: unexpected indent\n",
      "  File \"demo_release.py\", line 29\n",
      "    img = load_img(opt.img_path)\n",
      "    ^\n",
      "IndentationError: unexpected indent\n",
      "  File \"demo_release.py\", line 29\n",
      "    img = load_img(opt.img_path)\n",
      "    ^\n",
      "IndentationError: unexpected indent\n",
      "  File \"demo_release.py\", line 29\n",
      "    img = load_img(opt.img_path)\n",
      "    ^\n",
      "IndentationError: unexpected indent\n",
      " 16%|█▌        | 157/1000 [03:01<00:29, 29.00it/s]  File \"demo_release.py\", line 29\n",
      "    img = load_img(opt.img_path)\n",
      "    ^\n",
      "IndentationError: unexpected indent\n",
      "  File \"demo_release.py\", line 29\n",
      "    img = load_img(opt.img_path)\n",
      "    ^\n",
      "IndentationError: unexpected indent\n"
     ]
    },
    {
     "name": "stdout",
     "output_type": "stream",
     "text": [
      "Processing: ../../project/unlabeled2017/000000495066.jpg\n",
      "Processing: ../../project/unlabeled2017/000000114763.jpg\n",
      "Processing: ../../project/unlabeled2017/000000477300.jpg\n",
      "Processing: ../../project/unlabeled2017/000000308841.jpg\n",
      "Processing: ../../project/unlabeled2017/000000580087.jpg\n",
      "Processing: ../../project/unlabeled2017/000000090834.jpg\n"
     ]
    },
    {
     "name": "stderr",
     "output_type": "stream",
     "text": [
      "  File \"demo_release.py\", line 29\n",
      "    img = load_img(opt.img_path)\n",
      "    ^\n",
      "IndentationError: unexpected indent\n",
      " 16%|█▌        | 160/1000 [03:01<00:29, 28.75it/s]  File \"demo_release.py\", line 29\n",
      "    img = load_img(opt.img_path)\n",
      "    ^\n",
      "IndentationError: unexpected indent\n",
      "  File \"demo_release.py\", line 29\n",
      "    img = load_img(opt.img_path)\n",
      "    ^\n",
      "IndentationError: unexpected indent\n",
      "  File \"demo_release.py\", line 29\n",
      "    img = load_img(opt.img_path)\n",
      "    ^\n",
      "IndentationError: unexpected indent\n",
      " 16%|█▋        | 163/1000 [03:01<00:28, 28.89it/s]  File \"demo_release.py\", line 29\n",
      "    img = load_img(opt.img_path)\n",
      "    ^\n",
      "IndentationError: unexpected indent\n",
      "  File \"demo_release.py\", line 29\n",
      "    img = load_img(opt.img_path)\n",
      "    ^\n",
      "IndentationError: unexpected indent\n"
     ]
    },
    {
     "name": "stdout",
     "output_type": "stream",
     "text": [
      "Processing: ../../project/unlabeled2017/000000013222.jpg\n",
      "Processing: ../../project/unlabeled2017/000000126074.jpg\n",
      "Processing: ../../project/unlabeled2017/000000262865.jpg\n",
      "Processing: ../../project/unlabeled2017/000000408462.jpg\n",
      "Processing: ../../project/unlabeled2017/000000040790.jpg\n",
      "Processing: ../../project/unlabeled2017/000000218859.jpg\n",
      "Processing: ../../project/unlabeled2017/000000185300.jpg\n"
     ]
    },
    {
     "name": "stderr",
     "output_type": "stream",
     "text": [
      "  File \"demo_release.py\", line 29\n",
      "    img = load_img(opt.img_path)\n",
      "    ^\n",
      "IndentationError: unexpected indent\n",
      "  File \"demo_release.py\", line 29\n",
      "    img = load_img(opt.img_path)\n",
      "    ^\n",
      "IndentationError: unexpected indent\n",
      " 17%|█▋        | 167/1000 [03:01<00:28, 29.34it/s]  File \"demo_release.py\", line 29\n",
      "    img = load_img(opt.img_path)\n",
      "    ^\n",
      "IndentationError: unexpected indent\n",
      "  File \"demo_release.py\", line 29\n",
      "    img = load_img(opt.img_path)\n",
      "    ^\n",
      "IndentationError: unexpected indent\n",
      "  File \"demo_release.py\", line 29\n",
      "    img = load_img(opt.img_path)\n",
      "    ^\n",
      "IndentationError: unexpected indent\n",
      " 17%|█▋        | 170/1000 [03:01<00:28, 29.35it/s]  File \"demo_release.py\", line 29\n",
      "    img = load_img(opt.img_path)\n",
      "    ^\n",
      "IndentationError: unexpected indent\n",
      "  File \"demo_release.py\", line 29\n",
      "    img = load_img(opt.img_path)\n",
      "    ^\n",
      "IndentationError: unexpected indent\n",
      "  File \"demo_release.py\", line 29\n",
      "    img = load_img(opt.img_path)\n",
      "    ^\n",
      "IndentationError: unexpected indent\n",
      " 17%|█▋        | 173/1000 [03:01<00:28, 29.51it/s]"
     ]
    },
    {
     "name": "stdout",
     "output_type": "stream",
     "text": [
      "Processing: ../../project/unlabeled2017/000000511896.jpg\n",
      "Processing: ../../project/unlabeled2017/000000404405.jpg\n",
      "Processing: ../../project/unlabeled2017/000000189367.jpg\n",
      "Processing: ../../project/unlabeled2017/000000060527.jpg\n",
      "Processing: ../../project/unlabeled2017/000000297228.jpg\n",
      "Processing: ../../project/unlabeled2017/000000283664.jpg\n",
      "Processing: ../../project/unlabeled2017/000000030180.jpg\n"
     ]
    },
    {
     "name": "stderr",
     "output_type": "stream",
     "text": [
      "  File \"demo_release.py\", line 29\n",
      "    img = load_img(opt.img_path)\n",
      "    ^\n",
      "IndentationError: unexpected indent\n",
      "  File \"demo_release.py\", line 29\n",
      "    img = load_img(opt.img_path)\n",
      "    ^\n",
      "IndentationError: unexpected indent\n",
      "  File \"demo_release.py\", line 29\n",
      "    img = load_img(opt.img_path)\n",
      "    ^\n",
      "IndentationError: unexpected indent\n",
      " 18%|█▊        | 176/1000 [03:02<00:27, 29.64it/s]  File \"demo_release.py\", line 29\n",
      "    img = load_img(opt.img_path)\n",
      "    ^\n",
      "IndentationError: unexpected indent\n",
      "  File \"demo_release.py\", line 29\n",
      "    img = load_img(opt.img_path)\n",
      "    ^\n",
      "IndentationError: unexpected indent\n",
      "  File \"demo_release.py\", line 29\n",
      "    img = load_img(opt.img_path)\n",
      "    ^\n",
      "IndentationError: unexpected indent\n",
      "  File \"demo_release.py\", line 29\n",
      "    img = load_img(opt.img_path)\n",
      "    ^\n",
      "IndentationError: unexpected indent\n",
      " 18%|█▊        | 180/1000 [03:02<00:27, 30.21it/s]"
     ]
    },
    {
     "name": "stdout",
     "output_type": "stream",
     "text": [
      "Processing: ../../project/unlabeled2017/000000237049.jpg\n",
      "Processing: ../../project/unlabeled2017/000000129106.jpg\n",
      "Processing: ../../project/unlabeled2017/000000071635.jpg\n",
      "Processing: ../../project/unlabeled2017/000000427000.jpg\n",
      "Processing: ../../project/unlabeled2017/000000209739.jpg\n",
      "Processing: ../../project/unlabeled2017/000000253215.jpg\n",
      "Processing: ../../project/unlabeled2017/000000541043.jpg\n"
     ]
    },
    {
     "name": "stderr",
     "output_type": "stream",
     "text": [
      "  File \"demo_release.py\", line 29\n",
      "    img = load_img(opt.img_path)\n",
      "    ^\n",
      "IndentationError: unexpected indent\n",
      "  File \"demo_release.py\", line 29\n",
      "    img = load_img(opt.img_path)\n",
      "    ^\n",
      "IndentationError: unexpected indent\n",
      "  File \"demo_release.py\", line 29\n",
      "    img = load_img(opt.img_path)\n",
      "    ^\n",
      "IndentationError: unexpected indent\n",
      "  File \"demo_release.py\", line 29\n",
      "    img = load_img(opt.img_path)\n",
      "    ^\n",
      "IndentationError: unexpected indent\n",
      " 18%|█▊        | 184/1000 [03:02<00:27, 29.55it/s]  File \"demo_release.py\", line 29\n",
      "    img = load_img(opt.img_path)\n",
      "    ^\n",
      "IndentationError: unexpected indent\n",
      "  File \"demo_release.py\", line 29\n",
      "    img = load_img(opt.img_path)\n",
      "    ^\n",
      "IndentationError: unexpected indent\n"
     ]
    },
    {
     "name": "stdout",
     "output_type": "stream",
     "text": [
      "Processing: ../../project/unlabeled2017/000000051482.jpg\n",
      "Processing: ../../project/unlabeled2017/000000256939.jpg\n",
      "Processing: ../../project/unlabeled2017/000000573754.jpg\n",
      "Processing: ../../project/unlabeled2017/000000063395.jpg\n",
      "Processing: ../../project/unlabeled2017/000000471939.jpg\n",
      "Processing: ../../project/unlabeled2017/000000388342.jpg\n"
     ]
    },
    {
     "name": "stderr",
     "output_type": "stream",
     "text": [
      "  File \"demo_release.py\", line 29\n",
      "    img = load_img(opt.img_path)\n",
      "    ^\n",
      "IndentationError: unexpected indent\n",
      " 19%|█▊        | 187/1000 [03:02<00:27, 29.12it/s]  File \"demo_release.py\", line 29\n",
      "    img = load_img(opt.img_path)\n",
      "    ^\n",
      "IndentationError: unexpected indent\n",
      "  File \"demo_release.py\", line 29\n",
      "    img = load_img(opt.img_path)\n",
      "    ^\n",
      "IndentationError: unexpected indent\n",
      "  File \"demo_release.py\", line 29\n",
      "    img = load_img(opt.img_path)\n",
      "    ^\n",
      "IndentationError: unexpected indent\n",
      " 19%|█▉        | 190/1000 [03:02<00:27, 29.27it/s]  File \"demo_release.py\", line 29\n",
      "    img = load_img(opt.img_path)\n",
      "    ^\n",
      "IndentationError: unexpected indent\n",
      "  File \"demo_release.py\", line 29\n",
      "    img = load_img(opt.img_path)\n",
      "    ^\n",
      "IndentationError: unexpected indent\n",
      "  File \"demo_release.py\", line 29\n",
      "    img = load_img(opt.img_path)\n",
      "    ^\n",
      "IndentationError: unexpected indent\n",
      " 19%|█▉        | 193/1000 [03:02<00:27, 29.44it/s]"
     ]
    },
    {
     "name": "stdout",
     "output_type": "stream",
     "text": [
      "Processing: ../../project/unlabeled2017/000000125161.jpg\n",
      "Processing: ../../project/unlabeled2017/000000374244.jpg\n",
      "Processing: ../../project/unlabeled2017/000000241012.jpg\n",
      "Processing: ../../project/unlabeled2017/000000105803.jpg\n",
      "Processing: ../../project/unlabeled2017/000000466012.jpg\n",
      "Processing: ../../project/unlabeled2017/000000273705.jpg\n",
      "Processing: ../../project/unlabeled2017/000000556968.jpg\n"
     ]
    },
    {
     "name": "stderr",
     "output_type": "stream",
     "text": [
      "  File \"demo_release.py\", line 29\n",
      "    img = load_img(opt.img_path)\n",
      "    ^\n",
      "IndentationError: unexpected indent\n",
      "  File \"demo_release.py\", line 29\n",
      "    img = load_img(opt.img_path)\n",
      "    ^\n",
      "IndentationError: unexpected indent\n",
      "  File \"demo_release.py\", line 29\n",
      "    img = load_img(opt.img_path)\n",
      "    ^\n",
      "IndentationError: unexpected indent\n",
      " 20%|█▉        | 196/1000 [03:02<00:27, 29.58it/s]  File \"demo_release.py\", line 29\n",
      "    img = load_img(opt.img_path)\n",
      "    ^\n",
      "IndentationError: unexpected indent\n",
      "  File \"demo_release.py\", line 29\n",
      "    img = load_img(opt.img_path)\n",
      "    ^\n",
      "IndentationError: unexpected indent\n",
      "  File \"demo_release.py\", line 29\n",
      "    img = load_img(opt.img_path)\n",
      "    ^\n",
      "IndentationError: unexpected indent\n",
      " 20%|█▉        | 199/1000 [03:02<00:27, 29.62it/s]"
     ]
    },
    {
     "name": "stdout",
     "output_type": "stream",
     "text": [
      "Processing: ../../project/unlabeled2017/000000561921.jpg\n",
      "Processing: ../../project/unlabeled2017/000000488313.jpg\n",
      "Processing: ../../project/unlabeled2017/000000335983.jpg\n",
      "Processing: ../../project/unlabeled2017/000000109416.jpg\n",
      "Processing: ../../project/unlabeled2017/000000481858.jpg\n",
      "Processing: ../../project/unlabeled2017/000000051325.jpg\n"
     ]
    },
    {
     "name": "stderr",
     "output_type": "stream",
     "text": [
      "  File \"demo_release.py\", line 29\n",
      "    img = load_img(opt.img_path)\n",
      "    ^\n",
      "IndentationError: unexpected indent\n",
      "  File \"demo_release.py\", line 29\n",
      "    img = load_img(opt.img_path)\n",
      "    ^\n",
      "IndentationError: unexpected indent\n",
      "  File \"demo_release.py\", line 29\n",
      "    img = load_img(opt.img_path)\n",
      "    ^\n",
      "IndentationError: unexpected indent\n",
      " 20%|██        | 202/1000 [03:02<00:27, 29.26it/s]  File \"demo_release.py\", line 29\n",
      "    img = load_img(opt.img_path)\n",
      "    ^\n",
      "IndentationError: unexpected indent\n",
      "  File \"demo_release.py\", line 29\n",
      "    img = load_img(opt.img_path)\n",
      "    ^\n",
      "IndentationError: unexpected indent\n",
      "  File \"demo_release.py\", line 29\n",
      "    img = load_img(opt.img_path)\n",
      "    ^\n",
      "IndentationError: unexpected indent\n",
      " 20%|██        | 205/1000 [03:03<00:27, 29.26it/s]"
     ]
    },
    {
     "name": "stdout",
     "output_type": "stream",
     "text": [
      "Processing: ../../project/unlabeled2017/000000315746.jpg\n",
      "Processing: ../../project/unlabeled2017/000000217559.jpg\n",
      "Processing: ../../project/unlabeled2017/000000220962.jpg\n",
      "Processing: ../../project/unlabeled2017/000000407510.jpg\n",
      "Processing: ../../project/unlabeled2017/000000164173.jpg\n",
      "Processing: ../../project/unlabeled2017/000000220510.jpg\n"
     ]
    },
    {
     "name": "stderr",
     "output_type": "stream",
     "text": [
      "  File \"demo_release.py\", line 29\n",
      "    img = load_img(opt.img_path)\n",
      "    ^\n",
      "IndentationError: unexpected indent\n",
      "  File \"demo_release.py\", line 29\n",
      "    img = load_img(opt.img_path)\n",
      "    ^\n",
      "IndentationError: unexpected indent\n",
      "  File \"demo_release.py\", line 29\n",
      "    img = load_img(opt.img_path)\n",
      "    ^\n",
      "IndentationError: unexpected indent\n",
      " 21%|██        | 208/1000 [03:03<00:27, 29.30it/s]  File \"demo_release.py\", line 29\n",
      "    img = load_img(opt.img_path)\n",
      "    ^\n",
      "IndentationError: unexpected indent\n",
      "  File \"demo_release.py\", line 29\n",
      "    img = load_img(opt.img_path)\n",
      "    ^\n",
      "IndentationError: unexpected indent\n",
      "  File \"demo_release.py\", line 29\n",
      "    img = load_img(opt.img_path)\n",
      "    ^\n",
      "IndentationError: unexpected indent\n",
      " 21%|██        | 211/1000 [03:03<00:26, 29.35it/s]"
     ]
    },
    {
     "name": "stdout",
     "output_type": "stream",
     "text": [
      "Processing: ../../project/unlabeled2017/000000435207.jpg\n",
      "Processing: ../../project/unlabeled2017/000000537018.jpg\n",
      "Processing: ../../project/unlabeled2017/000000327051.jpg\n",
      "Processing: ../../project/unlabeled2017/000000338471.jpg\n",
      "Processing: ../../project/unlabeled2017/000000260342.jpg\n",
      "Processing: ../../project/unlabeled2017/000000149244.jpg\n",
      "Processing: ../../project/unlabeled2017/000000011577.jpg\n"
     ]
    },
    {
     "name": "stderr",
     "output_type": "stream",
     "text": [
      "  File \"demo_release.py\", line 29\n",
      "    img = load_img(opt.img_path)\n",
      "    ^\n",
      "IndentationError: unexpected indent\n",
      "  File \"demo_release.py\", line 29\n",
      "    img = load_img(opt.img_path)\n",
      "    ^\n",
      "IndentationError: unexpected indent\n",
      "  File \"demo_release.py\", line 29\n",
      "    img = load_img(opt.img_path)\n",
      "    ^\n",
      "IndentationError: unexpected indent\n",
      " 21%|██▏       | 214/1000 [03:03<00:27, 29.01it/s]  File \"demo_release.py\", line 29\n",
      "    img = load_img(opt.img_path)\n",
      "    ^\n",
      "IndentationError: unexpected indent\n",
      "  File \"demo_release.py\", line 29\n",
      "    img = load_img(opt.img_path)\n",
      "    ^\n",
      "IndentationError: unexpected indent\n",
      "  File \"demo_release.py\", line 29\n",
      "    img = load_img(opt.img_path)\n",
      "    ^\n",
      "IndentationError: unexpected indent\n",
      " 22%|██▏       | 217/1000 [03:03<00:26, 29.18it/s]  File \"demo_release.py\", line 29\n",
      "    img = load_img(opt.img_path)\n",
      "    ^\n",
      "IndentationError: unexpected indent\n"
     ]
    },
    {
     "name": "stdout",
     "output_type": "stream",
     "text": [
      "Processing: ../../project/unlabeled2017/000000108983.jpg\n",
      "Processing: ../../project/unlabeled2017/000000367603.jpg\n",
      "Processing: ../../project/unlabeled2017/000000092313.jpg\n",
      "Processing: ../../project/unlabeled2017/000000252827.jpg\n",
      "Processing: ../../project/unlabeled2017/000000208179.jpg\n",
      "Processing: ../../project/unlabeled2017/000000145223.jpg\n"
     ]
    },
    {
     "name": "stderr",
     "output_type": "stream",
     "text": [
      "  File \"demo_release.py\", line 29\n",
      "    img = load_img(opt.img_path)\n",
      "    ^\n",
      "IndentationError: unexpected indent\n",
      "  File \"demo_release.py\", line 29\n",
      "    img = load_img(opt.img_path)\n",
      "    ^\n",
      "IndentationError: unexpected indent\n",
      " 22%|██▏       | 220/1000 [03:03<00:26, 29.42it/s]  File \"demo_release.py\", line 29\n",
      "    img = load_img(opt.img_path)\n",
      "    ^\n",
      "IndentationError: unexpected indent\n",
      "  File \"demo_release.py\", line 29\n",
      "    img = load_img(opt.img_path)\n",
      "    ^\n",
      "IndentationError: unexpected indent\n",
      "  File \"demo_release.py\", line 29\n",
      "    img = load_img(opt.img_path)\n",
      "    ^\n",
      "IndentationError: unexpected indent\n",
      " 22%|██▏       | 223/1000 [03:03<00:26, 28.78it/s]  File \"demo_release.py\", line 29\n",
      "    img = load_img(opt.img_path)\n",
      "    ^\n",
      "IndentationError: unexpected indent\n"
     ]
    },
    {
     "name": "stdout",
     "output_type": "stream",
     "text": [
      "Processing: ../../project/unlabeled2017/000000199635.jpg\n",
      "Processing: ../../project/unlabeled2017/000000331348.jpg\n",
      "Processing: ../../project/unlabeled2017/000000447897.jpg\n",
      "Processing: ../../project/unlabeled2017/000000124086.jpg\n",
      "Processing: ../../project/unlabeled2017/000000434835.jpg\n",
      "Processing: ../../project/unlabeled2017/000000026299.jpg\n"
     ]
    },
    {
     "name": "stderr",
     "output_type": "stream",
     "text": [
      "  File \"demo_release.py\", line 29\n",
      "    img = load_img(opt.img_path)\n",
      "    ^\n",
      "IndentationError: unexpected indent\n",
      "  File \"demo_release.py\", line 29\n",
      "    img = load_img(opt.img_path)\n",
      "    ^\n",
      "IndentationError: unexpected indent\n",
      " 23%|██▎       | 226/1000 [03:03<00:26, 28.81it/s]  File \"demo_release.py\", line 29\n",
      "    img = load_img(opt.img_path)\n",
      "    ^\n",
      "IndentationError: unexpected indent\n",
      "  File \"demo_release.py\", line 29\n",
      "    img = load_img(opt.img_path)\n",
      "    ^\n",
      "IndentationError: unexpected indent\n",
      "  File \"demo_release.py\", line 29\n",
      "    img = load_img(opt.img_path)\n",
      "    ^\n",
      "IndentationError: unexpected indent\n",
      " 23%|██▎       | 229/1000 [03:03<00:26, 28.79it/s]  File \"demo_release.py\", line 29\n",
      "    img = load_img(opt.img_path)\n",
      "    ^\n",
      "IndentationError: unexpected indent\n"
     ]
    },
    {
     "name": "stdout",
     "output_type": "stream",
     "text": [
      "Processing: ../../project/unlabeled2017/000000290223.jpg\n",
      "Processing: ../../project/unlabeled2017/000000379463.jpg\n",
      "Processing: ../../project/unlabeled2017/000000431319.jpg\n",
      "Processing: ../../project/unlabeled2017/000000314106.jpg\n",
      "Processing: ../../project/unlabeled2017/000000438852.jpg\n",
      "Processing: ../../project/unlabeled2017/000000438420.jpg\n"
     ]
    },
    {
     "name": "stderr",
     "output_type": "stream",
     "text": [
      "  File \"demo_release.py\", line 29\n",
      "    img = load_img(opt.img_path)\n",
      "    ^\n",
      "IndentationError: unexpected indent\n",
      "  File \"demo_release.py\", line 29\n",
      "    img = load_img(opt.img_path)\n",
      "    ^\n",
      "IndentationError: unexpected indent\n",
      " 23%|██▎       | 232/1000 [03:04<00:26, 28.46it/s]  File \"demo_release.py\", line 29\n",
      "    img = load_img(opt.img_path)\n",
      "    ^\n",
      "IndentationError: unexpected indent\n",
      "  File \"demo_release.py\", line 29\n",
      "    img = load_img(opt.img_path)\n",
      "    ^\n",
      "IndentationError: unexpected indent\n",
      "  File \"demo_release.py\", line 29\n",
      "    img = load_img(opt.img_path)\n",
      "    ^\n",
      "IndentationError: unexpected indent\n",
      " 24%|██▎       | 235/1000 [03:04<00:27, 28.10it/s]  File \"demo_release.py\", line 29\n",
      "    img = load_img(opt.img_path)\n",
      "    ^\n",
      "IndentationError: unexpected indent\n"
     ]
    },
    {
     "name": "stdout",
     "output_type": "stream",
     "text": [
      "Processing: ../../project/unlabeled2017/000000187455.jpg\n",
      "Processing: ../../project/unlabeled2017/000000228469.jpg\n",
      "Processing: ../../project/unlabeled2017/000000136954.jpg\n",
      "Processing: ../../project/unlabeled2017/000000136526.jpg\n",
      "Processing: ../../project/unlabeled2017/000000455145.jpg\n",
      "Processing: ../../project/unlabeled2017/000000031067.jpg\n"
     ]
    },
    {
     "name": "stderr",
     "output_type": "stream",
     "text": [
      "  File \"demo_release.py\", line 29\n",
      "    img = load_img(opt.img_path)\n",
      "    ^\n",
      "IndentationError: unexpected indent\n",
      "  File \"demo_release.py\", line 29\n",
      "    img = load_img(opt.img_path)\n",
      "    ^\n",
      "IndentationError: unexpected indent\n",
      " 24%|██▍       | 238/1000 [03:04<00:26, 28.48it/s]  File \"demo_release.py\", line 29\n",
      "    img = load_img(opt.img_path)\n",
      "    ^\n",
      "IndentationError: unexpected indent\n",
      "  File \"demo_release.py\", line 29\n",
      "    img = load_img(opt.img_path)\n",
      "    ^\n",
      "IndentationError: unexpected indent\n",
      "  File \"demo_release.py\", line 29\n",
      "    img = load_img(opt.img_path)\n",
      "    ^\n",
      "IndentationError: unexpected indent\n",
      " 24%|██▍       | 241/1000 [03:04<00:26, 28.47it/s]  File \"demo_release.py\", line 29\n",
      "    img = load_img(opt.img_path)\n",
      "    ^\n",
      "IndentationError: unexpected indent\n"
     ]
    },
    {
     "name": "stdout",
     "output_type": "stream",
     "text": [
      "Processing: ../../project/unlabeled2017/000000560465.jpg\n",
      "Processing: ../../project/unlabeled2017/000000233186.jpg\n",
      "Processing: ../../project/unlabeled2017/000000467124.jpg\n",
      "Processing: ../../project/unlabeled2017/000000552372.jpg\n",
      "Processing: ../../project/unlabeled2017/000000397014.jpg\n",
      "Processing: ../../project/unlabeled2017/000000038028.jpg\n"
     ]
    },
    {
     "name": "stderr",
     "output_type": "stream",
     "text": [
      "  File \"demo_release.py\", line 29\n",
      "    img = load_img(opt.img_path)\n",
      "    ^\n",
      "IndentationError: unexpected indent\n",
      "  File \"demo_release.py\", line 29\n",
      "    img = load_img(opt.img_path)\n",
      "    ^\n",
      "IndentationError: unexpected indent\n",
      " 24%|██▍       | 244/1000 [03:04<00:26, 28.01it/s]  File \"demo_release.py\", line 29\n",
      "    img = load_img(opt.img_path)\n",
      "    ^\n",
      "IndentationError: unexpected indent\n",
      "  File \"demo_release.py\", line 29\n",
      "    img = load_img(opt.img_path)\n",
      "    ^\n",
      "IndentationError: unexpected indent\n",
      "  File \"demo_release.py\", line 29\n",
      "    img = load_img(opt.img_path)\n",
      "    ^\n",
      "IndentationError: unexpected indent\n",
      " 25%|██▍       | 247/1000 [03:04<00:26, 28.54it/s]  File \"demo_release.py\", line 29\n",
      "    img = load_img(opt.img_path)\n",
      "    ^\n",
      "IndentationError: unexpected indent\n"
     ]
    },
    {
     "name": "stdout",
     "output_type": "stream",
     "text": [
      "Processing: ../../project/unlabeled2017/000000459654.jpg\n",
      "Processing: ../../project/unlabeled2017/000000062504.jpg\n",
      "Processing: ../../project/unlabeled2017/000000501167.jpg\n",
      "Processing: ../../project/unlabeled2017/000000326167.jpg\n",
      "Processing: ../../project/unlabeled2017/000000195683.jpg\n",
      "Processing: ../../project/unlabeled2017/000000157752.jpg\n"
     ]
    },
    {
     "name": "stderr",
     "output_type": "stream",
     "text": [
      "  File \"demo_release.py\", line 29\n",
      "    img = load_img(opt.img_path)\n",
      "    ^\n",
      "IndentationError: unexpected indent\n",
      "  File \"demo_release.py\", line 29\n",
      "    img = load_img(opt.img_path)\n",
      "    ^\n",
      "IndentationError: unexpected indent\n",
      " 25%|██▌       | 250/1000 [03:04<00:26, 28.31it/s]  File \"demo_release.py\", line 29\n",
      "    img = load_img(opt.img_path)\n",
      "    ^\n",
      "IndentationError: unexpected indent\n",
      "  File \"demo_release.py\", line 29\n",
      "    img = load_img(opt.img_path)\n",
      "    ^\n",
      "IndentationError: unexpected indent\n",
      "  File \"demo_release.py\", line 29\n",
      "    img = load_img(opt.img_path)\n",
      "    ^\n",
      "IndentationError: unexpected indent\n",
      " 25%|██▌       | 253/1000 [03:04<00:25, 28.75it/s]  File \"demo_release.py\", line 29\n",
      "    img = load_img(opt.img_path)\n",
      "    ^\n",
      "IndentationError: unexpected indent\n"
     ]
    },
    {
     "name": "stdout",
     "output_type": "stream",
     "text": [
      "Processing: ../../project/unlabeled2017/000000290927.jpg\n",
      "Processing: ../../project/unlabeled2017/000000406854.jpg\n",
      "Processing: ../../project/unlabeled2017/000000108952.jpg\n",
      "Processing: ../../project/unlabeled2017/000000201136.jpg\n",
      "Processing: ../../project/unlabeled2017/000000145927.jpg\n",
      "Processing: ../../project/unlabeled2017/000000359605.jpg\n"
     ]
    },
    {
     "name": "stderr",
     "output_type": "stream",
     "text": [
      "  File \"demo_release.py\", line 29\n",
      "    img = load_img(opt.img_path)\n",
      "    ^\n",
      "IndentationError: unexpected indent\n",
      "  File \"demo_release.py\", line 29\n",
      "    img = load_img(opt.img_path)\n",
      "    ^\n",
      "IndentationError: unexpected indent\n",
      " 26%|██▌       | 256/1000 [03:04<00:25, 28.87it/s]  File \"demo_release.py\", line 29\n",
      "    img = load_img(opt.img_path)\n",
      "    ^\n",
      "IndentationError: unexpected indent\n",
      "  File \"demo_release.py\", line 29\n",
      "    img = load_img(opt.img_path)\n",
      "    ^\n",
      "IndentationError: unexpected indent\n",
      "  File \"demo_release.py\", line 29\n",
      "    img = load_img(opt.img_path)\n",
      "    ^\n",
      "IndentationError: unexpected indent\n",
      " 26%|██▌       | 259/1000 [03:04<00:26, 28.42it/s]  File \"demo_release.py\", line 29\n",
      "    img = load_img(opt.img_path)\n",
      "    ^\n",
      "IndentationError: unexpected indent\n"
     ]
    },
    {
     "name": "stdout",
     "output_type": "stream",
     "text": [
      "Processing: ../../project/unlabeled2017/000000426136.jpg\n",
      "Processing: ../../project/unlabeled2017/000000524329.jpg\n",
      "Processing: ../../project/unlabeled2017/000000128030.jpg\n",
      "Processing: ../../project/unlabeled2017/000000479344.jpg\n",
      "Processing: ../../project/unlabeled2017/000000042014.jpg\n",
      "Processing: ../../project/unlabeled2017/000000018538.jpg\n"
     ]
    },
    {
     "name": "stderr",
     "output_type": "stream",
     "text": [
      "  File \"demo_release.py\", line 29\n",
      "    img = load_img(opt.img_path)\n",
      "    ^\n",
      "IndentationError: unexpected indent\n",
      "  File \"demo_release.py\", line 29\n",
      "    img = load_img(opt.img_path)\n",
      "    ^\n",
      "IndentationError: unexpected indent\n",
      " 26%|██▌       | 262/1000 [03:05<00:26, 28.37it/s]  File \"demo_release.py\", line 29\n",
      "    img = load_img(opt.img_path)\n",
      "    ^\n",
      "IndentationError: unexpected indent\n",
      "  File \"demo_release.py\", line 29\n",
      "    img = load_img(opt.img_path)\n",
      "    ^\n",
      "IndentationError: unexpected indent\n",
      "  File \"demo_release.py\", line 29\n",
      "    img = load_img(opt.img_path)\n",
      "    ^\n",
      "IndentationError: unexpected indent\n",
      "  File \"demo_release.py\", line 29\n",
      "    img = load_img(opt.img_path)\n",
      "    ^\n",
      "IndentationError: unexpected indent\n",
      " 27%|██▋       | 266/1000 [03:05<00:24, 29.68it/s]  File \"demo_release.py\", line 29\n",
      "    img = load_img(opt.img_path)\n",
      "    ^\n",
      "IndentationError: unexpected indent\n"
     ]
    },
    {
     "name": "stdout",
     "output_type": "stream",
     "text": [
      "Processing: ../../project/unlabeled2017/000000467683.jpg\n",
      "Processing: ../../project/unlabeled2017/000000240683.jpg\n",
      "Processing: ../../project/unlabeled2017/000000260846.jpg\n",
      "Processing: ../../project/unlabeled2017/000000389274.jpg\n",
      "Processing: ../../project/unlabeled2017/000000023516.jpg\n",
      "Processing: ../../project/unlabeled2017/000000367175.jpg\n",
      "Processing: ../../project/unlabeled2017/000000221381.jpg\n"
     ]
    },
    {
     "name": "stderr",
     "output_type": "stream",
     "text": [
      "  File \"demo_release.py\", line 29\n",
      "    img = load_img(opt.img_path)\n",
      "    ^\n",
      "IndentationError: unexpected indent\n",
      "  File \"demo_release.py\", line 29\n",
      "    img = load_img(opt.img_path)\n",
      "    ^\n",
      "IndentationError: unexpected indent\n",
      " 27%|██▋       | 269/1000 [03:05<00:24, 29.30it/s]  File \"demo_release.py\", line 29\n",
      "    img = load_img(opt.img_path)\n",
      "    ^\n",
      "IndentationError: unexpected indent\n",
      "  File \"demo_release.py\", line 29\n",
      "    img = load_img(opt.img_path)\n",
      "    ^\n",
      "IndentationError: unexpected indent\n",
      "  File \"demo_release.py\", line 29\n",
      "    img = load_img(opt.img_path)\n",
      "    ^\n",
      "IndentationError: unexpected indent\n",
      "  File \"demo_release.py\", line 29\n",
      "    img = load_img(opt.img_path)\n",
      "    ^\n",
      "IndentationError: unexpected indent\n",
      " 27%|██▋       | 273/1000 [03:05<00:24, 29.48it/s]"
     ]
    },
    {
     "name": "stdout",
     "output_type": "stream",
     "text": [
      "Processing: ../../project/unlabeled2017/000000252323.jpg\n",
      "Processing: ../../project/unlabeled2017/000000366092.jpg\n",
      "Processing: ../../project/unlabeled2017/000000378927.jpg\n",
      "Processing: ../../project/unlabeled2017/000000505079.jpg\n",
      "Processing: ../../project/unlabeled2017/000000484870.jpg\n",
      "Processing: ../../project/unlabeled2017/000000388393.jpg\n"
     ]
    },
    {
     "name": "stderr",
     "output_type": "stream",
     "text": [
      "  File \"demo_release.py\", line 29\n",
      "    img = load_img(opt.img_path)\n",
      "    ^\n",
      "IndentationError: unexpected indent\n",
      "  File \"demo_release.py\", line 29\n",
      "    img = load_img(opt.img_path)\n",
      "    ^\n",
      "IndentationError: unexpected indent\n",
      "  File \"demo_release.py\", line 29\n",
      "    img = load_img(opt.img_path)\n",
      "    ^\n",
      "IndentationError: unexpected indent\n",
      " 28%|██▊       | 276/1000 [03:05<00:25, 28.96it/s]  File \"demo_release.py\", line 29\n",
      "    img = load_img(opt.img_path)\n",
      "    ^\n",
      "IndentationError: unexpected indent\n",
      "  File \"demo_release.py\", line 29\n",
      "    img = load_img(opt.img_path)\n",
      "    ^\n",
      "IndentationError: unexpected indent\n",
      "  File \"demo_release.py\", line 29\n",
      "    img = load_img(opt.img_path)\n",
      "    ^\n",
      "IndentationError: unexpected indent\n",
      " 28%|██▊       | 279/1000 [03:05<00:24, 29.05it/s]"
     ]
    },
    {
     "name": "stdout",
     "output_type": "stream",
     "text": [
      "Processing: ../../project/unlabeled2017/000000484402.jpg\n",
      "Processing: ../../project/unlabeled2017/000000354785.jpg\n",
      "Processing: ../../project/unlabeled2017/000000402538.jpg\n",
      "Processing: ../../project/unlabeled2017/000000396654.jpg\n",
      "Processing: ../../project/unlabeled2017/000000225538.jpg\n",
      "Processing: ../../project/unlabeled2017/000000573785.jpg\n"
     ]
    },
    {
     "name": "stderr",
     "output_type": "stream",
     "text": [
      "  File \"demo_release.py\", line 29\n",
      "    img = load_img(opt.img_path)\n",
      "    ^\n",
      "IndentationError: unexpected indent\n",
      "  File \"demo_release.py\", line 29\n",
      "    img = load_img(opt.img_path)\n",
      "    ^\n",
      "IndentationError: unexpected indent\n",
      "  File \"demo_release.py\", line 29\n",
      "    img = load_img(opt.img_path)\n",
      "    ^\n",
      "IndentationError: unexpected indent\n",
      " 28%|██▊       | 282/1000 [03:05<00:25, 28.69it/s]  File \"demo_release.py\", line 29\n",
      "    img = load_img(opt.img_path)\n",
      "    ^\n",
      "IndentationError: unexpected indent\n",
      "  File \"demo_release.py\", line 29\n",
      "    img = load_img(opt.img_path)\n",
      "    ^\n",
      "IndentationError: unexpected indent\n",
      "  File \"demo_release.py\", line 29\n",
      "    img = load_img(opt.img_path)\n",
      "    ^\n",
      "IndentationError: unexpected indent\n",
      "  File \"demo_release.py\", line 29\n",
      "    img = load_img(opt.img_path)\n",
      "    ^\n",
      "IndentationError: unexpected indent\n",
      " 29%|██▊       | 286/1000 [03:05<00:24, 29.67it/s]"
     ]
    },
    {
     "name": "stdout",
     "output_type": "stream",
     "text": [
      "Processing: ../../project/unlabeled2017/000000081022.jpg\n",
      "Processing: ../../project/unlabeled2017/000000466764.jpg\n",
      "Processing: ../../project/unlabeled2017/000000273073.jpg\n",
      "Processing: ../../project/unlabeled2017/000000137410.jpg\n",
      "Processing: ../../project/unlabeled2017/000000186911.jpg\n",
      "Processing: ../../project/unlabeled2017/000000100459.jpg\n"
     ]
    },
    {
     "name": "stderr",
     "output_type": "stream",
     "text": [
      "  File \"demo_release.py\", line 29\n",
      "    img = load_img(opt.img_path)\n",
      "    ^\n",
      "IndentationError: unexpected indent\n",
      "  File \"demo_release.py\", line 29\n",
      "    img = load_img(opt.img_path)\n",
      "    ^\n",
      "IndentationError: unexpected indent\n",
      "  File \"demo_release.py\", line 29\n",
      "    img = load_img(opt.img_path)\n",
      "    ^\n",
      "IndentationError: unexpected indent\n",
      " 29%|██▉       | 289/1000 [03:06<00:24, 28.82it/s]  File \"demo_release.py\", line 29\n",
      "    img = load_img(opt.img_path)\n",
      "    ^\n",
      "IndentationError: unexpected indent\n"
     ]
    },
    {
     "name": "stdout",
     "output_type": "stream",
     "text": [
      "Processing: ../../project/unlabeled2017/000000474563.jpg\n",
      "Processing: ../../project/unlabeled2017/000000419006.jpg\n",
      "Processing: ../../project/unlabeled2017/000000541735.jpg\n",
      "Processing: ../../project/unlabeled2017/000000532797.jpg\n",
      "Processing: ../../project/unlabeled2017/000000443958.jpg\n",
      "Processing: ../../project/unlabeled2017/000000093225.jpg\n"
     ]
    },
    {
     "name": "stderr",
     "output_type": "stream",
     "text": [
      "  File \"demo_release.py\", line 29\n",
      "    img = load_img(opt.img_path)\n",
      "    ^\n",
      "IndentationError: unexpected indent\n",
      "  File \"demo_release.py\", line 29\n",
      "    img = load_img(opt.img_path)\n",
      "    ^\n",
      "IndentationError: unexpected indent\n",
      " 29%|██▉       | 292/1000 [03:06<00:24, 28.57it/s]  File \"demo_release.py\", line 29\n",
      "    for \n",
      "       ^\n",
      "SyntaxError: invalid syntax\n",
      "  File \"demo_release.py\", line 29\n",
      "    for \n",
      "       ^\n",
      "SyntaxError: invalid syntax\n",
      "  File \"demo_release.py\", line 29\n",
      "    for \n",
      "       ^\n",
      "SyntaxError: invalid syntax\n",
      " 30%|██▉       | 295/1000 [03:06<00:24, 28.63it/s]  File \"demo_release.py\", line 29\n",
      "    for \n",
      "       ^\n",
      "SyntaxError: invalid syntax\n"
     ]
    },
    {
     "name": "stdout",
     "output_type": "stream",
     "text": [
      "Processing: ../../project/unlabeled2017/000000327080.jpg\n",
      "Processing: ../../project/unlabeled2017/000000010833.jpg\n",
      "Processing: ../../project/unlabeled2017/000000027408.jpg\n",
      "Processing: ../../project/unlabeled2017/000000096909.jpg\n",
      "Processing: ../../project/unlabeled2017/000000141839.jpg\n",
      "Processing: ../../project/unlabeled2017/000000478976.jpg\n"
     ]
    },
    {
     "name": "stderr",
     "output_type": "stream",
     "text": [
      "  File \"demo_release.py\", line 29\n",
      "    for \n",
      "       ^\n",
      "SyntaxError: invalid syntax\n",
      "  File \"demo_release.py\", line 29\n",
      "    for \n",
      "       ^\n",
      "SyntaxError: invalid syntax\n",
      " 30%|██▉       | 298/1000 [03:06<00:24, 28.42it/s]  File \"demo_release.py\", line 29\n",
      "    for \n",
      "       ^\n",
      "SyntaxError: invalid syntax\n",
      "  File \"demo_release.py\", line 29\n",
      "    for \n",
      "       ^\n",
      "SyntaxError: invalid syntax\n",
      "  File \"demo_release.py\", line 29\n",
      "    for \n",
      "       ^\n",
      "SyntaxError: invalid syntax\n",
      " 30%|███       | 301/1000 [03:06<00:24, 28.33it/s]  File \"demo_release.py\", line 29\n",
      "    for \n",
      "       ^\n",
      "SyntaxError: invalid syntax\n"
     ]
    },
    {
     "name": "stdout",
     "output_type": "stream",
     "text": [
      "Processing: ../../project/unlabeled2017/000000019378.jpg\n",
      "Processing: ../../project/unlabeled2017/000000198703.jpg\n",
      "Processing: ../../project/unlabeled2017/000000335520.jpg\n",
      "Processing: ../../project/unlabeled2017/000000071143.jpg\n",
      "Processing: ../../project/unlabeled2017/000000335952.jpg\n",
      "Processing: ../../project/unlabeled2017/000000580056.jpg\n"
     ]
    },
    {
     "name": "stderr",
     "output_type": "stream",
     "text": [
      "  File \"demo_release.py\", line 29\n",
      "    for \n",
      "       ^\n",
      "SyntaxError: invalid syntax\n",
      "  File \"demo_release.py\", line 29\n",
      "    for \n",
      "       ^\n",
      "SyntaxError: invalid syntax\n",
      "  File \"demo_release.py\", line 29\n",
      "    for \n",
      "       ^\n",
      "SyntaxError: invalid syntax\n",
      " 30%|███       | 305/1000 [03:06<00:23, 29.03it/s]  File \"demo_release.py\", line 29\n",
      "    for \n",
      "       ^\n",
      "SyntaxError: invalid syntax\n",
      "  File \"demo_release.py\", line 29\n",
      "    for \n",
      "       ^\n",
      "SyntaxError: invalid syntax\n",
      "  File \"demo_release.py\", line 29\n",
      "    for \n",
      "       ^\n",
      "SyntaxError: invalid syntax\n",
      " 31%|███       | 308/1000 [03:06<00:23, 29.19it/s]"
     ]
    },
    {
     "name": "stdout",
     "output_type": "stream",
     "text": [
      "Processing: ../../project/unlabeled2017/000000316125.jpg\n",
      "Processing: ../../project/unlabeled2017/000000482249.jpg\n",
      "Processing: ../../project/unlabeled2017/000000308890.jpg\n",
      "Processing: ../../project/unlabeled2017/000000304485.jpg\n",
      "Processing: ../../project/unlabeled2017/000000377855.jpg\n",
      "Processing: ../../project/unlabeled2017/000000408314.jpg\n"
     ]
    },
    {
     "name": "stderr",
     "output_type": "stream",
     "text": [
      "  File \"demo_release.py\", line 29\n",
      "    for \n",
      "       ^\n",
      "SyntaxError: invalid syntax\n",
      "  File \"demo_release.py\", line 29\n",
      "    for \n",
      "       ^\n",
      "SyntaxError: invalid syntax\n",
      "  File \"demo_release.py\", line 29\n",
      "    for \n",
      "       ^\n",
      "SyntaxError: invalid syntax\n",
      " 31%|███       | 311/1000 [03:06<00:23, 29.02it/s]  File \"demo_release.py\", line 29\n",
      "    for \n",
      "       ^\n",
      "SyntaxError: invalid syntax\n",
      "  File \"demo_release.py\", line 29\n",
      "    for \n",
      "       ^\n",
      "SyntaxError: invalid syntax\n",
      "  File \"demo_release.py\", line 29\n",
      "    for \n",
      "       ^\n",
      "SyntaxError: invalid syntax\n",
      " 31%|███▏      | 314/1000 [03:06<00:23, 28.95it/s]"
     ]
    },
    {
     "name": "stdout",
     "output_type": "stream",
     "text": [
      "Processing: ../../project/unlabeled2017/000000457166.jpg\n",
      "Processing: ../../project/unlabeled2017/000000134977.jpg\n",
      "Processing: ../../project/unlabeled2017/000000336392.jpg\n",
      "Processing: ../../project/unlabeled2017/000000001753.jpg\n",
      "Processing: ../../project/unlabeled2017/000000250476.jpg\n",
      "Processing: ../../project/unlabeled2017/000000179902.jpg\n"
     ]
    },
    {
     "name": "stderr",
     "output_type": "stream",
     "text": [
      "  File \"demo_release.py\", line 29\n",
      "    for \n",
      "       ^\n",
      "SyntaxError: invalid syntax\n",
      "  File \"demo_release.py\", line 29\n",
      "    for \n",
      "       ^\n",
      "SyntaxError: invalid syntax\n",
      "  File \"demo_release.py\", line 29\n",
      "    for \n",
      "       ^\n",
      "SyntaxError: invalid syntax\n",
      "  File \"demo_release.py\", line 29\n",
      "    for \n",
      "       ^\n",
      "SyntaxError: invalid syntax\n",
      " 32%|███▏      | 318/1000 [03:07<00:23, 29.20it/s]  File \"demo_release.py\", line 29\n",
      "    for \n",
      "       ^\n",
      "SyntaxError: invalid syntax\n",
      "  File \"demo_release.py\", line 29\n",
      "    for \n",
      "       ^\n",
      "SyntaxError: invalid syntax\n",
      "  File \"demo_release.py\", line 29\n",
      "    for \n",
      "       ^\n",
      "SyntaxError: invalid syntax\n",
      "  File \"demo_release.py\", line 29\n",
      "    for \n",
      "       ^\n",
      "SyntaxError: invalid syntax\n",
      " 32%|███▏      | 322/1000 [03:07<00:22, 29.60it/s]"
     ]
    },
    {
     "name": "stdout",
     "output_type": "stream",
     "text": [
      "Processing: ../../project/unlabeled2017/000000542620.jpg\n",
      "Processing: ../../project/unlabeled2017/000000021243.jpg\n",
      "Processing: ../../project/unlabeled2017/000000316682.jpg\n",
      "Processing: ../../project/unlabeled2017/000000503195.jpg\n",
      "Processing: ../../project/unlabeled2017/000000570137.jpg\n",
      "Processing: ../../project/unlabeled2017/000000445361.jpg\n",
      "Processing: ../../project/unlabeled2017/000000126702.jpg\n"
     ]
    },
    {
     "name": "stderr",
     "output_type": "stream",
     "text": [
      "  File \"demo_release.py\", line 29\n",
      "    for \n",
      "       ^\n",
      "SyntaxError: invalid syntax\n",
      "  File \"demo_release.py\", line 29\n",
      "    for \n",
      "       ^\n",
      "SyntaxError: invalid syntax\n",
      "  File \"demo_release.py\", line 29\n",
      "    for \n",
      "       ^\n",
      "SyntaxError: invalid syntax\n",
      " 32%|███▎      | 325/1000 [03:07<00:22, 29.69it/s]  File \"demo_release.py\", line 29\n",
      "    for \n",
      "       ^\n",
      "SyntaxError: invalid syntax\n",
      "  File \"demo_release.py\", line 29\n",
      "    for \n",
      "       ^\n",
      "SyntaxError: invalid syntax\n",
      "  File \"demo_release.py\", line 29\n",
      "    for \n",
      "       ^\n",
      "SyntaxError: invalid syntax\n",
      " 33%|███▎      | 328/1000 [03:07<00:23, 29.10it/s]"
     ]
    },
    {
     "name": "stdout",
     "output_type": "stream",
     "text": [
      "Processing: ../../project/unlabeled2017/000000231174.jpg\n",
      "Processing: ../../project/unlabeled2017/000000175965.jpg\n",
      "Processing: ../../project/unlabeled2017/000000247688.jpg\n",
      "Processing: ../../project/unlabeled2017/000000336847.jpg\n",
      "Processing: ../../project/unlabeled2017/000000285759.jpg\n",
      "Processing: ../../project/unlabeled2017/000000336435.jpg\n"
     ]
    },
    {
     "name": "stderr",
     "output_type": "stream",
     "text": [
      "  File \"demo_release.py\", line 29\n",
      "    for \n",
      "       ^\n",
      "SyntaxError: invalid syntax\n",
      "  File \"demo_release.py\", line 29\n",
      "    for \n",
      "       ^\n",
      "SyntaxError: invalid syntax\n",
      "  File \"demo_release.py\", line 29\n",
      "    for \n",
      "       ^\n",
      "SyntaxError: invalid syntax\n",
      " 33%|███▎      | 331/1000 [03:07<00:22, 29.22it/s]  File \"demo_release.py\", line 29\n",
      "    for \n",
      "       ^\n",
      "SyntaxError: invalid syntax\n",
      "  File \"demo_release.py\", line 29\n",
      "    for \n",
      "       ^\n",
      "SyntaxError: invalid syntax\n",
      "  File \"demo_release.py\", line 29\n",
      "    for \n",
      "       ^\n",
      "SyntaxError: invalid syntax\n",
      " 33%|███▎      | 334/1000 [03:07<00:23, 28.88it/s]"
     ]
    },
    {
     "name": "stdout",
     "output_type": "stream",
     "text": [
      "Processing: ../../project/unlabeled2017/000000460688.jpg\n",
      "Processing: ../../project/unlabeled2017/000000563570.jpg\n",
      "Processing: ../../project/unlabeled2017/000000344570.jpg\n",
      "Processing: ../../project/unlabeled2017/000000456726.jpg\n",
      "Processing: ../../project/unlabeled2017/000000464031.jpg\n",
      "Processing: ../../project/unlabeled2017/000000230093.jpg\n"
     ]
    },
    {
     "name": "stderr",
     "output_type": "stream",
     "text": [
      "  File \"demo_release.py\", line 29\n",
      "    for \n",
      "       ^\n",
      "SyntaxError: invalid syntax\n",
      "  File \"demo_release.py\", line 29\n",
      "    for \n",
      "       ^\n",
      "SyntaxError: invalid syntax\n",
      "  File \"demo_release.py\", line 29\n",
      "    for \n",
      "       ^\n",
      "SyntaxError: invalid syntax\n",
      " 34%|███▎      | 337/1000 [03:07<00:22, 29.14it/s]  File \"demo_release.py\", line 29\n",
      "    for \n",
      "       ^\n",
      "SyntaxError: invalid syntax\n",
      "  File \"demo_release.py\", line 29\n",
      "    for \n",
      "       ^\n",
      "SyntaxError: invalid syntax\n",
      "  File \"demo_release.py\", line 29\n",
      "    for \n",
      "       ^\n",
      "SyntaxError: invalid syntax\n",
      "  File \"demo_release.py\", line 29\n",
      "    for \n",
      "       ^\n",
      "SyntaxError: invalid syntax\n",
      " 34%|███▍      | 341/1000 [03:07<00:22, 29.48it/s]"
     ]
    },
    {
     "name": "stdout",
     "output_type": "stream",
     "text": [
      "Processing: ../../project/unlabeled2017/000000107820.jpg\n",
      "Processing: ../../project/unlabeled2017/000000325072.jpg\n",
      "Processing: ../../project/unlabeled2017/000000210224.jpg\n",
      "Processing: ../../project/unlabeled2017/000000486357.jpg\n",
      "Processing: ../../project/unlabeled2017/000000196796.jpg\n",
      "Processing: ../../project/unlabeled2017/000000154647.jpg\n",
      "Processing: ../../project/unlabeled2017/000000405941.jpg\n"
     ]
    },
    {
     "name": "stderr",
     "output_type": "stream",
     "text": [
      "  File \"demo_release.py\", line 29\n",
      "    for \n",
      "       ^\n",
      "SyntaxError: invalid syntax\n",
      "  File \"demo_release.py\", line 29\n",
      "    for \n",
      "       ^\n",
      "SyntaxError: invalid syntax\n",
      "  File \"demo_release.py\", line 29\n",
      "    for \n",
      "       ^\n",
      "SyntaxError: invalid syntax\n",
      " 34%|███▍      | 344/1000 [03:07<00:22, 29.38it/s]  File \"demo_release.py\", line 29\n",
      "    for \n",
      "       ^\n",
      "SyntaxError: invalid syntax\n",
      "  File \"demo_release.py\", line 29\n",
      "    for \n",
      "       ^\n",
      "SyntaxError: invalid syntax\n",
      "  File \"demo_release.py\", line 29\n",
      "    for \n",
      "       ^\n",
      "SyntaxError: invalid syntax\n",
      " 35%|███▍      | 347/1000 [03:07<00:22, 28.92it/s]"
     ]
    },
    {
     "name": "stdout",
     "output_type": "stream",
     "text": [
      "Processing: ../../project/unlabeled2017/000000271081.jpg\n",
      "Processing: ../../project/unlabeled2017/000000184591.jpg\n",
      "Processing: ../../project/unlabeled2017/000000202023.jpg\n",
      "Processing: ../../project/unlabeled2017/000000171409.jpg\n",
      "Processing: ../../project/unlabeled2017/000000448546.jpg\n",
      "Processing: ../../project/unlabeled2017/000000119632.jpg\n"
     ]
    },
    {
     "name": "stderr",
     "output_type": "stream",
     "text": [
      "  File \"demo_release.py\", line 29\n",
      "    for \n",
      "       ^\n",
      "SyntaxError: invalid syntax\n",
      "  File \"demo_release.py\", line 29\n",
      "    for \n",
      "       ^\n",
      "SyntaxError: invalid syntax\n",
      "  File \"demo_release.py\", line 29\n",
      "    for \n",
      "       ^\n",
      "SyntaxError: invalid syntax\n",
      " 35%|███▌      | 350/1000 [03:08<00:22, 29.05it/s]  File \"demo_release.py\", line 29\n",
      "    for \n",
      "       ^\n",
      "SyntaxError: invalid syntax\n",
      "  File \"demo_release.py\", line 29\n",
      "    for \n",
      "       ^\n",
      "SyntaxError: invalid syntax\n",
      "  File \"demo_release.py\", line 29\n",
      "    for \n",
      "       ^\n",
      "SyntaxError: invalid syntax\n",
      " 35%|███▌      | 353/1000 [03:08<00:22, 28.63it/s]"
     ]
    },
    {
     "name": "stdout",
     "output_type": "stream",
     "text": [
      "Processing: ../../project/unlabeled2017/000000041101.jpg\n",
      "Processing: ../../project/unlabeled2017/000000332959.jpg\n",
      "Processing: ../../project/unlabeled2017/000000383458.jpg\n",
      "Processing: ../../project/unlabeled2017/000000515959.jpg\n",
      "Processing: ../../project/unlabeled2017/000000437583.jpg\n",
      "Processing: ../../project/unlabeled2017/000000263521.jpg\n"
     ]
    },
    {
     "name": "stderr",
     "output_type": "stream",
     "text": [
      "  File \"demo_release.py\", line 29\n",
      "    for \n",
      "       ^\n",
      "SyntaxError: invalid syntax\n",
      "  File \"demo_release.py\", line 29\n",
      "    for \n",
      "       ^\n",
      "SyntaxError: invalid syntax\n",
      "  File \"demo_release.py\", line 29\n",
      "    for \n",
      "       ^\n",
      "SyntaxError: invalid syntax\n",
      " 36%|███▌      | 356/1000 [03:08<00:22, 28.69it/s]  File \"demo_release.py\", line 29\n",
      "    for \n",
      "       ^\n",
      "SyntaxError: invalid syntax\n",
      "  File \"demo_release.py\", line 29\n",
      "    for \n",
      "       ^\n",
      "SyntaxError: invalid syntax\n",
      "  File \"demo_release.py\", line 29\n",
      "    for \n",
      "       ^\n",
      "SyntaxError: invalid syntax\n",
      " 36%|███▌      | 359/1000 [03:08<00:22, 29.02it/s]"
     ]
    },
    {
     "name": "stdout",
     "output_type": "stream",
     "text": [
      "Processing: ../../project/unlabeled2017/000000263953.jpg\n",
      "Processing: ../../project/unlabeled2017/000000048638.jpg\n",
      "Processing: ../../project/unlabeled2017/000000012314.jpg\n",
      "Processing: ../../project/unlabeled2017/000000364060.jpg\n",
      "Processing: ../../project/unlabeled2017/000000251236.jpg\n",
      "Processing: ../../project/unlabeled2017/000000476236.jpg\n"
     ]
    },
    {
     "name": "stderr",
     "output_type": "stream",
     "text": [
      "  File \"demo_release.py\", line 29\n",
      "    for \n",
      "       ^\n",
      "SyntaxError: invalid syntax\n",
      "  File \"demo_release.py\", line 29\n",
      "    for \n",
      "       ^\n",
      "SyntaxError: invalid syntax\n",
      "  File \"demo_release.py\", line 29\n",
      "    for \n",
      "       ^\n",
      "SyntaxError: invalid syntax\n",
      " 36%|███▌      | 362/1000 [03:08<00:21, 29.10it/s]  File \"demo_release.py\", line 29\n",
      "    for \n",
      "       ^\n",
      "SyntaxError: invalid syntax\n",
      "  File \"demo_release.py\", line 29\n",
      "    for \n",
      "       ^\n",
      "SyntaxError: invalid syntax\n",
      "  File \"demo_release.py\", line 29\n",
      "    for \n",
      "       ^\n",
      "SyntaxError: invalid syntax\n",
      "  File \"demo_release.py\", line 29\n",
      "    for \n",
      "       ^\n",
      "SyntaxError: invalid syntax\n",
      " 37%|███▋      | 366/1000 [03:08<00:21, 29.73it/s]"
     ]
    },
    {
     "name": "stdout",
     "output_type": "stream",
     "text": [
      "Processing: ../../project/unlabeled2017/000000115655.jpg\n",
      "Processing: ../../project/unlabeled2017/000000500346.jpg\n",
      "Processing: ../../project/unlabeled2017/000000063725.jpg\n",
      "Processing: ../../project/unlabeled2017/000000039209.jpg\n",
      "Processing: ../../project/unlabeled2017/000000327346.jpg\n",
      "Processing: ../../project/unlabeled2017/000000156573.jpg\n",
      "Processing: ../../project/unlabeled2017/000000156901.jpg\n"
     ]
    },
    {
     "name": "stderr",
     "output_type": "stream",
     "text": [
      "  File \"demo_release.py\", line 29\n",
      "    for \n",
      "       ^\n",
      "SyntaxError: invalid syntax\n",
      "  File \"demo_release.py\", line 29\n",
      "    for \n",
      "       ^\n",
      "SyntaxError: invalid syntax\n",
      "  File \"demo_release.py\", line 29\n",
      "    for \n",
      "       ^\n",
      "SyntaxError: invalid syntax\n",
      " 37%|███▋      | 369/1000 [03:08<00:21, 29.62it/s]  File \"demo_release.py\", line 29\n",
      "    for \n",
      "       ^\n",
      "SyntaxError: invalid syntax\n",
      "  File \"demo_release.py\", line 29\n",
      "    for \n",
      "       ^\n",
      "SyntaxError: invalid syntax\n",
      "  File \"demo_release.py\", line 29\n",
      "    for \n",
      "       ^\n",
      "SyntaxError: invalid syntax\n",
      "  File \"demo_release.py\", line 29\n",
      "    for \n",
      "       ^\n",
      "SyntaxError: invalid syntax\n",
      " 37%|███▋      | 373/1000 [03:08<00:20, 29.87it/s]"
     ]
    },
    {
     "name": "stdout",
     "output_type": "stream",
     "text": [
      "Processing: ../../project/unlabeled2017/000000212110.jpg\n",
      "Processing: ../../project/unlabeled2017/000000484063.jpg\n",
      "Processing: ../../project/unlabeled2017/000000164264.jpg\n",
      "Processing: ../../project/unlabeled2017/000000393919.jpg\n",
      "Processing: ../../project/unlabeled2017/000000322418.jpg\n",
      "Processing: ../../project/unlabeled2017/000000532451.jpg\n",
      "Processing: ../../project/unlabeled2017/000000315823.jpg\n"
     ]
    },
    {
     "name": "stderr",
     "output_type": "stream",
     "text": [
      "  File \"demo_release.py\", line 29\n",
      "    for \n",
      "       ^\n",
      "SyntaxError: invalid syntax\n",
      "  File \"demo_release.py\", line 29\n",
      "    for \n",
      "       ^\n",
      "SyntaxError: invalid syntax\n",
      "  File \"demo_release.py\", line 29\n",
      "    for \n",
      "       ^\n",
      "SyntaxError: invalid syntax\n",
      "  File \"demo_release.py\", line 29\n",
      "    for \n",
      "       ^\n",
      "SyntaxError: invalid syntax\n",
      " 38%|███▊      | 377/1000 [03:09<00:20, 29.86it/s]  File \"demo_release.py\", line 29\n",
      "    for \n",
      "       ^\n",
      "SyntaxError: invalid syntax\n",
      "  File \"demo_release.py\", line 29\n",
      "    for \n",
      "       ^\n",
      "SyntaxError: invalid syntax\n"
     ]
    },
    {
     "name": "stdout",
     "output_type": "stream",
     "text": [
      "Processing: ../../project/unlabeled2017/000000532823.jpg\n",
      "Processing: ../../project/unlabeled2017/000000384795.jpg\n",
      "Processing: ../../project/unlabeled2017/000000346644.jpg\n",
      "Processing: ../../project/unlabeled2017/000000071285.jpg\n",
      "Processing: ../../project/unlabeled2017/000000463829.jpg\n",
      "Processing: ../../project/unlabeled2017/000000002227.jpg\n"
     ]
    },
    {
     "name": "stderr",
     "output_type": "stream",
     "text": [
      "  File \"demo_release.py\", line 29\n",
      "    for \n",
      "       ^\n",
      "SyntaxError: invalid syntax\n",
      " 38%|███▊      | 380/1000 [03:09<00:21, 29.11it/s]  File \"demo_release.py\", line 29\n",
      "    for \n",
      "       ^\n",
      "SyntaxError: invalid syntax\n",
      "  File \"demo_release.py\", line 29\n",
      "    for \n",
      "       ^\n",
      "SyntaxError: invalid syntax\n",
      "  File \"demo_release.py\", line 29\n",
      "    for \n",
      "       ^\n",
      "SyntaxError: invalid syntax\n",
      "  File \"demo_release.py\", line 29\n",
      "    for \n",
      "       ^\n",
      "SyntaxError: invalid syntax\n",
      " 38%|███▊      | 384/1000 [03:09<00:20, 29.72it/s]  File \"demo_release.py\", line 29\n",
      "    for \n",
      "       ^\n",
      "SyntaxError: invalid syntax\n",
      "  File \"demo_release.py\", line 29\n",
      "    for \n",
      "       ^\n",
      "SyntaxError: invalid syntax\n"
     ]
    },
    {
     "name": "stdout",
     "output_type": "stream",
     "text": [
      "Processing: ../../project/unlabeled2017/000000100038.jpg\n",
      "Processing: ../../project/unlabeled2017/000000273860.jpg\n",
      "Processing: ../../project/unlabeled2017/000000454412.jpg\n",
      "Processing: ../../project/unlabeled2017/000000105766.jpg\n",
      "Processing: ../../project/unlabeled2017/000000374153.jpg\n",
      "Processing: ../../project/unlabeled2017/000000168203.jpg\n",
      "Processing: ../../project/unlabeled2017/000000388055.jpg\n"
     ]
    },
    {
     "name": "stderr",
     "output_type": "stream",
     "text": [
      "  File \"demo_release.py\", line 29\n",
      "    for \n",
      "       ^\n",
      "SyntaxError: invalid syntax\n",
      " 39%|███▊      | 387/1000 [03:09<00:20, 29.54it/s]  File \"demo_release.py\", line 29\n",
      "    for \n",
      "       ^\n",
      "SyntaxError: invalid syntax\n",
      "  File \"demo_release.py\", line 29\n",
      "    for \n",
      "       ^\n",
      "SyntaxError: invalid syntax\n",
      "  File \"demo_release.py\", line 29\n",
      "    for \n",
      "       ^\n",
      "SyntaxError: invalid syntax\n",
      " 39%|███▉      | 390/1000 [03:09<00:21, 28.98it/s]  File \"demo_release.py\", line 29\n",
      "    for \n",
      "       ^\n",
      "SyntaxError: invalid syntax\n",
      "  File \"demo_release.py\", line 29\n",
      "    for \n",
      "       ^\n",
      "SyntaxError: invalid syntax\n"
     ]
    },
    {
     "name": "stdout",
     "output_type": "stream",
     "text": [
      "Processing: ../../project/unlabeled2017/000000500893.jpg\n",
      "Processing: ../../project/unlabeled2017/000000010020.jpg\n",
      "Processing: ../../project/unlabeled2017/000000573443.jpg\n",
      "Processing: ../../project/unlabeled2017/000000063082.jpg\n",
      "Processing: ../../project/unlabeled2017/000000327893.jpg\n",
      "Processing: ../../project/unlabeled2017/000000396592.jpg\n"
     ]
    },
    {
     "name": "stderr",
     "output_type": "stream",
     "text": [
      "  File \"demo_release.py\", line 29\n",
      "    for \n",
      "       ^\n",
      "SyntaxError: invalid syntax\n",
      " 39%|███▉      | 393/1000 [03:09<00:21, 28.78it/s]  File \"demo_release.py\", line 29\n",
      "    for \n",
      "       ^\n",
      "SyntaxError: invalid syntax\n",
      "  File \"demo_release.py\", line 29\n",
      "    for \n",
      "       ^\n",
      "SyntaxError: invalid syntax\n",
      "  File \"demo_release.py\", line 29\n",
      "    for \n",
      "       ^\n",
      "SyntaxError: invalid syntax\n",
      "  File \"demo_release.py\", line 29\n",
      "    for \n",
      "       ^\n",
      "SyntaxError: invalid syntax\n",
      " 40%|███▉      | 397/1000 [03:09<00:20, 29.32it/s]  File \"demo_release.py\", line 29\n",
      "    for \n",
      "       ^\n",
      "SyntaxError: invalid syntax\n",
      "  File \"demo_release.py\", line 29\n",
      "    for \n",
      "       ^\n",
      "SyntaxError: invalid syntax\n"
     ]
    },
    {
     "name": "stdout",
     "output_type": "stream",
     "text": [
      "Processing: ../../project/unlabeled2017/000000366354.jpg\n",
      "Processing: ../../project/unlabeled2017/000000378693.jpg\n",
      "Processing: ../../project/unlabeled2017/000000117561.jpg\n",
      "Processing: ../../project/unlabeled2017/000000200317.jpg\n",
      "Processing: ../../project/unlabeled2017/000000358424.jpg\n",
      "Processing: ../../project/unlabeled2017/000000525108.jpg\n",
      "Processing: ../../project/unlabeled2017/000000384032.jpg\n"
     ]
    },
    {
     "name": "stderr",
     "output_type": "stream",
     "text": [
      "  File \"demo_release.py\", line 29\n",
      "    for \n",
      "       ^\n",
      "SyntaxError: invalid syntax\n",
      " 40%|████      | 400/1000 [03:09<00:20, 29.26it/s]  File \"demo_release.py\", line 29\n",
      "    for \n",
      "       ^\n",
      "SyntaxError: invalid syntax\n",
      "  File \"demo_release.py\", line 29\n",
      "    for \n",
      "       ^\n",
      "SyntaxError: invalid syntax\n",
      "  File \"demo_release.py\", line 29\n",
      "    for \n",
      "       ^\n",
      "SyntaxError: invalid syntax\n",
      "  File \"demo_release.py\", line 29\n",
      "    for \n",
      "       ^\n",
      "SyntaxError: invalid syntax\n",
      " 40%|████      | 404/1000 [03:09<00:20, 29.37it/s]  File \"demo_release.py\", line 29\n",
      "    for \n",
      "       ^\n",
      "SyntaxError: invalid syntax\n"
     ]
    },
    {
     "name": "stdout",
     "output_type": "stream",
     "text": [
      "Processing: ../../project/unlabeled2017/000000071522.jpg\n",
      "Processing: ../../project/unlabeled2017/000000030297.jpg\n",
      "Processing: ../../project/unlabeled2017/000000132088.jpg\n",
      "Processing: ../../project/unlabeled2017/000000043235.jpg\n",
      "Processing: ../../project/unlabeled2017/000000177184.jpg\n",
      "Processing: ../../project/unlabeled2017/000000414995.jpg\n",
      "Processing: ../../project/unlabeled2017/000000240937.jpg\n"
     ]
    },
    {
     "name": "stderr",
     "output_type": "stream",
     "text": [
      "  File \"demo_release.py\", line 29\n",
      "    for \n",
      "       ^\n",
      "SyntaxError: invalid syntax\n",
      "  File \"demo_release.py\", line 29\n",
      "    for \n",
      "       ^\n",
      "SyntaxError: invalid syntax\n",
      "  File \"demo_release.py\", line 29\n",
      "    for \n",
      "       ^\n",
      "SyntaxError: invalid syntax\n",
      " 41%|████      | 408/1000 [03:10<00:20, 29.58it/s]  File \"demo_release.py\", line 29\n",
      "    for \n",
      "       ^\n",
      "SyntaxError: invalid syntax\n",
      "  File \"demo_release.py\", line 29\n",
      "    for \n",
      "       ^\n",
      "SyntaxError: invalid syntax\n",
      "  File \"demo_release.py\", line 29\n",
      "    for \n",
      "       ^\n",
      "SyntaxError: invalid syntax\n",
      " 41%|████      | 411/1000 [03:10<00:20, 28.98it/s]  File \"demo_release.py\", line 29\n",
      "    for \n",
      "       ^\n",
      "SyntaxError: invalid syntax\n"
     ]
    },
    {
     "name": "stdout",
     "output_type": "stream",
     "text": [
      "Processing: ../../project/unlabeled2017/000000489644.jpg\n",
      "Processing: ../../project/unlabeled2017/000000003815.jpg\n",
      "Processing: ../../project/unlabeled2017/000000101678.jpg\n",
      "Processing: ../../project/unlabeled2017/000000003467.jpg\n",
      "Processing: ../../project/unlabeled2017/000000533211.jpg\n",
      "Processing: ../../project/unlabeled2017/000000108141.jpg\n"
     ]
    },
    {
     "name": "stderr",
     "output_type": "stream",
     "text": [
      "  File \"demo_release.py\", line 29\n",
      "    for \n",
      "       ^\n",
      "SyntaxError: invalid syntax\n",
      "  File \"demo_release.py\", line 29\n",
      "    for \n",
      "       ^\n",
      "SyntaxError: invalid syntax\n",
      " 41%|████▏     | 414/1000 [03:10<00:20, 28.91it/s]  File \"demo_release.py\", line 29\n",
      "    for \n",
      "       ^\n",
      "SyntaxError: invalid syntax\n",
      "  File \"demo_release.py\", line 29\n",
      "    for \n",
      "       ^\n",
      "SyntaxError: invalid syntax\n",
      "  File \"demo_release.py\", line 29\n",
      "    for \n",
      "       ^\n",
      "SyntaxError: invalid syntax\n",
      "  File \"demo_release.py\", line 29\n",
      "    for \n",
      "       ^\n",
      "SyntaxError: invalid syntax\n",
      " 42%|████▏     | 418/1000 [03:10<00:19, 29.32it/s]"
     ]
    },
    {
     "name": "stdout",
     "output_type": "stream",
     "text": [
      "Processing: ../../project/unlabeled2017/000000418580.jpg\n",
      "Processing: ../../project/unlabeled2017/000000314211.jpg\n",
      "Processing: ../../project/unlabeled2017/000000290134.jpg\n",
      "Processing: ../../project/unlabeled2017/000000165856.jpg\n",
      "Processing: ../../project/unlabeled2017/000000221047.jpg\n",
      "Processing: ../../project/unlabeled2017/000000459235.jpg\n"
     ]
    },
    {
     "name": "stderr",
     "output_type": "stream",
     "text": [
      "  File \"demo_release.py\", line 29\n",
      "    for \n",
      "       ^\n",
      "SyntaxError: invalid syntax\n",
      "  File \"demo_release.py\", line 29\n",
      "    for \n",
      "       ^\n",
      "SyntaxError: invalid syntax\n",
      "  File \"demo_release.py\", line 29\n",
      "    for \n",
      "       ^\n",
      "SyntaxError: invalid syntax\n",
      "  File \"demo_release.py\", line 29\n",
      "    for \n",
      "       ^\n",
      "SyntaxError: invalid syntax\n",
      " 42%|████▏     | 422/1000 [03:10<00:19, 30.03it/s]  File \"demo_release.py\", line 29\n",
      "    for \n",
      "       ^\n",
      "SyntaxError: invalid syntax\n",
      "  File \"demo_release.py\", line 29\n",
      "    for \n",
      "       ^\n",
      "SyntaxError: invalid syntax\n",
      "  File \"demo_release.py\", line 29\n",
      "    for \n",
      "       ^\n",
      "SyntaxError: invalid syntax\n"
     ]
    },
    {
     "name": "stdout",
     "output_type": "stream",
     "text": [
      "Processing: ../../project/unlabeled2017/000000326506.jpg\n",
      "Processing: ../../project/unlabeled2017/000000414240.jpg\n",
      "Processing: ../../project/unlabeled2017/000000177623.jpg\n",
      "Processing: ../../project/unlabeled2017/000000282333.jpg\n",
      "Processing: ../../project/unlabeled2017/000000306016.jpg\n",
      "Processing: ../../project/unlabeled2017/000000018159.jpg\n",
      "Processing: ../../project/unlabeled2017/000000334701.jpg\n"
     ]
    },
    {
     "name": "stderr",
     "output_type": "stream",
     "text": [
      "  File \"demo_release.py\", line 29\n",
      "    for \n",
      "       ^\n",
      "SyntaxError: invalid syntax\n",
      " 43%|████▎     | 426/1000 [03:10<00:18, 30.33it/s]  File \"demo_release.py\", line 29\n",
      "    for \n",
      "       ^\n",
      "SyntaxError: invalid syntax\n",
      "  File \"demo_release.py\", line 29\n",
      "    for \n",
      "       ^\n",
      "SyntaxError: invalid syntax\n",
      "  File \"demo_release.py\", line 29\n",
      "    for \n",
      "       ^\n",
      "SyntaxError: invalid syntax\n",
      "  File \"demo_release.py\", line 29\n",
      "    for \n",
      "       ^\n",
      "SyntaxError: invalid syntax\n",
      " 43%|████▎     | 430/1000 [03:10<00:18, 30.46it/s]  File \"demo_release.py\", line 29\n",
      "    for \n",
      "       ^\n",
      "SyntaxError: invalid syntax\n",
      "  File \"demo_release.py\", line 29\n",
      "    for \n",
      "       ^\n",
      "SyntaxError: invalid syntax\n"
     ]
    },
    {
     "name": "stdout",
     "output_type": "stream",
     "text": [
      "Processing: ../../project/unlabeled2017/000000438090.jpg\n",
      "Processing: ../../project/unlabeled2017/000000145134.jpg\n",
      "Processing: ../../project/unlabeled2017/000000524748.jpg\n",
      "Processing: ../../project/unlabeled2017/000000418227.jpg\n",
      "Processing: ../../project/unlabeled2017/000000540514.jpg\n",
      "Processing: ../../project/unlabeled2017/000000367514.jpg\n",
      "Processing: ../../project/unlabeled2017/000000540966.jpg\n"
     ]
    },
    {
     "name": "stderr",
     "output_type": "stream",
     "text": [
      "  File \"demo_release.py\", line 29\n",
      "    for \n",
      "       ^\n",
      "SyntaxError: invalid syntax\n",
      "  File \"demo_release.py\", line 29\n",
      "    for \n",
      "       ^\n",
      "SyntaxError: invalid syntax\n",
      " 43%|████▎     | 434/1000 [03:10<00:18, 30.23it/s]  File \"demo_release.py\", line 29\n",
      "    for \n",
      "       ^\n",
      "SyntaxError: invalid syntax\n",
      "  File \"demo_release.py\", line 29\n",
      "    for \n",
      "       ^\n",
      "SyntaxError: invalid syntax\n",
      "  File \"demo_release.py\", line 29\n",
      "    for \n",
      "       ^\n",
      "SyntaxError: invalid syntax\n",
      "  File \"demo_release.py\", line 29\n",
      "    for \n",
      "       ^\n",
      "SyntaxError: invalid syntax\n",
      " 44%|████▍     | 438/1000 [03:11<00:18, 30.16it/s]  File \"demo_release.py\", line 29\n",
      "    for \n",
      "       ^\n",
      "SyntaxError: invalid syntax\n"
     ]
    },
    {
     "name": "stdout",
     "output_type": "stream",
     "text": [
      "Processing: ../../project/unlabeled2017/000000459592.jpg\n",
      "Processing: ../../project/unlabeled2017/000000485184.jpg\n",
      "Processing: ../../project/unlabeled2017/000000195937.jpg\n",
      "Processing: ../../project/unlabeled2017/000000119986.jpg\n",
      "Processing: ../../project/unlabeled2017/000000274419.jpg\n",
      "Processing: ../../project/unlabeled2017/000000243450.jpg\n",
      "Processing: ../../project/unlabeled2017/000000398975.jpg\n"
     ]
    },
    {
     "name": "stderr",
     "output_type": "stream",
     "text": [
      "  File \"demo_release.py\", line 29\n",
      "    for \n",
      "       ^\n",
      "SyntaxError: invalid syntax\n",
      "  File \"demo_release.py\", line 29\n",
      "    for \n",
      "       ^\n",
      "SyntaxError: invalid syntax\n",
      "  File \"demo_release.py\", line 29\n",
      "    for \n",
      "       ^\n",
      "SyntaxError: invalid syntax\n",
      " 44%|████▍     | 442/1000 [03:11<00:18, 30.06it/s]  File \"demo_release.py\", line 29\n",
      "    for \n",
      "       ^\n",
      "SyntaxError: invalid syntax\n",
      "  File \"demo_release.py\", line 29\n",
      "    for \n",
      "       ^\n",
      "SyntaxError: invalid syntax\n",
      "  File \"demo_release.py\", line 29\n",
      "    for \n",
      "       ^\n",
      "SyntaxError: invalid syntax\n"
     ]
    },
    {
     "name": "stdout",
     "output_type": "stream",
     "text": [
      "Processing: ../../project/unlabeled2017/000000502413.jpg\n",
      "Processing: ../../project/unlabeled2017/000000325861.jpg\n",
      "Processing: ../../project/unlabeled2017/000000061070.jpg\n",
      "Processing: ../../project/unlabeled2017/000000368466.jpg\n",
      "Processing: ../../project/unlabeled2017/000000041912.jpg\n",
      "Processing: ../../project/unlabeled2017/000000235879.jpg\n"
     ]
    },
    {
     "name": "stderr",
     "output_type": "stream",
     "text": [
      "  File \"demo_release.py\", line 29\n",
      "    for \n",
      "       ^\n",
      "SyntaxError: invalid syntax\n",
      " 45%|████▍     | 446/1000 [03:11<00:18, 29.47it/s]  File \"demo_release.py\", line 29\n",
      "    for \n",
      "       ^\n",
      "SyntaxError: invalid syntax\n",
      "  File \"demo_release.py\", line 29\n",
      "    for \n",
      "       ^\n",
      "SyntaxError: invalid syntax\n",
      "  File \"demo_release.py\", line 29\n",
      "    for \n",
      "       ^\n",
      "SyntaxError: invalid syntax\n",
      " 45%|████▍     | 449/1000 [03:11<00:18, 29.00it/s]  File \"demo_release.py\", line 29\n",
      "    for \n",
      "       ^\n",
      "SyntaxError: invalid syntax\n",
      "  File \"demo_release.py\", line 29\n",
      "    for \n",
      "       ^\n",
      "SyntaxError: invalid syntax\n"
     ]
    },
    {
     "name": "stdout",
     "output_type": "stream",
     "text": [
      "Processing: ../../project/unlabeled2017/000000448127.jpg\n",
      "Processing: ../../project/unlabeled2017/000000337614.jpg\n",
      "Processing: ../../project/unlabeled2017/000000202830.jpg\n",
      "Processing: ../../project/unlabeled2017/000000425442.jpg\n",
      "Processing: ../../project/unlabeled2017/000000202442.jpg\n",
      "Processing: ../../project/unlabeled2017/000000391599.jpg\n"
     ]
    },
    {
     "name": "stderr",
     "output_type": "stream",
     "text": [
      "  File \"demo_release.py\", line 29\n",
      "    for \n",
      "       ^\n",
      "SyntaxError: invalid syntax\n",
      " 45%|████▌     | 452/1000 [03:11<00:18, 29.08it/s]  File \"demo_release.py\", line 29\n",
      "    for \n",
      "       ^\n",
      "SyntaxError: invalid syntax\n",
      "  File \"demo_release.py\", line 29\n",
      "    for \n",
      "       ^\n",
      "SyntaxError: invalid syntax\n",
      "  File \"demo_release.py\", line 29\n",
      "    for \n",
      "       ^\n",
      "SyntaxError: invalid syntax\n",
      " 46%|████▌     | 455/1000 [03:11<00:19, 28.57it/s]  File \"demo_release.py\", line 29\n",
      "    for \n",
      "       ^\n",
      "SyntaxError: invalid syntax\n",
      "  File \"demo_release.py\", line 29\n",
      "    for \n",
      "       ^\n",
      "SyntaxError: invalid syntax\n"
     ]
    },
    {
     "name": "stdout",
     "output_type": "stream",
     "text": [
      "Processing: ../../project/unlabeled2017/000000309164.jpg\n",
      "Processing: ../../project/unlabeled2017/000000574448.jpg\n",
      "Processing: ../../project/unlabeled2017/000000543873.jpg\n",
      "Processing: ../../project/unlabeled2017/000000110918.jpg\n",
      "Processing: ../../project/unlabeled2017/000000429857.jpg\n",
      "Processing: ../../project/unlabeled2017/000000498924.jpg\n"
     ]
    },
    {
     "name": "stderr",
     "output_type": "stream",
     "text": [
      "  File \"demo_release.py\", line 29\n",
      "    for \n",
      "       ^\n",
      "SyntaxError: invalid syntax\n",
      " 46%|████▌     | 458/1000 [03:11<00:19, 28.35it/s]  File \"demo_release.py\", line 29\n",
      "    for \n",
      "       ^\n",
      "SyntaxError: invalid syntax\n",
      "  File \"demo_release.py\", line 29\n",
      "    for \n",
      "       ^\n",
      "SyntaxError: invalid syntax\n",
      "  File \"demo_release.py\", line 29\n",
      "    for \n",
      "       ^\n",
      "SyntaxError: invalid syntax\n",
      " 46%|████▌     | 461/1000 [03:11<00:18, 28.39it/s]  File \"demo_release.py\", line 29\n",
      "    for \n",
      "       ^\n",
      "SyntaxError: invalid syntax\n",
      "  File \"demo_release.py\", line 29\n",
      "    for \n",
      "       ^\n",
      "SyntaxError: invalid syntax\n",
      "  File \"demo_release.py\", line 29\n",
      "    for \n",
      "       ^\n",
      "SyntaxError: invalid syntax\n",
      " 46%|████▋     | 464/1000 [03:11<00:18, 28.74it/s]"
     ]
    },
    {
     "name": "stdout",
     "output_type": "stream",
     "text": [
      "Processing: ../../project/unlabeled2017/000000571316.jpg\n",
      "Processing: ../../project/unlabeled2017/000000196450.jpg\n",
      "Processing: ../../project/unlabeled2017/000000189070.jpg\n",
      "Processing: ../../project/unlabeled2017/000000021185.jpg\n",
      "Processing: ../../project/unlabeled2017/000000531544.jpg\n",
      "Processing: ../../project/unlabeled2017/000000052127.jpg\n",
      "Processing: ../../project/unlabeled2017/000000469277.jpg\n"
     ]
    },
    {
     "name": "stderr",
     "output_type": "stream",
     "text": [
      "  File \"demo_release.py\", line 29\n",
      "    for \n",
      "       ^\n",
      "SyntaxError: invalid syntax\n",
      "  File \"demo_release.py\", line 29\n",
      "    for \n",
      "       ^\n",
      "SyntaxError: invalid syntax\n",
      "  File \"demo_release.py\", line 29\n",
      "    for \n",
      "       ^\n",
      "SyntaxError: invalid syntax\n",
      " 47%|████▋     | 467/1000 [03:12<00:18, 28.84it/s]  File \"demo_release.py\", line 29\n",
      "    for \n",
      "       ^\n",
      "SyntaxError: invalid syntax\n",
      "  File \"demo_release.py\", line 29\n",
      "    for \n",
      "       ^\n",
      "SyntaxError: invalid syntax\n",
      "  File \"demo_release.py\", line 29\n",
      "    for \n",
      "       ^\n",
      "SyntaxError: invalid syntax\n",
      " 47%|████▋     | 470/1000 [03:12<00:18, 28.61it/s]"
     ]
    },
    {
     "name": "stdout",
     "output_type": "stream",
     "text": [
      "Processing: ../../project/unlabeled2017/000000072390.jpg\n",
      "Processing: ../../project/unlabeled2017/000000555718.jpg\n",
      "Processing: ../../project/unlabeled2017/000000457507.jpg\n",
      "Processing: ../../project/unlabeled2017/000000328234.jpg\n",
      "Processing: ../../project/unlabeled2017/000000457975.jpg\n",
      "Processing: ../../project/unlabeled2017/000000369581.jpg\n"
     ]
    },
    {
     "name": "stderr",
     "output_type": "stream",
     "text": [
      "  File \"demo_release.py\", line 29\n",
      "    for \n",
      "       ^\n",
      "SyntaxError: invalid syntax\n",
      "  File \"demo_release.py\", line 29\n",
      "    for \n",
      "       ^\n",
      "SyntaxError: invalid syntax\n",
      "  File \"demo_release.py\", line 29\n",
      "    for \n",
      "       ^\n",
      "SyntaxError: invalid syntax\n",
      "  File \"demo_release.py\", line 29\n",
      "    for \n",
      "       ^\n",
      "SyntaxError: invalid syntax\n",
      " 47%|████▋     | 474/1000 [03:12<00:18, 29.03it/s]  File \"demo_release.py\", line 29\n",
      "    for \n",
      "       ^\n",
      "SyntaxError: invalid syntax\n",
      "  File \"demo_release.py\", line 29\n",
      "    for \n",
      "       ^\n",
      "SyntaxError: invalid syntax\n"
     ]
    },
    {
     "name": "stdout",
     "output_type": "stream",
     "text": [
      "Processing: ../../project/unlabeled2017/000000082556.jpg\n",
      "Processing: ../../project/unlabeled2017/000000040487.jpg\n",
      "Processing: ../../project/unlabeled2017/000000377046.jpg\n",
      "Processing: ../../project/unlabeled2017/000000180749.jpg\n",
      "Processing: ../../project/unlabeled2017/000000126363.jpg\n",
      "Processing: ../../project/unlabeled2017/000000349091.jpg\n"
     ]
    },
    {
     "name": "stderr",
     "output_type": "stream",
     "text": [
      "  File \"demo_release.py\", line 29\n",
      "    for \n",
      "       ^\n",
      "SyntaxError: invalid syntax\n",
      " 48%|████▊     | 477/1000 [03:12<00:17, 29.16it/s]  File \"demo_release.py\", line 29\n",
      "    for \n",
      "       ^\n",
      "SyntaxError: invalid syntax\n",
      "  File \"demo_release.py\", line 29\n",
      "    for \n",
      "       ^\n",
      "SyntaxError: invalid syntax\n",
      "  File \"demo_release.py\", line 29\n",
      "    for \n",
      "       ^\n",
      "SyntaxError: invalid syntax\n",
      " 48%|████▊     | 480/1000 [03:12<00:17, 29.03it/s]  File \"demo_release.py\", line 29\n",
      "    for \n",
      "       ^\n",
      "SyntaxError: invalid syntax\n",
      "  File \"demo_release.py\", line 29\n",
      "    for \n",
      "       ^\n",
      "SyntaxError: invalid syntax\n",
      "  File \"demo_release.py\", line 29\n",
      "    for \n",
      "       ^\n",
      "SyntaxError: invalid syntax\n"
     ]
    },
    {
     "name": "stdout",
     "output_type": "stream",
     "text": [
      "Processing: ../../project/unlabeled2017/000000357556.jpg\n",
      "Processing: ../../project/unlabeled2017/000000499316.jpg\n",
      "Processing: ../../project/unlabeled2017/000000060197.jpg\n",
      "Processing: ../../project/unlabeled2017/000000570556.jpg\n",
      "Processing: ../../project/unlabeled2017/000000357924.jpg\n",
      "Processing: ../../project/unlabeled2017/000000428265.jpg\n",
      "Processing: ../../project/unlabeled2017/000000477017.jpg\n"
     ]
    },
    {
     "name": "stderr",
     "output_type": "stream",
     "text": [
      "  File \"demo_release.py\", line 29\n",
      "    for \n",
      "       ^\n",
      "SyntaxError: invalid syntax\n",
      " 48%|████▊     | 484/1000 [03:12<00:17, 30.21it/s]  File \"demo_release.py\", line 29\n",
      "    for \n",
      "       ^\n",
      "SyntaxError: invalid syntax\n",
      "  File \"demo_release.py\", line 29\n",
      "    for \n",
      "       ^\n",
      "SyntaxError: invalid syntax\n",
      "  File \"demo_release.py\", line 29\n",
      "    for \n",
      "       ^\n",
      "SyntaxError: invalid syntax\n",
      "  File \"demo_release.py\", line 29\n",
      "    for \n",
      "       ^\n",
      "SyntaxError: invalid syntax\n",
      " 49%|████▉     | 488/1000 [03:12<00:17, 29.81it/s]  File \"demo_release.py\", line 29\n",
      "    for \n",
      "       ^\n",
      "SyntaxError: invalid syntax\n"
     ]
    },
    {
     "name": "stdout",
     "output_type": "stream",
     "text": [
      "Processing: ../../project/unlabeled2017/000000495371.jpg\n",
      "Processing: ../../project/unlabeled2017/000000511054.jpg\n",
      "Processing: ../../project/unlabeled2017/000000001495.jpg\n",
      "Processing: ../../project/unlabeled2017/000000523743.jpg\n",
      "Processing: ../../project/unlabeled2017/000000382679.jpg\n",
      "Processing: ../../project/unlabeled2017/000000416515.jpg\n",
      "Processing: ../../project/unlabeled2017/000000280466.jpg\n"
     ]
    },
    {
     "name": "stderr",
     "output_type": "stream",
     "text": [
      "  File \"demo_release.py\", line 29\n",
      "    for \n",
      "       ^\n",
      "SyntaxError: invalid syntax\n",
      "  File \"demo_release.py\", line 29\n",
      "    for \n",
      "       ^\n",
      "SyntaxError: invalid syntax\n",
      " 49%|████▉     | 491/1000 [03:12<00:17, 29.71it/s]  File \"demo_release.py\", line 29\n",
      "    for \n",
      "       ^\n",
      "SyntaxError: invalid syntax\n",
      "  File \"demo_release.py\", line 29\n",
      "    for \n",
      "       ^\n",
      "SyntaxError: invalid syntax\n",
      "  File \"demo_release.py\", line 29\n",
      "    for \n",
      "       ^\n",
      "SyntaxError: invalid syntax\n",
      "  File \"demo_release.py\", line 29\n",
      "    for \n",
      "       ^\n",
      "SyntaxError: invalid syntax\n",
      " 50%|████▉     | 495/1000 [03:13<00:16, 30.25it/s]  File \"demo_release.py\", line 29\n",
      "    for \n",
      "       ^\n",
      "SyntaxError: invalid syntax\n",
      "  File \"demo_release.py\", line 29\n",
      "    for \n",
      "       ^\n",
      "SyntaxError: invalid syntax\n"
     ]
    },
    {
     "name": "stdout",
     "output_type": "stream",
     "text": [
      "Processing: ../../project/unlabeled2017/000000547781.jpg\n",
      "Processing: ../../project/unlabeled2017/000000297406.jpg\n",
      "Processing: ../../project/unlabeled2017/000000395619.jpg\n",
      "Processing: ../../project/unlabeled2017/000000401575.jpg\n",
      "Processing: ../../project/unlabeled2017/000000226907.jpg\n",
      "Processing: ../../project/unlabeled2017/000000008132.jpg\n",
      "Processing: ../../project/unlabeled2017/000000321034.jpg\n"
     ]
    },
    {
     "name": "stderr",
     "output_type": "stream",
     "text": [
      "  File \"demo_release.py\", line 29\n",
      "    for \n",
      "       ^\n",
      "SyntaxError: invalid syntax\n",
      "  File \"demo_release.py\", line 29\n",
      "    for \n",
      "       ^\n",
      "SyntaxError: invalid syntax\n",
      " 50%|████▉     | 499/1000 [03:13<00:16, 29.86it/s]  File \"demo_release.py\", line 29\n",
      "    for \n",
      "       ^\n",
      "SyntaxError: invalid syntax\n",
      "  File \"demo_release.py\", line 29\n",
      "    for \n",
      "       ^\n",
      "SyntaxError: invalid syntax\n",
      "  File \"demo_release.py\", line 29\n",
      "    for \n",
      "       ^\n",
      "SyntaxError: invalid syntax\n",
      " 50%|█████     | 502/1000 [03:13<00:17, 29.24it/s]  File \"demo_release.py\", line 29\n",
      "    for \n",
      "       ^\n",
      "SyntaxError: invalid syntax\n"
     ]
    },
    {
     "name": "stdout",
     "output_type": "stream",
     "text": [
      "Processing: ../../project/unlabeled2017/000000555221.jpg\n",
      "Processing: ../../project/unlabeled2017/000000087731.jpg\n",
      "Processing: ../../project/unlabeled2017/000000180270.jpg\n",
      "Processing: ../../project/unlabeled2017/000000004155.jpg\n",
      "Processing: ../../project/unlabeled2017/000000472270.jpg\n",
      "Processing: ../../project/unlabeled2017/000000111613.jpg\n"
     ]
    },
    {
     "name": "stderr",
     "output_type": "stream",
     "text": [
      "  File \"demo_release.py\", line 29\n",
      "    for \n",
      "       ^\n",
      "SyntaxError: invalid syntax\n",
      "  File \"demo_release.py\", line 29\n",
      "    for \n",
      "       ^\n",
      "SyntaxError: invalid syntax\n",
      "  File \"demo_release.py\", line 29\n",
      "    for \n",
      "       ^\n",
      "SyntaxError: invalid syntax\n",
      " 51%|█████     | 506/1000 [03:13<00:16, 29.60it/s]  File \"demo_release.py\", line 29\n",
      "    for \n",
      "       ^\n",
      "SyntaxError: invalid syntax\n",
      "  File \"demo_release.py\", line 29\n",
      "    for \n",
      "       ^\n",
      "SyntaxError: invalid syntax\n",
      "  File \"demo_release.py\", line 29\n",
      "    for \n",
      "       ^\n",
      "SyntaxError: invalid syntax\n",
      " 51%|█████     | 509/1000 [03:13<00:16, 29.15it/s]"
     ]
    },
    {
     "name": "stdout",
     "output_type": "stream",
     "text": [
      "Processing: ../../project/unlabeled2017/000000559993.jpg\n",
      "Processing: ../../project/unlabeled2017/000000360026.jpg\n",
      "Processing: ../../project/unlabeled2017/000000238715.jpg\n",
      "Processing: ../../project/unlabeled2017/000000197729.jpg\n",
      "Processing: ../../project/unlabeled2017/000000095536.jpg\n",
      "Processing: ../../project/unlabeled2017/000000321793.jpg\n"
     ]
    },
    {
     "name": "stderr",
     "output_type": "stream",
     "text": [
      "  File \"demo_release.py\", line 29\n",
      "    for \n",
      "       ^\n",
      "SyntaxError: invalid syntax\n",
      "  File \"demo_release.py\", line 29\n",
      "    for \n",
      "       ^\n",
      "SyntaxError: invalid syntax\n",
      "  File \"demo_release.py\", line 29\n",
      "    for \n",
      "       ^\n",
      "SyntaxError: invalid syntax\n",
      " 51%|█████     | 512/1000 [03:13<00:16, 29.22it/s]  File \"demo_release.py\", line 29\n",
      "    for \n",
      "       ^\n",
      "SyntaxError: invalid syntax\n",
      "  File \"demo_release.py\", line 29\n",
      "    for \n",
      "       ^\n",
      "SyntaxError: invalid syntax\n",
      "  File \"demo_release.py\", line 29\n",
      "    for \n",
      "       ^\n",
      "SyntaxError: invalid syntax\n",
      " 52%|█████▏    | 515/1000 [03:13<00:17, 28.15it/s]"
     ]
    },
    {
     "name": "stdout",
     "output_type": "stream",
     "text": [
      "Processing: ../../project/unlabeled2017/000000518254.jpg\n",
      "Processing: ../../project/unlabeled2017/000000123104.jpg\n",
      "Processing: ../../project/unlabeled2017/000000179428.jpg\n",
      "Processing: ../../project/unlabeled2017/000000372586.jpg\n",
      "Processing: ../../project/unlabeled2017/000000457799.jpg\n",
      "Processing: ../../project/unlabeled2017/000000495648.jpg\n"
     ]
    },
    {
     "name": "stderr",
     "output_type": "stream",
     "text": [
      "  File \"demo_release.py\", line 29\n",
      "    for \n",
      "       ^\n",
      "SyntaxError: invalid syntax\n",
      "  File \"demo_release.py\", line 29\n",
      "    for \n",
      "       ^\n",
      "SyntaxError: invalid syntax\n",
      "  File \"demo_release.py\", line 29\n",
      "    for \n",
      "       ^\n",
      "SyntaxError: invalid syntax\n",
      " 52%|█████▏    | 518/1000 [03:13<00:16, 28.48it/s]  File \"demo_release.py\", line 29\n",
      "    for \n",
      "       ^\n",
      "SyntaxError: invalid syntax\n",
      "  File \"demo_release.py\", line 29\n",
      "    for \n",
      "       ^\n",
      "SyntaxError: invalid syntax\n",
      "  File \"demo_release.py\", line 29\n",
      "    for \n",
      "       ^\n",
      "SyntaxError: invalid syntax\n",
      " 52%|█████▏    | 521/1000 [03:13<00:16, 28.88it/s]  File \"demo_release.py\", line 29\n",
      "    for \n",
      "       ^\n",
      "SyntaxError: invalid syntax\n"
     ]
    },
    {
     "name": "stdout",
     "output_type": "stream",
     "text": [
      "Processing: ../../project/unlabeled2017/000000514233.jpg\n",
      "Processing: ../../project/unlabeled2017/000000579756.jpg\n",
      "Processing: ../../project/unlabeled2017/000000408999.jpg\n",
      "Processing: ../../project/unlabeled2017/000000040619.jpg\n",
      "Processing: ../../project/unlabeled2017/000000142874.jpg\n",
      "Processing: ../../project/unlabeled2017/000000069397.jpg\n",
      "Processing: ../../project/unlabeled2017/000000219837.jpg\n"
     ]
    },
    {
     "name": "stderr",
     "output_type": "stream",
     "text": [
      "  File \"demo_release.py\", line 29\n",
      "    for \n",
      "       ^\n",
      "SyntaxError: invalid syntax\n",
      "  File \"demo_release.py\", line 29\n",
      "    for \n",
      "       ^\n",
      "SyntaxError: invalid syntax\n",
      "  File \"demo_release.py\", line 29\n",
      "    for \n",
      "       ^\n",
      "SyntaxError: invalid syntax\n",
      " 52%|█████▎    | 525/1000 [03:14<00:16, 29.13it/s]  File \"demo_release.py\", line 29\n",
      "    for \n",
      "       ^\n",
      "SyntaxError: invalid syntax\n",
      "  File \"demo_release.py\", line 29\n",
      "    for \n",
      "       ^\n",
      "SyntaxError: invalid syntax\n",
      "  File \"demo_release.py\", line 29\n",
      "    for \n",
      "       ^\n",
      "SyntaxError: invalid syntax\n",
      "  File \"demo_release.py\", line 29\n",
      "    for \n",
      "       ^\n",
      "SyntaxError: invalid syntax\n",
      " 53%|█████▎    | 529/1000 [03:14<00:15, 29.91it/s]"
     ]
    },
    {
     "name": "stdout",
     "output_type": "stream",
     "text": [
      "Processing: ../../project/unlabeled2017/000000453120.jpg\n",
      "Processing: ../../project/unlabeled2017/000000207182.jpg\n",
      "Processing: ../../project/unlabeled2017/000000181430.jpg\n",
      "Processing: ../../project/unlabeled2017/000000344428.jpg\n",
      "Processing: ../../project/unlabeled2017/000000064217.jpg\n",
      "Processing: ../../project/unlabeled2017/000000151041.jpg\n",
      "Processing: ../../project/unlabeled2017/000000215850.jpg\n"
     ]
    },
    {
     "name": "stderr",
     "output_type": "stream",
     "text": [
      "  File \"demo_release.py\", line 29\n",
      "    for \n",
      "       ^\n",
      "SyntaxError: invalid syntax\n",
      "  File \"demo_release.py\", line 29\n",
      "    for \n",
      "       ^\n",
      "SyntaxError: invalid syntax\n",
      "  File \"demo_release.py\", line 29\n",
      "    for \n",
      "       ^\n",
      "SyntaxError: invalid syntax\n",
      "  File \"demo_release.py\", line 29\n",
      "    for \n",
      "       ^\n",
      "SyntaxError: invalid syntax\n",
      " 53%|█████▎    | 533/1000 [03:14<00:15, 30.13it/s]  File \"demo_release.py\", line 29\n",
      "    for \n",
      "       ^\n",
      "SyntaxError: invalid syntax\n",
      "  File \"demo_release.py\", line 29\n",
      "    for \n",
      "       ^\n",
      "SyntaxError: invalid syntax\n",
      "  File \"demo_release.py\", line 29\n",
      "    for \n",
      "       ^\n",
      "SyntaxError: invalid syntax\n"
     ]
    },
    {
     "name": "stdout",
     "output_type": "stream",
     "text": [
      "Processing: ../../project/unlabeled2017/000000266480.jpg\n",
      "Processing: ../../project/unlabeled2017/000000227335.jpg\n",
      "Processing: ../../project/unlabeled2017/000000061549.jpg\n",
      "Processing: ../../project/unlabeled2017/000000305848.jpg\n",
      "Processing: ../../project/unlabeled2017/000000522848.jpg\n",
      "Processing: ../../project/unlabeled2017/000000332801.jpg\n",
      "Processing: ../../project/unlabeled2017/000000300364.jpg\n"
     ]
    },
    {
     "name": "stderr",
     "output_type": "stream",
     "text": [
      "  File \"demo_release.py\", line 29\n",
      "    for \n",
      "       ^\n",
      "SyntaxError: invalid syntax\n",
      " 54%|█████▎    | 537/1000 [03:14<00:15, 29.67it/s]  File \"demo_release.py\", line 29\n",
      "    for \n",
      "       ^\n",
      "SyntaxError: invalid syntax\n",
      "  File \"demo_release.py\", line 29\n",
      "    for \n",
      "       ^\n",
      "SyntaxError: invalid syntax\n",
      "  File \"demo_release.py\", line 29\n",
      "    for \n",
      "       ^\n",
      "SyntaxError: invalid syntax\n",
      "  File \"demo_release.py\", line 29\n",
      "    for \n",
      "       ^\n",
      "SyntaxError: invalid syntax\n",
      " 54%|█████▍    | 541/1000 [03:14<00:15, 29.72it/s]  File \"demo_release.py\", line 29\n",
      "    for \n",
      "       ^\n",
      "SyntaxError: invalid syntax\n"
     ]
    },
    {
     "name": "stdout",
     "output_type": "stream",
     "text": [
      "Processing: ../../project/unlabeled2017/000000284041.jpg\n",
      "Processing: ../../project/unlabeled2017/000000432385.jpg\n",
      "Processing: ../../project/unlabeled2017/000000215385.jpg\n",
      "Processing: ../../project/unlabeled2017/000000519414.jpg\n",
      "Processing: ../../project/unlabeled2017/000000122744.jpg\n",
      "Processing: ../../project/unlabeled2017/000000574171.jpg\n",
      "Processing: ../../project/unlabeled2017/000000017512.jpg\n"
     ]
    },
    {
     "name": "stderr",
     "output_type": "stream",
     "text": [
      "  File \"demo_release.py\", line 29\n",
      "    for \n",
      "       ^\n",
      "SyntaxError: invalid syntax\n",
      "  File \"demo_release.py\", line 29\n",
      "    for \n",
      "       ^\n",
      "SyntaxError: invalid syntax\n",
      " 54%|█████▍    | 544/1000 [03:14<00:15, 29.36it/s]  File \"demo_release.py\", line 29\n",
      "    for \n",
      "       ^\n",
      "SyntaxError: invalid syntax\n",
      "  File \"demo_release.py\", line 29\n",
      "    for \n",
      "       ^\n",
      "SyntaxError: invalid syntax\n",
      "  File \"demo_release.py\", line 29\n",
      "    for \n",
      "       ^\n",
      "SyntaxError: invalid syntax\n",
      " 55%|█████▍    | 547/1000 [03:14<00:15, 29.19it/s]  File \"demo_release.py\", line 29\n",
      "    for \n",
      "       ^\n",
      "SyntaxError: invalid syntax\n",
      "  File \"demo_release.py\", line 29\n",
      "    for \n",
      "       ^\n",
      "SyntaxError: invalid syntax\n",
      "  File \"demo_release.py\", line 29\n",
      "    for \n",
      "       ^\n",
      "SyntaxError: invalid syntax\n"
     ]
    },
    {
     "name": "stdout",
     "output_type": "stream",
     "text": [
      "Processing: ../../project/unlabeled2017/000000546666.jpg\n",
      "Processing: ../../project/unlabeled2017/000000110053.jpg\n",
      "Processing: ../../project/unlabeled2017/000000296993.jpg\n",
      "Processing: ../../project/unlabeled2017/000000342263.jpg\n",
      "Processing: ../../project/unlabeled2017/000000182525.jpg\n",
      "Processing: ../../project/unlabeled2017/000000140886.jpg\n",
      "Processing: ../../project/unlabeled2017/000000031649.jpg\n"
     ]
    },
    {
     "name": "stderr",
     "output_type": "stream",
     "text": [
      "  File \"demo_release.py\", line 29\n",
      "    for \n",
      "       ^\n",
      "SyntaxError: invalid syntax\n",
      " 55%|█████▌    | 551/1000 [03:14<00:14, 30.03it/s]  File \"demo_release.py\", line 29\n",
      "    for \n",
      "       ^\n",
      "SyntaxError: invalid syntax\n",
      "  File \"demo_release.py\", line 29\n",
      "    for \n",
      "       ^\n",
      "SyntaxError: invalid syntax\n",
      "  File \"demo_release.py\", line 29\n",
      "    for \n",
      "       ^\n",
      "SyntaxError: invalid syntax\n",
      " 55%|█████▌    | 554/1000 [03:15<00:15, 29.49it/s]  File \"demo_release.py\", line 29\n",
      "    for \n",
      "       ^\n",
      "SyntaxError: invalid syntax\n",
      "  File \"demo_release.py\", line 29\n",
      "    for \n",
      "       ^\n",
      "SyntaxError: invalid syntax\n"
     ]
    },
    {
     "name": "stdout",
     "output_type": "stream",
     "text": [
      "Processing: ../../project/unlabeled2017/000000228247.jpg\n",
      "Processing: ../../project/unlabeled2017/000000299334.jpg\n",
      "Processing: ../../project/unlabeled2017/000000370906.jpg\n",
      "Processing: ../../project/unlabeled2017/000000557574.jpg\n",
      "Processing: ../../project/unlabeled2017/000000216945.jpg\n",
      "Processing: ../../project/unlabeled2017/000000216537.jpg\n"
     ]
    },
    {
     "name": "stderr",
     "output_type": "stream",
     "text": [
      "  File \"demo_release.py\", line 29\n",
      "    for \n",
      "       ^\n",
      "SyntaxError: invalid syntax\n",
      " 56%|█████▌    | 557/1000 [03:15<00:15, 28.85it/s]  File \"demo_release.py\", line 29\n",
      "    for \n",
      "       ^\n",
      "SyntaxError: invalid syntax\n",
      "  File \"demo_release.py\", line 29\n",
      "    for \n",
      "       ^\n",
      "SyntaxError: invalid syntax\n",
      "  File \"demo_release.py\", line 29\n",
      "    for \n",
      "       ^\n",
      "SyntaxError: invalid syntax\n",
      "  File \"demo_release.py\", line 29\n",
      "    for \n",
      "       ^\n",
      "SyntaxError: invalid syntax\n",
      " 56%|█████▌    | 561/1000 [03:15<00:15, 29.22it/s]  File \"demo_release.py\", line 29\n",
      "    for \n",
      "       ^\n",
      "SyntaxError: invalid syntax\n",
      "  File \"demo_release.py\", line 29\n",
      "    for \n",
      "       ^\n",
      "SyntaxError: invalid syntax\n"
     ]
    },
    {
     "name": "stdout",
     "output_type": "stream",
     "text": [
      "Processing: ../../project/unlabeled2017/000000295353.jpg\n",
      "Processing: ../../project/unlabeled2017/000000434269.jpg\n",
      "Processing: ../../project/unlabeled2017/000000249745.jpg\n",
      "Processing: ../../project/unlabeled2017/000000450792.jpg\n",
      "Processing: ../../project/unlabeled2017/000000269255.jpg\n",
      "Processing: ../../project/unlabeled2017/000000331914.jpg\n",
      "Processing: ../../project/unlabeled2017/000000414779.jpg\n"
     ]
    },
    {
     "name": "stderr",
     "output_type": "stream",
     "text": [
      "  File \"demo_release.py\", line 29\n",
      "    for img_path in tqdm(image_files)\n",
      "                                    ^\n",
      "SyntaxError: invalid syntax\n",
      " 56%|█████▋    | 564/1000 [03:15<00:14, 29.28it/s]  File \"demo_release.py\", line 29\n",
      "    for img_path in tqdm(image_files)\n",
      "                                    ^\n",
      "SyntaxError: invalid syntax\n",
      "  File \"demo_release.py\", line 29\n",
      "    for img_path in tqdm(image_files)\n",
      "                                    ^\n",
      "SyntaxError: invalid syntax\n",
      "  File \"demo_release.py\", line 29\n",
      "    for img_path in tqdm(image_files)\n",
      "                                    ^\n",
      "SyntaxError: invalid syntax\n",
      " 57%|█████▋    | 567/1000 [03:15<00:14, 28.93it/s]  File \"demo_release.py\", line 29\n",
      "    for img_path in tqdm(image_files)\n",
      "                                    ^\n",
      "SyntaxError: invalid syntax\n",
      "  File \"demo_release.py\", line 29\n",
      "    for img_path in tqdm(image_files)\n",
      "                                    ^\n",
      "SyntaxError: invalid syntax\n"
     ]
    },
    {
     "name": "stdout",
     "output_type": "stream",
     "text": [
      "Processing: ../../project/unlabeled2017/000000047612.jpg\n",
      "Processing: ../../project/unlabeled2017/000000172836.jpg\n",
      "Processing: ../../project/unlabeled2017/000000462085.jpg\n",
      "Processing: ../../project/unlabeled2017/000000287154.jpg\n",
      "Processing: ../../project/unlabeled2017/000000079162.jpg\n",
      "Processing: ../../project/unlabeled2017/000000216290.jpg\n"
     ]
    },
    {
     "name": "stderr",
     "output_type": "stream",
     "text": [
      "  File \"demo_release.py\", line 29\n",
      "    for img_path in tqdm(image_files)\n",
      "                                    ^\n",
      "SyntaxError: invalid syntax\n",
      " 57%|█████▋    | 570/1000 [03:15<00:14, 28.81it/s]  File \"demo_release.py\", line 29\n",
      "    for img_path in tqdm(image_files)\n",
      "                                    ^\n",
      "SyntaxError: invalid syntax\n",
      "  File \"demo_release.py\", line 29\n",
      "    for img_path in tqdm(image_files)\n",
      "                                    ^\n",
      "SyntaxError: invalid syntax\n",
      "  File \"demo_release.py\", line 29\n",
      "    for img_path in tqdm(image_files)\n",
      "                                    ^\n",
      "SyntaxError: invalid syntax\n",
      " 57%|█████▋    | 573/1000 [03:15<00:14, 29.05it/s]  File \"demo_release.py\", line 29\n",
      "    for img_path in tqdm(image_files)\n",
      "                                    ^\n",
      "SyntaxError: invalid syntax\n",
      "  File \"demo_release.py\", line 29\n",
      "    for img_path in tqdm(image_files)\n",
      "                                    ^\n",
      "SyntaxError: invalid syntax\n"
     ]
    },
    {
     "name": "stdout",
     "output_type": "stream",
     "text": [
      "Processing: ../../project/unlabeled2017/000000097263.jpg\n",
      "Processing: ../../project/unlabeled2017/000000257957.jpg\n",
      "Processing: ../../project/unlabeled2017/000000113146.jpg\n",
      "Processing: ../../project/unlabeled2017/000000011359.jpg\n",
      "Processing: ../../project/unlabeled2017/000000501798.jpg\n",
      "Processing: ../../project/unlabeled2017/000000403587.jpg\n"
     ]
    },
    {
     "name": "stderr",
     "output_type": "stream",
     "text": [
      "  File \"demo_release.py\", line 29\n",
      "    for img_path in tqdm(image_files)\n",
      "                                    ^\n",
      "SyntaxError: invalid syntax\n",
      " 58%|█████▊    | 576/1000 [03:15<00:14, 28.56it/s]  File \"demo_release.py\", line 29\n",
      "    for img_path in tqdm(image_files)\n",
      "                                    ^\n",
      "SyntaxError: invalid syntax\n",
      "  File \"demo_release.py\", line 29\n",
      "    for img_path in tqdm(image_files)\n",
      "                                    ^\n",
      "SyntaxError: invalid syntax\n",
      "  File \"demo_release.py\", line 29\n",
      "    for img_path in tqdm(image_files)\n",
      "                                    ^\n",
      "SyntaxError: invalid syntax\n",
      " 58%|█████▊    | 579/1000 [03:15<00:14, 28.81it/s]  File \"demo_release.py\", line 29\n",
      "    for img_path in tqdm(image_files)\n",
      "                                    ^\n",
      "SyntaxError: invalid syntax\n",
      "  File \"demo_release.py\", line 29\n",
      "    for img_path in tqdm(image_files)\n",
      "                                    ^\n",
      "SyntaxError: invalid syntax\n",
      "  File \"demo_release.py\", line 29\n",
      "    for img_path in tqdm(image_files)\n",
      "                                    ^\n",
      "SyntaxError: invalid syntax\n"
     ]
    },
    {
     "name": "stdout",
     "output_type": "stream",
     "text": [
      "Processing: ../../project/unlabeled2017/000000310636.jpg\n",
      "Processing: ../../project/unlabeled2017/000000294513.jpg\n",
      "Processing: ../../project/unlabeled2017/000000217377.jpg\n",
      "Processing: ../../project/unlabeled2017/000000051979.jpg\n",
      "Processing: ../../project/unlabeled2017/000000525396.jpg\n",
      "Processing: ../../project/unlabeled2017/000000144998.jpg\n",
      "Processing: ../../project/unlabeled2017/000000276675.jpg\n"
     ]
    },
    {
     "name": "stderr",
     "output_type": "stream",
     "text": [
      "  File \"demo_release.py\", line 29\n",
      "    for img_path in tqdm(image_files)\n",
      "                                    ^\n",
      "SyntaxError: invalid syntax\n",
      " 58%|█████▊    | 583/1000 [03:16<00:14, 29.63it/s]  File \"demo_release.py\", line 29\n",
      "    for img_path in tqdm(image_files)\n",
      "                                    ^\n",
      "SyntaxError: invalid syntax\n",
      "  File \"demo_release.py\", line 29\n",
      "    for img_path in tqdm(image_files)\n",
      "                                    ^\n",
      "SyntaxError: invalid syntax\n",
      "  File \"demo_release.py\", line 29\n",
      "    for img_path in tqdm(image_files)\n",
      "                                    ^\n",
      "SyntaxError: invalid syntax\n",
      "  File \"demo_release.py\", line 29\n",
      "    for img_path in tqdm(image_files)\n",
      "                                    ^\n",
      "SyntaxError: invalid syntax\n",
      " 59%|█████▊    | 587/1000 [03:16<00:13, 29.92it/s]  File \"demo_release.py\", line 29\n",
      "    for img_path in tqdm(image_files)\n",
      "                                    ^\n",
      "SyntaxError: invalid syntax\n"
     ]
    },
    {
     "name": "stdout",
     "output_type": "stream",
     "text": [
      "Processing: ../../project/unlabeled2017/000000517481.jpg\n",
      "Processing: ../../project/unlabeled2017/000000010519.jpg\n",
      "Processing: ../../project/unlabeled2017/000000529456.jpg\n",
      "Processing: ../../project/unlabeled2017/000000576624.jpg\n",
      "Processing: ../../project/unlabeled2017/000000474849.jpg\n",
      "Processing: ../../project/unlabeled2017/000000209117.jpg\n",
      "Processing: ../../project/unlabeled2017/000000407499.jpg\n"
     ]
    },
    {
     "name": "stderr",
     "output_type": "stream",
     "text": [
      "  File \"demo_release.py\", line 29\n",
      "    for img_path in tqdm(image_files)\n",
      "                                    ^\n",
      "SyntaxError: invalid syntax\n",
      "  File \"demo_release.py\", line 29\n",
      "    for img_path in tqdm(image_files)\n",
      "                                    ^\n",
      "SyntaxError: invalid syntax\n",
      " 59%|█████▉    | 590/1000 [03:16<00:13, 29.60it/s]  File \"demo_release.py\", line 29\n",
      "    for img_path in tqdm(image_files)\n",
      "                                    ^\n",
      "SyntaxError: invalid syntax\n",
      "  File \"demo_release.py\", line 29\n",
      "    for img_path in tqdm(image_files)\n",
      "                                    ^\n",
      "SyntaxError: invalid syntax\n",
      "  File \"demo_release.py\", line 29\n",
      "    for img_path in tqdm(image_files)\n",
      "                                    ^\n",
      "SyntaxError: invalid syntax\n",
      " 59%|█████▉    | 593/1000 [03:16<00:13, 29.68it/s]  File \"demo_release.py\", line 29\n",
      "    for img_path in tqdm(image_files)\n",
      "                                    ^\n",
      "SyntaxError: invalid syntax\n",
      "  File \"demo_release.py\", line 29\n",
      "    for img_path in tqdm(image_files)\n",
      "                                    ^\n",
      "SyntaxError: invalid syntax\n",
      "  File \"demo_release.py\", line 29\n",
      "    for img_path in tqdm(image_files)\n",
      "                                    ^\n",
      "SyntaxError: invalid syntax\n"
     ]
    },
    {
     "name": "stdout",
     "output_type": "stream",
     "text": [
      "Processing: ../../project/unlabeled2017/000000443472.jpg\n",
      "Processing: ../../project/unlabeled2017/000000129728.jpg\n",
      "Processing: ../../project/unlabeled2017/000000556493.jpg\n",
      "Processing: ../../project/unlabeled2017/000000302431.jpg\n",
      "Processing: ../../project/unlabeled2017/000000268415.jpg\n",
      "Processing: ../../project/unlabeled2017/000000415139.jpg\n",
      "Processing: ../../project/unlabeled2017/000000205170.jpg\n"
     ]
    },
    {
     "name": "stderr",
     "output_type": "stream",
     "text": [
      "  File \"demo_release.py\", line 29\n",
      "    for img_path in tqdm(image_files)\n",
      "                                    ^\n",
      "SyntaxError: invalid syntax\n",
      " 60%|█████▉    | 597/1000 [03:16<00:13, 30.10it/s]  File \"demo_release.py\", line 29\n",
      "    for img_path in tqdm(image_files)\n",
      "                                    ^\n",
      "SyntaxError: invalid syntax\n",
      "  File \"demo_release.py\", line 29\n",
      "    for img_path in tqdm(image_files)\n",
      "                                    ^\n",
      "SyntaxError: invalid syntax\n",
      "  File \"demo_release.py\", line 29\n",
      "    for img_path in tqdm(image_files)\n",
      "                                    ^\n",
      "SyntaxError: invalid syntax\n",
      "  File \"demo_release.py\", line 29\n",
      "    for img_path in tqdm(image_files)\n",
      "                                    ^\n",
      "SyntaxError: invalid syntax\n",
      " 60%|██████    | 601/1000 [03:16<00:13, 30.01it/s]  File \"demo_release.py\", line 29\n",
      "    for img_path in tqdm(image_files)\n",
      "                                    ^\n",
      "SyntaxError: invalid syntax\n"
     ]
    },
    {
     "name": "stdout",
     "output_type": "stream",
     "text": [
      "Processing: ../../project/unlabeled2017/000000141961.jpg\n",
      "Processing: ../../project/unlabeled2017/000000019220.jpg\n",
      "Processing: ../../project/unlabeled2017/000000141513.jpg\n",
      "Processing: ../../project/unlabeled2017/000000086510.jpg\n",
      "Processing: ../../project/unlabeled2017/000000102635.jpg\n",
      "Processing: ../../project/unlabeled2017/000000158319.jpg\n",
      "Processing: ../../project/unlabeled2017/000000000858.jpg\n"
     ]
    },
    {
     "name": "stderr",
     "output_type": "stream",
     "text": [
      "  File \"demo_release.py\", line 29\n",
      "    for img_path in tqdm(image_files)\n",
      "                                    ^\n",
      "SyntaxError: invalid syntax\n",
      "Traceback (most recent call last):\n",
      "  File \"demo_release.py\", line 27, in <module>\n",
      "    image_files = [f for f in os.listdir(image_dir)[:1000] if f.lower().endswith(('.jpg', '.jpeg', '.png'))]\n",
      "NameError: name 'os' is not defined\n",
      " 60%|██████    | 604/1000 [03:20<02:24,  2.74it/s]"
     ]
    },
    {
     "name": "stdout",
     "output_type": "stream",
     "text": [
      "Processing: ../../project/unlabeled2017/000000386198.jpg\n"
     ]
    },
    {
     "name": "stderr",
     "output_type": "stream",
     "text": [
      "Traceback (most recent call last):\n",
      "  File \"demo_release.py\", line 27, in <module>\n",
      "    image_files = [f for f in os.listdir(image_dir)[:1000] if f.lower().endswith(('.jpg', '.jpeg', '.png'))]\n",
      "NameError: name 'os' is not defined\n"
     ]
    },
    {
     "name": "stdout",
     "output_type": "stream",
     "text": [
      "Processing: ../../project/unlabeled2017/000000068611.jpg\n"
     ]
    },
    {
     "name": "stderr",
     "output_type": "stream",
     "text": [
      "Traceback (most recent call last):\n",
      "  File \"demo_release.py\", line 27, in <module>\n",
      "    image_files = [f for f in os.listdir(image_dir)[:1000] if f.lower().endswith(('.jpg', '.jpeg', '.png'))]\n",
      "NameError: name 'os' is not defined\n"
     ]
    },
    {
     "name": "stdout",
     "output_type": "stream",
     "text": [
      "Processing: ../../project/unlabeled2017/000000368299.jpg\n"
     ]
    },
    {
     "name": "stderr",
     "output_type": "stream",
     "text": [
      "Traceback (most recent call last):\n",
      "  File \"demo_release.py\", line 27, in <module>\n",
      "    image_files = [f for f in os.listdir(image_dir)[:1000] if f.lower().endswith(('.jpg', '.jpeg', '.png'))]\n",
      "NameError: name 'os' is not defined\n",
      " 61%|██████    | 607/1000 [03:33<09:11,  1.40s/it]"
     ]
    },
    {
     "name": "stdout",
     "output_type": "stream",
     "text": [
      "Processing: ../../project/unlabeled2017/000000464508.jpg\n"
     ]
    },
    {
     "name": "stderr",
     "output_type": "stream",
     "text": [
      "Traceback (most recent call last):\n",
      "  File \"demo_release.py\", line 6, in <module>\n",
      "    from colorizers import *\n",
      "  File \"/home/venkateshp/TTT/experiment/colorization/colorizers/__init__.py\", line 2, in <module>\n",
      "    from .base_color import *\n",
      "  File \"/home/venkateshp/TTT/experiment/colorization/colorizers/base_color.py\", line 2, in <module>\n",
      "    import torch\n",
      "  File \"/home/venkateshp/miniconda3/envs/pse_env/lib/python3.8/site-packages/torch/__init__.py\", line 2143, in <module>\n",
      "    from . import _meta_registrations\n",
      "  File \"/home/venkateshp/miniconda3/envs/pse_env/lib/python3.8/site-packages/torch/_meta_registrations.py\", line 9, in <module>\n",
      "    from torch._decomp import (\n",
      "  File \"/home/venkateshp/miniconda3/envs/pse_env/lib/python3.8/site-packages/torch/_decomp/__init__.py\", line 245, in <module>\n",
      "    import torch._decomp.decompositions\n",
      "  File \"/home/venkateshp/miniconda3/envs/pse_env/lib/python3.8/site-packages/torch/_decomp/decompositions.py\", line 12, in <module>\n",
      "    import torch._prims as prims\n",
      "  File \"/home/venkateshp/miniconda3/envs/pse_env/lib/python3.8/site-packages/torch/_prims/__init__.py\", line 1080, in <module>\n",
      "    lt = _make_elementwise_binary_prim(\n",
      "  File \"/home/venkateshp/miniconda3/envs/pse_env/lib/python3.8/site-packages/torch/_prims/__init__.py\", line 487, in _make_elementwise_binary_prim\n",
      "    return _make_prim(\n",
      "  File \"/home/venkateshp/miniconda3/envs/pse_env/lib/python3.8/site-packages/torch/_prims/__init__.py\", line 320, in _make_prim\n",
      "    prim_def = torch.library.custom_op(\n",
      "  File \"/home/venkateshp/miniconda3/envs/pse_env/lib/python3.8/site-packages/torch/_library/custom_ops.py\", line 142, in custom_op\n",
      "    return inner(fn)\n",
      "  File \"/home/venkateshp/miniconda3/envs/pse_env/lib/python3.8/site-packages/torch/_library/custom_ops.py\", line 123, in inner\n",
      "    result = CustomOpDef(namespace, opname, schema_str, fn)\n",
      "  File \"/home/venkateshp/miniconda3/envs/pse_env/lib/python3.8/site-packages/torch/_library/custom_ops.py\", line 169, in __init__\n",
      "    self._register_to_dispatcher()\n",
      "  File \"/home/venkateshp/miniconda3/envs/pse_env/lib/python3.8/site-packages/torch/_library/custom_ops.py\", line 455, in _register_to_dispatcher\n",
      "    lib.define(\n",
      "  File \"/home/venkateshp/miniconda3/envs/pse_env/lib/python3.8/site-packages/torch/library.py\", line 118, in define\n",
      "    result = self.m.define(schema, alias_analysis, tuple(tags))\n",
      "KeyboardInterrupt\n",
      " 61%|██████    | 607/1000 [03:35<02:19,  2.82it/s]\n"
     ]
    },
    {
     "ename": "KeyboardInterrupt",
     "evalue": "",
     "output_type": "error",
     "traceback": [
      "\u001b[0;31m---------------------------------------------------------------------------\u001b[0m",
      "\u001b[0;31mKeyboardInterrupt\u001b[0m                         Traceback (most recent call last)",
      "Cell \u001b[0;32mIn[1], line 17\u001b[0m\n\u001b[1;32m     14\u001b[0m command \u001b[38;5;241m=\u001b[39m [\u001b[38;5;124m\"\u001b[39m\u001b[38;5;124mpython\u001b[39m\u001b[38;5;124m\"\u001b[39m, \u001b[38;5;124m\"\u001b[39m\u001b[38;5;124mdemo_release.py\u001b[39m\u001b[38;5;124m\"\u001b[39m, \u001b[38;5;124m\"\u001b[39m\u001b[38;5;124m-i\u001b[39m\u001b[38;5;124m\"\u001b[39m, image_path, \u001b[38;5;124m\"\u001b[39m\u001b[38;5;124m--use_gpu\u001b[39m\u001b[38;5;124m\"\u001b[39m]\n\u001b[1;32m     16\u001b[0m \u001b[38;5;28mprint\u001b[39m(\u001b[38;5;124mf\u001b[39m\u001b[38;5;124m\"\u001b[39m\u001b[38;5;124mProcessing: \u001b[39m\u001b[38;5;132;01m{\u001b[39;00mimage_path\u001b[38;5;132;01m}\u001b[39;00m\u001b[38;5;124m\"\u001b[39m)\n\u001b[0;32m---> 17\u001b[0m \u001b[43msubprocess\u001b[49m\u001b[38;5;241;43m.\u001b[39;49m\u001b[43mrun\u001b[49m\u001b[43m(\u001b[49m\u001b[43mcommand\u001b[49m\u001b[43m)\u001b[49m  \u001b[38;5;66;03m# Run the command\u001b[39;00m\n",
      "File \u001b[0;32m~/miniconda3/envs/pse_env/lib/python3.8/subprocess.py:495\u001b[0m, in \u001b[0;36mrun\u001b[0;34m(input, capture_output, timeout, check, *popenargs, **kwargs)\u001b[0m\n\u001b[1;32m    493\u001b[0m \u001b[38;5;28;01mwith\u001b[39;00m Popen(\u001b[38;5;241m*\u001b[39mpopenargs, \u001b[38;5;241m*\u001b[39m\u001b[38;5;241m*\u001b[39mkwargs) \u001b[38;5;28;01mas\u001b[39;00m process:\n\u001b[1;32m    494\u001b[0m     \u001b[38;5;28;01mtry\u001b[39;00m:\n\u001b[0;32m--> 495\u001b[0m         stdout, stderr \u001b[38;5;241m=\u001b[39m \u001b[43mprocess\u001b[49m\u001b[38;5;241;43m.\u001b[39;49m\u001b[43mcommunicate\u001b[49m\u001b[43m(\u001b[49m\u001b[38;5;28;43minput\u001b[39;49m\u001b[43m,\u001b[49m\u001b[43m \u001b[49m\u001b[43mtimeout\u001b[49m\u001b[38;5;241;43m=\u001b[39;49m\u001b[43mtimeout\u001b[49m\u001b[43m)\u001b[49m\n\u001b[1;32m    496\u001b[0m     \u001b[38;5;28;01mexcept\u001b[39;00m TimeoutExpired \u001b[38;5;28;01mas\u001b[39;00m exc:\n\u001b[1;32m    497\u001b[0m         process\u001b[38;5;241m.\u001b[39mkill()\n",
      "File \u001b[0;32m~/miniconda3/envs/pse_env/lib/python3.8/subprocess.py:1020\u001b[0m, in \u001b[0;36mPopen.communicate\u001b[0;34m(self, input, timeout)\u001b[0m\n\u001b[1;32m   1018\u001b[0m         stderr \u001b[38;5;241m=\u001b[39m \u001b[38;5;28mself\u001b[39m\u001b[38;5;241m.\u001b[39mstderr\u001b[38;5;241m.\u001b[39mread()\n\u001b[1;32m   1019\u001b[0m         \u001b[38;5;28mself\u001b[39m\u001b[38;5;241m.\u001b[39mstderr\u001b[38;5;241m.\u001b[39mclose()\n\u001b[0;32m-> 1020\u001b[0m     \u001b[38;5;28;43mself\u001b[39;49m\u001b[38;5;241;43m.\u001b[39;49m\u001b[43mwait\u001b[49m\u001b[43m(\u001b[49m\u001b[43m)\u001b[49m\n\u001b[1;32m   1021\u001b[0m \u001b[38;5;28;01melse\u001b[39;00m:\n\u001b[1;32m   1022\u001b[0m     \u001b[38;5;28;01mif\u001b[39;00m timeout \u001b[38;5;129;01mis\u001b[39;00m \u001b[38;5;129;01mnot\u001b[39;00m \u001b[38;5;28;01mNone\u001b[39;00m:\n",
      "File \u001b[0;32m~/miniconda3/envs/pse_env/lib/python3.8/subprocess.py:1083\u001b[0m, in \u001b[0;36mPopen.wait\u001b[0;34m(self, timeout)\u001b[0m\n\u001b[1;32m   1081\u001b[0m     endtime \u001b[38;5;241m=\u001b[39m _time() \u001b[38;5;241m+\u001b[39m timeout\n\u001b[1;32m   1082\u001b[0m \u001b[38;5;28;01mtry\u001b[39;00m:\n\u001b[0;32m-> 1083\u001b[0m     \u001b[38;5;28;01mreturn\u001b[39;00m \u001b[38;5;28;43mself\u001b[39;49m\u001b[38;5;241;43m.\u001b[39;49m\u001b[43m_wait\u001b[49m\u001b[43m(\u001b[49m\u001b[43mtimeout\u001b[49m\u001b[38;5;241;43m=\u001b[39;49m\u001b[43mtimeout\u001b[49m\u001b[43m)\u001b[49m\n\u001b[1;32m   1084\u001b[0m \u001b[38;5;28;01mexcept\u001b[39;00m \u001b[38;5;167;01mKeyboardInterrupt\u001b[39;00m:\n\u001b[1;32m   1085\u001b[0m     \u001b[38;5;66;03m# https://bugs.python.org/issue25942\u001b[39;00m\n\u001b[1;32m   1086\u001b[0m     \u001b[38;5;66;03m# The first keyboard interrupt waits briefly for the child to\u001b[39;00m\n\u001b[1;32m   1087\u001b[0m     \u001b[38;5;66;03m# exit under the common assumption that it also received the ^C\u001b[39;00m\n\u001b[1;32m   1088\u001b[0m     \u001b[38;5;66;03m# generated SIGINT and will exit rapidly.\u001b[39;00m\n\u001b[1;32m   1089\u001b[0m     \u001b[38;5;28;01mif\u001b[39;00m timeout \u001b[38;5;129;01mis\u001b[39;00m \u001b[38;5;129;01mnot\u001b[39;00m \u001b[38;5;28;01mNone\u001b[39;00m:\n",
      "File \u001b[0;32m~/miniconda3/envs/pse_env/lib/python3.8/subprocess.py:1806\u001b[0m, in \u001b[0;36mPopen._wait\u001b[0;34m(self, timeout)\u001b[0m\n\u001b[1;32m   1804\u001b[0m \u001b[38;5;28;01mif\u001b[39;00m \u001b[38;5;28mself\u001b[39m\u001b[38;5;241m.\u001b[39mreturncode \u001b[38;5;129;01mis\u001b[39;00m \u001b[38;5;129;01mnot\u001b[39;00m \u001b[38;5;28;01mNone\u001b[39;00m:\n\u001b[1;32m   1805\u001b[0m     \u001b[38;5;28;01mbreak\u001b[39;00m  \u001b[38;5;66;03m# Another thread waited.\u001b[39;00m\n\u001b[0;32m-> 1806\u001b[0m (pid, sts) \u001b[38;5;241m=\u001b[39m \u001b[38;5;28;43mself\u001b[39;49m\u001b[38;5;241;43m.\u001b[39;49m\u001b[43m_try_wait\u001b[49m\u001b[43m(\u001b[49m\u001b[38;5;241;43m0\u001b[39;49m\u001b[43m)\u001b[49m\n\u001b[1;32m   1807\u001b[0m \u001b[38;5;66;03m# Check the pid and loop as waitpid has been known to\u001b[39;00m\n\u001b[1;32m   1808\u001b[0m \u001b[38;5;66;03m# return 0 even without WNOHANG in odd situations.\u001b[39;00m\n\u001b[1;32m   1809\u001b[0m \u001b[38;5;66;03m# http://bugs.python.org/issue14396.\u001b[39;00m\n\u001b[1;32m   1810\u001b[0m \u001b[38;5;28;01mif\u001b[39;00m pid \u001b[38;5;241m==\u001b[39m \u001b[38;5;28mself\u001b[39m\u001b[38;5;241m.\u001b[39mpid:\n",
      "File \u001b[0;32m~/miniconda3/envs/pse_env/lib/python3.8/subprocess.py:1764\u001b[0m, in \u001b[0;36mPopen._try_wait\u001b[0;34m(self, wait_flags)\u001b[0m\n\u001b[1;32m   1762\u001b[0m \u001b[38;5;250m\u001b[39m\u001b[38;5;124;03m\"\"\"All callers to this function MUST hold self._waitpid_lock.\"\"\"\u001b[39;00m\n\u001b[1;32m   1763\u001b[0m \u001b[38;5;28;01mtry\u001b[39;00m:\n\u001b[0;32m-> 1764\u001b[0m     (pid, sts) \u001b[38;5;241m=\u001b[39m \u001b[43mos\u001b[49m\u001b[38;5;241;43m.\u001b[39;49m\u001b[43mwaitpid\u001b[49m\u001b[43m(\u001b[49m\u001b[38;5;28;43mself\u001b[39;49m\u001b[38;5;241;43m.\u001b[39;49m\u001b[43mpid\u001b[49m\u001b[43m,\u001b[49m\u001b[43m \u001b[49m\u001b[43mwait_flags\u001b[49m\u001b[43m)\u001b[49m\n\u001b[1;32m   1765\u001b[0m \u001b[38;5;28;01mexcept\u001b[39;00m \u001b[38;5;167;01mChildProcessError\u001b[39;00m:\n\u001b[1;32m   1766\u001b[0m     \u001b[38;5;66;03m# This happens if SIGCLD is set to be ignored or waiting\u001b[39;00m\n\u001b[1;32m   1767\u001b[0m     \u001b[38;5;66;03m# for child processes has otherwise been disabled for our\u001b[39;00m\n\u001b[1;32m   1768\u001b[0m     \u001b[38;5;66;03m# process.  This child is dead, we can't get the status.\u001b[39;00m\n\u001b[1;32m   1769\u001b[0m     pid \u001b[38;5;241m=\u001b[39m \u001b[38;5;28mself\u001b[39m\u001b[38;5;241m.\u001b[39mpid\n",
      "\u001b[0;31mKeyboardInterrupt\u001b[0m: "
     ]
    }
   ],
   "source": [
    "import os\n",
    "import subprocess\n",
    "from tqdm import tqdm\n",
    "\n",
    "# Define the directory containing images\n",
    "image_dir = \"../../project/unlabeled2017\"\n",
    "\n",
    "# List all image files in the directory\n",
    "image_files = [f for f in os.listdir(image_dir)[:1000] if f.lower().endswith(('.jpg', '.jpeg', '.png'))]\n",
    "\n",
    "# Run the command for each image\n",
    "for image in tqdm(image_files):\n",
    "    image_path = os.path.join(image_dir, image)\n",
    "    command = [\"python\", \"demo_release.py\", \"-i\", image_path, \"--use_gpu\"]\n",
    "    \n",
    "    print(f\"Processing: {image_path}\")\n",
    "    subprocess.run(command)  # Run the command"
   ]
  },
  {
   "cell_type": "code",
   "execution_count": 2,
   "metadata": {},
   "outputs": [
    {
     "name": "stdout",
     "output_type": "stream",
     "text": [
      "1000\n"
     ]
    }
   ],
   "source": [
    "import os\n",
    "import numpy as np\n",
    "from PIL import Image\n",
    "\n",
    "csv_filename = \"metrics_cnn.csv\"\n",
    "output_dir = \"./saved/siggraph\"\n",
    "input_dir = \"../../project/unlabeled2017\"\n",
    "\n",
    "original_img_paths = [os.path.join(input_dir, file_name) for file_name in os.listdir(input_dir)[:1000] if os.path.isfile(os.path.join(input_dir, file_name))]\n",
    "print(len(original_img_paths))\n",
    "#original input that is assumed to be coloured\n",
    "\n",
    "def load_images_from_directory(path):\n",
    "    \"\"\"\n",
    "    Load all images from a directory into a list.\n",
    "\n",
    "    Args:\n",
    "        path (str): The path to the directory containing images.\n",
    "\n",
    "    Returns:\n",
    "        list: A list of PIL.Image objects.\n",
    "    \"\"\"\n",
    "    images = []\n",
    "    for file_name in os.listdir(path):\n",
    "        file_path = os.path.join(path, file_name)\n",
    "        if os.path.isfile(file_path):\n",
    "            try:\n",
    "                img = Image.open(file_path)\n",
    "                img = np.array(img)\n",
    "                images.append(img)\n",
    "            except Exception as e:\n",
    "                print(f\"Error loading image {file_name}: {e}\")\n",
    "    return images\n",
    "\n",
    "colorized_images = load_images_from_directory(output_dir)\n"
   ]
  },
  {
   "cell_type": "code",
   "execution_count": 3,
   "metadata": {},
   "outputs": [
    {
     "data": {
      "text/plain": [
       "1000"
      ]
     },
     "execution_count": 3,
     "metadata": {},
     "output_type": "execute_result"
    }
   ],
   "source": [
    "len(colorized_images)"
   ]
  },
  {
   "cell_type": "code",
   "execution_count": 16,
   "metadata": {},
   "outputs": [],
   "source": [
    "import glob\n",
    "\n",
    "colorized_images_paths = sorted(glob.glob(os.path.join(output_dir, \"*.jpg\")))\n",
    "\n",
    "original_img_paths = []\n",
    "\n",
    "for img in colorized_images_paths:\n",
    "    original_img_paths.append(os.path.join(input_dir, img.split(\"/\")[-1]))\n",
    "\n",
    "colorized_images = [np.array(Image.open(file_path)) for file_path in colorized_images_paths]"
   ]
  },
  {
   "cell_type": "markdown",
   "metadata": {},
   "source": [
    "### SSIM"
   ]
  },
  {
   "cell_type": "code",
   "execution_count": 14,
   "metadata": {},
   "outputs": [
    {
     "name": "stderr",
     "output_type": "stream",
     "text": [
      "Processing Batches: 100%|██████████| 16/16 [02:15<00:00,  8.48s/batch]\n"
     ]
    },
    {
     "name": "stdout",
     "output_type": "stream",
     "text": [
      "\n",
      "SSIM results saved to metrics_cnn.csv\n",
      "\n",
      "SSIM Summary Statistics:\n",
      "count    1000.000000\n",
      "mean        0.867445\n",
      "std         0.060273\n",
      "min         0.495314\n",
      "25%         0.845593\n",
      "50%         0.879498\n",
      "75%         0.906517\n",
      "max         0.972094\n",
      "Name: SSIM, dtype: float64\n"
     ]
    },
    {
     "data": {
      "image/png": "[encoded data removed]",
      "text/plain": [
       "<Figure size 800x600 with 1 Axes>"
      ]
     },
     "metadata": {},
     "output_type": "display_data"
    },
    {
     "name": "stdout",
     "output_type": "stream",
     "text": [
      "\n",
      "Histogram saved as ssim_histogram.png\n"
     ]
    }
   ],
   "source": [
    "import numpy as np\n",
    "import cv2\n",
    "import pandas as pd\n",
    "import matplotlib.pyplot as plt\n",
    "from skimage.metrics import structural_similarity as ssim\n",
    "from tqdm import tqdm\n",
    "\n",
    "# --- Define SSIM Function ---\n",
    "def compute_ssim(original, colorized):\n",
    "    \"\"\"Computes SSIM between two color images with the size of colorized image.\"\"\"\n",
    "    height, width, _ = colorized.shape  # Get dimensions of the colorized image\n",
    "    original_resized = cv2.resize(original, (width, height), interpolation=cv2.INTER_CUBIC)\n",
    "    \n",
    "    return ssim(original_resized, colorized, data_range=255, channel_axis=2)\n",
    "\n",
    "# --- Compute SSIM for All Images ---\n",
    "ssim_values = []\n",
    "batch_size = 64  # Number of images per batch\n",
    "\n",
    "for i in tqdm(range(0, len(original_img_paths), batch_size), desc=\"Processing Batches\", unit=\"batch\"):\n",
    "    batch_original = original_img_paths[i:i+batch_size]\n",
    "    batch_colorized = colorized_images_paths[i:i+batch_size]\n",
    "    # print(batch_original)\n",
    "    # print(batch_colorized)\n",
    "    \n",
    "    for orig_path, colorized_rgb in zip(batch_original, batch_colorized):\n",
    "        try:\n",
    "            original_rgb = cv2.imread(orig_path)  # Load original image\n",
    "            original_rgb = cv2.cvtColor(original_rgb, cv2.COLOR_BGR2RGB)  # Convert to RGB\n",
    "\n",
    "            colorized_rgb = cv2.imread(colorized_rgb)  # Load original image\n",
    "            colorized_rgb = cv2.cvtColor(colorized_rgb, cv2.COLOR_BGR2RGB)  # Convert to RGB\n",
    "            \n",
    "            # Compute SSIM\n",
    "            ssim_val = compute_ssim(original_rgb, colorized_rgb)\n",
    "            ssim_values.append((orig_path, ssim_val))\n",
    "        except Exception as e:\n",
    "            print(f\"Skipping {orig_path} due to error: {e}\")\n",
    "            ssim_values.append((orig_path, np.nan))\n",
    "\n",
    "# --- Save SSIM Results to a New CSV ---\n",
    "ssim_df = pd.DataFrame(ssim_values, columns=[\"Image Path\", \"SSIM\"])\n",
    "ssim_df.to_csv(csv_filename, index=False)\n",
    "print(f\"\\nSSIM results saved to {csv_filename}\")\n",
    "\n",
    "# --- Compute Summary Statistics ---\n",
    "summary_stats = ssim_df[\"SSIM\"].describe()\n",
    "print(\"\\nSSIM Summary Statistics:\")\n",
    "print(summary_stats)\n",
    "\n",
    "# --- Plot Histogram for SSIM ---\n",
    "plt.figure(figsize=(8, 6))\n",
    "plt.hist(ssim_df[\"SSIM\"].dropna(), bins=30, alpha=0.75, color='b', edgecolor='black')\n",
    "plt.title(\"Histogram of SSIM\")\n",
    "plt.xlabel(\"SSIM\")\n",
    "plt.ylabel(\"Frequency\")\n",
    "plt.savefig(\"ssim_histogram.png\")\n",
    "plt.show()\n",
    "print(\"\\nHistogram saved as ssim_histogram.png\")\n"
   ]
  },
  {
   "cell_type": "code",
   "execution_count": 17,
   "metadata": {},
   "outputs": [
    {
     "name": "stderr",
     "output_type": "stream",
     "text": [
      "Processing Batches:   0%|          | 0/100 [00:00<?, ?batch/s]"
     ]
    },
    {
     "name": "stderr",
     "output_type": "stream",
     "text": [
      "/home/venkateshp/miniconda3/envs/pse_env/lib/python3.8/site-packages/torchvision/transforms/transforms.py:332: UserWarning: Argument 'interpolation' of type int is deprecated since 0.13 and will be removed in 0.15. Please use InterpolationMode enum.\n",
      "  warnings.warn(\n",
      "Processing Batches: 100%|██████████| 100/100 [03:11<00:00,  1.92s/batch]\n"
     ]
    },
    {
     "name": "stdout",
     "output_type": "stream",
     "text": [
      "\n",
      "Updated CSV saved as metrics_cnn.csv\n",
      "\n",
      "Summary Statistics:\n",
      "       count      mean       std       min       25%       50%       75%  \\\n",
      "SSIM  1000.0  0.867445  0.060273  0.495314  0.845593  0.879498  0.906517   \n",
      "PCQI  1000.0  1.443483  0.373129  0.448794  1.232178  1.441737  1.663203   \n",
      "\n",
      "           max  \n",
      "SSIM  0.972094  \n",
      "PCQI  4.608858  \n"
     ]
    },
    {
     "data": {
      "image/png": "[encoded data removed]",
      "text/plain": [
       "<Figure size 800x600 with 1 Axes>"
      ]
     },
     "metadata": {},
     "output_type": "display_data"
    },
    {
     "name": "stdout",
     "output_type": "stream",
     "text": [
      "\n",
      "Histogram saved as colorization_metrics_histogram_pcqi.png\n"
     ]
    }
   ],
   "source": [
    "import numpy as np\n",
    "import cv2\n",
    "import pandas as pd\n",
    "import matplotlib.pyplot as plt\n",
    "from tqdm import tqdm\n",
    "from skimage.metrics import structural_similarity as ssim\n",
    "from scipy.ndimage import gaussian_filter\n",
    "import torchvision.transforms as transforms\n",
    "from PIL import Image\n",
    "import os\n",
    "\n",
    "# --- Define PCQI Function ---\n",
    "def compute_pcqi(original, colorized, sigma=1.5):\n",
    "    \"\"\"Computes PCQI (Perception-based Contrast Quality Index) for color images.\"\"\"\n",
    "\n",
    "    # Convert images to YIQ color space\n",
    "    original_yiq = cv2.cvtColor(original, cv2.COLOR_RGB2YCrCb)\n",
    "    colorized_yiq = cv2.cvtColor(colorized, cv2.COLOR_RGB2YCrCb)\n",
    "\n",
    "    # Extract luminance (Y) and chrominance (I, Q) channels\n",
    "    Y_orig, I_orig, Q_orig = cv2.split(original_yiq)\n",
    "    Y_col, I_col, Q_col = cv2.split(colorized_yiq)\n",
    "\n",
    "    # --- Compute Structural Similarity Index (SSIM) for Luminance ---\n",
    "    luminance_similarity = ssim(Y_orig, Y_col, data_range=Y_orig.max() - Y_orig.min())\n",
    "\n",
    "    # --- Compute Chrominance Similarity ---\n",
    "    def chroma_similarity(channel_orig, channel_col):\n",
    "        mu_x = gaussian_filter(channel_orig, sigma)\n",
    "        mu_y = gaussian_filter(channel_col, sigma)\n",
    "        sigma_x = np.sqrt(gaussian_filter(channel_orig**2, sigma) - mu_x**2)\n",
    "        sigma_y = np.sqrt(gaussian_filter(channel_col**2, sigma) - mu_y**2)\n",
    "        contrast_measure = (2 * sigma_x * sigma_y) / (sigma_x**2 + sigma_y**2 + 1e-6)\n",
    "        structure_measure = (2 * mu_x * mu_y) / (mu_x**2 + mu_y**2 + 1e-6)\n",
    "        return np.mean(contrast_measure * structure_measure)\n",
    "\n",
    "    I_similarity = chroma_similarity(I_orig, I_col)\n",
    "    Q_similarity = chroma_similarity(Q_orig, Q_col)\n",
    "    chrominance_similarity = (I_similarity + Q_similarity) / 2\n",
    "\n",
    "    # --- Final PCQI Score ---\n",
    "    pcqi_score = 0.5 * luminance_similarity + 0.5 * chrominance_similarity\n",
    "    return pcqi_score\n",
    "\n",
    "\n",
    "if os.path.exists(csv_filename):\n",
    "    df = pd.read_csv(csv_filename)  # Load existing file\n",
    "else:\n",
    "    df = pd.DataFrame(columns=[\"Image Path\"])  # Create new if not found\n",
    "\n",
    "# --- Compute PCQI for All Images in Batches ---\n",
    "batch_size = 10  # Number of images per batch\n",
    "new_metrics = {}\n",
    "\n",
    "for i in tqdm(range(0, len(original_img_paths), batch_size), desc=\"Processing Batches\", unit=\"batch\"):\n",
    "    batch_original = original_img_paths[i:i+batch_size]\n",
    "    batch_colorized = colorized_images[i:i+batch_size]\n",
    "\n",
    "    for orig_path, colorized_rgb in zip(batch_original, batch_colorized):\n",
    "        original_rgb = Image.open(orig_path).convert(\"RGB\")  # Load original grayscale image as RGB\n",
    "        colorized_rgb = Image.fromarray(colorized_rgb)\n",
    "\n",
    "        # Get dimensions of the colorized image\n",
    "        width, height = colorized_rgb.size\n",
    "        transform = transforms.Compose([\n",
    "            transforms.Resize((height, width), Image.BICUBIC),\n",
    "            transforms.ToTensor()\n",
    "        ])\n",
    "\n",
    "        # Resize images using the defined transform\n",
    "        original_rgb = transform(original_rgb).permute(1, 2, 0).numpy()\n",
    "        colorized_rgb = transform(colorized_rgb).permute(1, 2, 0).numpy()\n",
    "\n",
    "        # Convert images back to uint8 for OpenCV functions\n",
    "        original_rgb = (original_rgb * 255).astype(np.uint8)\n",
    "        colorized_rgb = (colorized_rgb * 255).astype(np.uint8)\n",
    "\n",
    "        pcqi_val = compute_pcqi(original_rgb, colorized_rgb)\n",
    "        new_metrics[orig_path] = pcqi_val\n",
    "\n",
    "# --- Update DataFrame with PCQI Scores ---\n",
    "df[\"PCQI\"] = df[\"Image Path\"].map(new_metrics)  # Map new values to existing entries\n",
    "\n",
    "# --- Save Updated CSV ---\n",
    "df.to_csv(csv_filename, index=False)\n",
    "print(f\"\\nUpdated CSV saved as {csv_filename}\")\n",
    "\n",
    "# --- Compute and Display Summary Statistics ---\n",
    "summary_stats = df.drop(columns=[\"Image Path\"]).describe().T\n",
    "print(\"\\nSummary Statistics:\")\n",
    "print(summary_stats)\n",
    "\n",
    "# --- Plot Histogram for PCQI Scores ---\n",
    "plt.figure(figsize=(8, 6))\n",
    "plt.hist(df[\"PCQI\"].dropna(), bins=30, alpha=0.75, color='g', edgecolor='black')\n",
    "plt.title(\"Histogram of PCQI Scores\")\n",
    "plt.xlabel(\"PCQI\")\n",
    "plt.ylabel(\"Frequency\")\n",
    "plt.savefig(\"colorization_metrics_histogram_pcqi.png\")\n",
    "plt.show()\n",
    "print(\"\\nHistogram saved as colorization_metrics_histogram_pcqi.png\")\n"
   ]
  },
  {
   "cell_type": "code",
   "execution_count": 18,
   "metadata": {},
   "outputs": [
    {
     "name": "stderr",
     "output_type": "stream",
     "text": [
      "Processing Batches:   0%|          | 0/16 [00:00<?, ?batch/s]"
     ]
    },
    {
     "name": "stderr",
     "output_type": "stream",
     "text": [
      "Processing Batches: 100%|██████████| 16/16 [00:09<00:00,  1.68batch/s]\n"
     ]
    },
    {
     "name": "stdout",
     "output_type": "stream",
     "text": [
      "\n",
      "Updated CSV saved as metrics_cnn.csv\n",
      "\n",
      "Summary Statistics:\n",
      "               count        mean        std        min        25%         50%  \\\n",
      "SSIM          1000.0    0.867445   0.060273   0.495314   0.845593    0.879498   \n",
      "PCQI          1000.0    1.443483   0.373129   0.448794   1.232178    1.441737   \n",
      "Colorfulness  1000.0  115.618107  46.647231  22.183849  72.048975  109.616488   \n",
      "\n",
      "                     75%         max  \n",
      "SSIM            0.906517    0.972094  \n",
      "PCQI            1.663203    4.608858  \n",
      "Colorfulness  162.151180  192.704596  \n"
     ]
    },
    {
     "data": {
      "image/png": "[encoded data removed]",
      "text/plain": [
       "<Figure size 800x600 with 1 Axes>"
      ]
     },
     "metadata": {},
     "output_type": "display_data"
    },
    {
     "name": "stdout",
     "output_type": "stream",
     "text": [
      "\n",
      "Histogram saved as colorization_colorfulness_histogram.png\n"
     ]
    }
   ],
   "source": [
    "import numpy as np\n",
    "import cv2\n",
    "import pandas as pd\n",
    "import matplotlib.pyplot as plt\n",
    "from tqdm import tqdm\n",
    "\n",
    "# --- Define Metric Function ---\n",
    "def compute_colorfulness(image):\n",
    "    \"\"\"Computes the Colorfulness Index (CI).\"\"\"\n",
    "    (R, G, B) = cv2.split(image)\n",
    "    rg = np.abs(R - G)\n",
    "    yb = np.abs(0.5 * (R + G) - B)\n",
    "    std_rg, std_yb = np.std(rg), np.std(yb)\n",
    "    mean_rg, mean_yb = np.mean(rg), np.mean(yb)\n",
    "    return np.sqrt(std_rg**2 + std_yb**2) + (0.3 * np.sqrt(mean_rg**2 + mean_yb**2))\n",
    "\n",
    "\n",
    "try:\n",
    "    df = pd.read_csv(csv_filename)  # Load existing CSV\n",
    "except FileNotFoundError:\n",
    "    df = pd.DataFrame(columns=[\"Image Path\"])  # Create new if not found\n",
    "\n",
    "# --- Compute Colorfulness for Each Image ---\n",
    "batch_size = 64  # Number of images per batch\n",
    "new_metrics = {}\n",
    "\n",
    "for i in tqdm(range(0, len(original_img_paths), batch_size), desc=\"Processing Batches\", unit=\"batch\"):\n",
    "    batch_original = original_img_paths[i:i+batch_size]\n",
    "    batch_colorized = colorized_images[i:i+batch_size]\n",
    "\n",
    "    for orig_path, colorized_rgb in zip(batch_original, batch_colorized):\n",
    "        # Get dimensions of the colorized image\n",
    "        height, width, _ = colorized_rgb.shape\n",
    "        \n",
    "        # Resize the original image to match colorized image size\n",
    "        original_rgb = cv2.imread(orig_path)\n",
    "        original_rgb = cv2.cvtColor(original_rgb, cv2.COLOR_BGR2RGB)\n",
    "        original_rgb = cv2.resize(original_rgb, (width, height), interpolation=cv2.INTER_CUBIC)\n",
    "        \n",
    "        ci = compute_colorfulness(colorized_rgb)\n",
    "        new_metrics[orig_path] = ci\n",
    "\n",
    "# --- Update the Existing DataFrame ---\n",
    "df[\"Colorfulness\"] = df[\"Image Path\"].map(new_metrics)  # Map new values\n",
    "\n",
    "# --- Save Updated CSV ---\n",
    "df.to_csv(csv_filename, index=False)\n",
    "print(f\"\\nUpdated CSV saved as {csv_filename}\")\n",
    "\n",
    "# --- Compute and Display Summary Statistics ---\n",
    "summary_stats = df.drop(columns=[\"Image Path\"]).describe().T\n",
    "print(\"\\nSummary Statistics:\")\n",
    "print(summary_stats)\n",
    "\n",
    "# --- Plot Histogram for Colorfulness ---\n",
    "plt.figure(figsize=(8, 6))\n",
    "plt.hist(df[\"Colorfulness\"].dropna(), bins=30, alpha=0.75, color='b', edgecolor='black')\n",
    "plt.title(\"Histogram of Colorfulness\")\n",
    "plt.xlabel(\"Colorfulness\")\n",
    "plt.ylabel(\"Frequency\")\n",
    "plt.savefig(\"colorization_colorfulness_histogram.png\")\n",
    "plt.show()\n",
    "print(\"\\nHistogram saved as colorization_colorfulness_histogram.png\")\n"
   ]
  },
  {
   "cell_type": "code",
   "execution_count": 19,
   "metadata": {},
   "outputs": [
    {
     "name": "stderr",
     "output_type": "stream",
     "text": [
      "Processing Batches: 100%|██████████| 16/16 [00:01<00:00, 10.44batch/s]\n"
     ]
    },
    {
     "name": "stdout",
     "output_type": "stream",
     "text": [
      "\n",
      "Updated CSV saved as metrics_cnn.csv\n",
      "\n",
      "Summary Statistics:\n",
      "                count        mean        std        min        25%  \\\n",
      "SSIM           1000.0    0.867445   0.060273   0.495314   0.845593   \n",
      "PCQI           1000.0    1.443483   0.373129   0.448794   1.232178   \n",
      "Colorfulness   1000.0  115.618107  46.647231  22.183849  72.048975   \n",
      "Color Harmony  1000.0    0.004023   0.009579   0.000147   0.000561   \n",
      "\n",
      "                      50%         75%         max  \n",
      "SSIM             0.879498    0.906517    0.972094  \n",
      "PCQI             1.441737    1.663203    4.608858  \n",
      "Colorfulness   109.616488  162.151180  192.704596  \n",
      "Color Harmony    0.001080    0.003390    0.125861  \n"
     ]
    },
    {
     "data": {
      "image/png": "[encoded data removed]",
      "text/plain": [
       "<Figure size 600x600 with 1 Axes>"
      ]
     },
     "metadata": {},
     "output_type": "display_data"
    },
    {
     "name": "stdout",
     "output_type": "stream",
     "text": [
      "\n",
      "Histogram saved as colorization_metrics_histogram.png\n"
     ]
    }
   ],
   "source": [
    "import numpy as np\n",
    "import cv2\n",
    "import pandas as pd\n",
    "import matplotlib.pyplot as plt\n",
    "from tqdm import tqdm\n",
    "\n",
    "# --- Define Metric Function ---\n",
    "def compute_color_harmony(image):\n",
    "    \"\"\"Computes a color harmony score based on hue variance.\"\"\"\n",
    "    hsv = cv2.cvtColor(image, cv2.COLOR_RGB2HSV)\n",
    "    hue = hsv[:, :, 0].flatten()\n",
    "    hue_variance = np.var(hue)\n",
    "    return 1 / (1 + hue_variance)\n",
    "\n",
    "\n",
    "try:\n",
    "    df = pd.read_csv(csv_filename)  # Load existing CSV\n",
    "except FileNotFoundError:\n",
    "    df = pd.DataFrame(columns=[\"Image Path\"])  # Create new if not found\n",
    "\n",
    "# --- Compute Color Harmony for Each Image ---\n",
    "batch_size = 64  # Number of images per batch\n",
    "new_metrics = {}\n",
    "\n",
    "for i in tqdm(range(0, len(original_img_paths), batch_size), desc=\"Processing Batches\", unit=\"batch\"):\n",
    "    batch_original = original_img_paths[i:i+batch_size]\n",
    "    batch_colorized = colorized_images[i:i+batch_size]\n",
    "\n",
    "    for img_path, colorized_rgb in zip(batch_original, batch_colorized):\n",
    "        harmony = compute_color_harmony(colorized_rgb)\n",
    "        new_metrics[img_path] = harmony\n",
    "\n",
    "# --- Update the Existing DataFrame ---\n",
    "df[\"Color Harmony\"] = df[\"Image Path\"].map(new_metrics)  # Map new values\n",
    "\n",
    "# --- Save Updated CSV ---\n",
    "df.to_csv(csv_filename, index=False)\n",
    "print(f\"\\nUpdated CSV saved as {csv_filename}\")\n",
    "\n",
    "# --- Compute and Display Summary Statistics ---\n",
    "summary_stats = df.drop(columns=[\"Image Path\"]).describe().T\n",
    "print(\"\\nSummary Statistics:\")\n",
    "print(summary_stats)\n",
    "\n",
    "# --- Plot Histogram for Color Harmony ---\n",
    "plt.figure(figsize=(6, 6))\n",
    "plt.hist(df[\"Color Harmony\"].dropna(), bins=30, alpha=0.75, color='g', edgecolor='black')\n",
    "plt.title(\"Histogram of Color Harmony\")\n",
    "plt.xlabel(\"Color Harmony\")\n",
    "plt.ylabel(\"Frequency\")\n",
    "plt.savefig(\"colorization_metrics_histogram.png\")\n",
    "plt.show()\n",
    "print(\"\\nHistogram saved as colorization_metrics_histogram.png\")\n"
   ]
  },
  {
   "cell_type": "code",
   "execution_count": 20,
   "metadata": {},
   "outputs": [
    {
     "name": "stderr",
     "output_type": "stream",
     "text": [
      "Processing Batches:   0%|          | 0/16 [00:00<?, ?batch/s]"
     ]
    },
    {
     "name": "stderr",
     "output_type": "stream",
     "text": [
      "Processing Batches: 100%|██████████| 16/16 [00:00<00:00, 22.65batch/s]\n"
     ]
    },
    {
     "name": "stdout",
     "output_type": "stream",
     "text": [
      "\n",
      "Updated CSV saved as metrics_cnn.csv\n",
      "\n",
      "Summary Statistics:\n",
      "                             count        mean        std        min  \\\n",
      "SSIM                        1000.0    0.867445   0.060273   0.495314   \n",
      "PCQI                        1000.0    1.443483   0.373129   0.448794   \n",
      "Colorfulness                1000.0  115.618107  46.647231  22.183849   \n",
      "Color Harmony               1000.0    0.004023   0.009579   0.000147   \n",
      "Color Distribution Balance  1000.0    1.535292   0.136493   1.102975   \n",
      "\n",
      "                                  25%         50%         75%         max  \n",
      "SSIM                         0.845593    0.879498    0.906517    0.972094  \n",
      "PCQI                         1.232178    1.441737    1.663203    4.608858  \n",
      "Colorfulness                72.048975  109.616488  162.151180  192.704596  \n",
      "Color Harmony                0.000561    0.001080    0.003390    0.125861  \n",
      "Color Distribution Balance   1.432295    1.536537    1.637398    1.893184  \n"
     ]
    },
    {
     "data": {
      "image/png": "[encoded data removed]",
      "text/plain": [
       "<Figure size 600x600 with 1 Axes>"
      ]
     },
     "metadata": {},
     "output_type": "display_data"
    },
    {
     "name": "stdout",
     "output_type": "stream",
     "text": [
      "\n",
      "Histogram saved as colorization_metrics_histogram.png\n"
     ]
    }
   ],
   "source": [
    "import numpy as np\n",
    "import cv2\n",
    "import pandas as pd\n",
    "import matplotlib.pyplot as plt\n",
    "from tqdm import tqdm\n",
    "\n",
    "# --- Define Metric Function ---\n",
    "def compute_color_distribution_balance(image, num_bins=32):\n",
    "    \"\"\"Computes color distribution balance using histogram entropy.\"\"\"\n",
    "    hsv = cv2.cvtColor(image, cv2.COLOR_RGB2HSV)\n",
    "    h_hist = cv2.calcHist([hsv], [0], None, [num_bins], [0, 180])\n",
    "    h_hist = h_hist / np.sum(h_hist)  # Normalize histogram\n",
    "    return 1 - np.sum(h_hist * np.log(h_hist + 1e-6)) / np.log(num_bins)\n",
    "\n",
    "\n",
    "try:\n",
    "    df = pd.read_csv(csv_filename)  # Load existing CSV\n",
    "except FileNotFoundError:\n",
    "    df = pd.DataFrame(columns=[\"Image Path\"])  # Create new if not found\n",
    "\n",
    "# --- Compute Color Distribution Balance for Each Image ---\n",
    "batch_size = 64  # Number of images per batch\n",
    "new_metrics = {}\n",
    "\n",
    "for i in tqdm(range(0, len(original_img_paths), batch_size), desc=\"Processing Batches\", unit=\"batch\"):\n",
    "    batch_original = original_img_paths[i:i+batch_size]\n",
    "    batch_colorized = colorized_images[i:i+batch_size]\n",
    "\n",
    "    for img_path, colorized_rgb in zip(batch_original, batch_colorized):\n",
    "        balance = compute_color_distribution_balance(colorized_rgb)\n",
    "        new_metrics[img_path] = balance\n",
    "\n",
    "# --- Update the Existing DataFrame ---\n",
    "df[\"Color Distribution Balance\"] = df[\"Image Path\"].map(new_metrics)  # Map new values\n",
    "\n",
    "# --- Save Updated CSV ---\n",
    "df.to_csv(csv_filename, index=False)\n",
    "print(f\"\\nUpdated CSV saved as {csv_filename}\")\n",
    "\n",
    "# --- Compute and Display Summary Statistics ---\n",
    "summary_stats = df.drop(columns=[\"Image Path\"]).describe().T\n",
    "print(\"\\nSummary Statistics:\")\n",
    "print(summary_stats)\n",
    "\n",
    "# --- Plot Histogram for Color Distribution Balance ---\n",
    "plt.figure(figsize=(6, 6))\n",
    "plt.hist(df[\"Color Distribution Balance\"].dropna(), bins=30, alpha=0.75, color='b', edgecolor='black')\n",
    "plt.title(\"Histogram of Color Distribution Balance\")\n",
    "plt.xlabel(\"Color Distribution Balance\")\n",
    "plt.ylabel(\"Frequency\")\n",
    "plt.savefig(\"colorization_metrics_histogram.png\")\n",
    "plt.show()\n",
    "print(\"\\nHistogram saved as colorization_metrics_histogram.png\")\n"
   ]
  }
 ],
 "metadata": {
  "kernelspec": {
   "display_name": "pse_env",
   "language": "python",
   "name": "python3"
  },
  "language_info": {
   "codemirror_mode": {
    "name": "ipython",
    "version": 3
   },
   "file_extension": ".py",
   "mimetype": "text/x-python",
   "name": "python",
   "nbconvert_exporter": "python",
   "pygments_lexer": "ipython3",
   "version": "3.8.16"
  }
 },
 "nbformat": 4,
 "nbformat_minor": 2
}
