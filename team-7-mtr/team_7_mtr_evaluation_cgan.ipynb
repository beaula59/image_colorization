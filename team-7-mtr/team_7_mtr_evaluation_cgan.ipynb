{
 "cells": [
  {
   "cell_type": "code",
   "execution_count": 32,
   "metadata": {},
   "outputs": [],
   "source": [
    "data_path = \"../project/unlabeled2017\"\n",
    "input_dir = data_path  \n",
    "output_dir = \"./results\"\n",
    "csv_filename = \"metrics_cGAN.csv\""
   ]
  },
  {
   "cell_type": "code",
   "execution_count": 33,
   "metadata": {},
   "outputs": [
    {
     "name": "stderr",
     "output_type": "stream",
     "text": [
      "/home/venkateshp/miniconda3/envs/pse_env/lib/python3.8/site-packages/torchvision/models/_utils.py:208: UserWarning: The parameter 'pretrained' is deprecated since 0.13 and may be removed in the future, please use 'weights' instead.\n",
      "  warnings.warn(\n",
      "/home/venkateshp/miniconda3/envs/pse_env/lib/python3.8/site-packages/torchvision/models/_utils.py:223: UserWarning: Arguments other than a weight enum or `None` for 'weights' are deprecated since 0.13 and may be removed in the future. The current behavior is equivalent to passing `weights=ResNet18_Weights.IMAGENET1K_V1`. You can also use `weights=ResNet18_Weights.DEFAULT` to get the most up-to-date weights.\n",
      "  warnings.warn(msg)\n"
     ]
    },
    {
     "name": "stdout",
     "output_type": "stream",
     "text": [
      "model initialized with norm initialization\n"
     ]
    },
    {
     "name": "stderr",
     "output_type": "stream",
     "text": [
      "/tmp/ipykernel_255834/2466838275.py:19: FutureWarning: You are using `torch.load` with `weights_only=False` (the current default value), which uses the default pickle module implicitly. It is possible to construct malicious pickle data which will execute arbitrary code during unpickling (See https://github.com/pytorch/pytorch/blob/main/SECURITY.md#untrusted-models for more details). In a future release, the default value for `weights_only` will be flipped to `True`. This limits the functions that could be executed during unpickling. Arbitrary objects will no longer be allowed to be loaded via this mode unless they are explicitly allowlisted by the user via `torch.serialization.add_safe_globals`. We recommend you start setting `weights_only=True` for any use case where you don't have full control of the loaded file. Please open an issue on GitHub for any issues related to this experimental feature.\n",
      "  model.load_state_dict(torch.load(\"cGAN-unet.pt\", map_location=device))  # Load trained MainModel\n"
     ]
    },
    {
     "name": "stdout",
     "output_type": "stream",
     "text": [
      "Validation set size: 1000\n"
     ]
    },
    {
     "name": "stderr",
     "output_type": "stream",
     "text": [
      "Colorizing images:   6%|▋         | 1/16 [00:02<00:33,  2.21s/it]/home/venkateshp/miniconda3/envs/pse_env/lib/python3.8/site-packages/skimage/_shared/utils.py:394: UserWarning: Color data out of range: Z < 0 in 1 pixels\n",
      "  return func(*args, **kwargs)\n",
      "Colorizing images:  12%|█▎        | 2/16 [00:04<00:31,  2.21s/it]/home/venkateshp/miniconda3/envs/pse_env/lib/python3.8/site-packages/skimage/_shared/utils.py:394: UserWarning: Color data out of range: Z < 0 in 4 pixels\n",
      "  return func(*args, **kwargs)\n",
      "Colorizing images:  25%|██▌       | 4/16 [00:08<00:27,  2.26s/it]/home/venkateshp/miniconda3/envs/pse_env/lib/python3.8/site-packages/skimage/_shared/utils.py:394: UserWarning: Color data out of range: Z < 0 in 39 pixels\n",
      "  return func(*args, **kwargs)\n",
      "Colorizing images:  50%|█████     | 8/16 [00:18<00:18,  2.33s/it]/home/venkateshp/miniconda3/envs/pse_env/lib/python3.8/site-packages/skimage/_shared/utils.py:394: UserWarning: Color data out of range: Z < 0 in 5 pixels\n",
      "  return func(*args, **kwargs)\n",
      "Colorizing images:  69%|██████▉   | 11/16 [00:26<00:12,  2.50s/it]/home/venkateshp/miniconda3/envs/pse_env/lib/python3.8/site-packages/skimage/_shared/utils.py:394: UserWarning: Color data out of range: Z < 0 in 6 pixels\n",
      "  return func(*args, **kwargs)\n",
      "Colorizing images:  75%|███████▌  | 12/16 [00:28<00:09,  2.47s/it]/home/venkateshp/miniconda3/envs/pse_env/lib/python3.8/site-packages/skimage/_shared/utils.py:394: UserWarning: Color data out of range: Z < 0 in 46 pixels\n",
      "  return func(*args, **kwargs)\n",
      "Colorizing images: 100%|██████████| 16/16 [00:37<00:00,  2.32s/it]\n"
     ]
    }
   ],
   "source": [
    "import torch\n",
    "import torchvision.transforms as transforms\n",
    "from PIL import Image\n",
    "import os\n",
    "from tqdm import tqdm\n",
    "import numpy as np\n",
    "from torch.utils.data import DataLoader, Dataset\n",
    "from skimage.color import rgb2lab, lab2rgb\n",
    "import glob\n",
    "import matplotlib.pyplot as plt\n",
    "from models import MainModel, build_res_unet  # Ensure this matches your actual model class name\n",
    "# Load the trained model\n",
    "#print(\"hi\")\n",
    "device = torch.device(\"cuda:1\" if torch.cuda.is_available() else \"cpu\")\n",
    "#device = torch.device(\"cuda:1\" if torch.cuda.device_count() > 1 else \"cuda:1\")  # Use GPU 1 if available\n",
    "\n",
    "net_G = build_res_unet(n_input=1, n_output=2, size=256)\n",
    "model = MainModel(net_G=net_G)\n",
    "model.load_state_dict(torch.load(\"cGAN-unet.pt\", map_location=device))  # Load trained MainModel\n",
    "model.to(device)\n",
    "model.eval()\n",
    "\n",
    "# Paths\n",
    "\n",
    "#print(\"hello1\")\n",
    "paths = sorted(glob.glob(os.path.join(data_path, \"*.jpg\")))[:1000]\n",
    "np.random.seed(123)\n",
    "paths_subset = np.random.choice(paths, len(paths), replace=False)\n",
    "rand_idxs = np.random.permutation(len(paths))\n",
    "val_idxs = rand_idxs \n",
    "val_paths = paths_subset[val_idxs]\n",
    "#print(\"hello\")\n",
    "print(\"Validation set size:\", len(val_paths))\n",
    "\n",
    "# Image transformation\n",
    "SIZE = 256\n",
    "class ColorizationDataset(Dataset):\n",
    "    def __init__(self, paths):\n",
    "        self.transforms = transforms.Compose([\n",
    "            transforms.Resize((SIZE, SIZE), Image.BICUBIC),\n",
    "            transforms.ToTensor()\n",
    "        ])\n",
    "        self.paths = paths\n",
    "    \n",
    "    def __getitem__(self, idx):\n",
    "        try:\n",
    "            img = Image.open(self.paths[idx]).convert(\"RGB\")\n",
    "            img = self.transforms(img)\n",
    "            img_np = np.array(img.permute(1, 2, 0))  # Convert to HWC format for rgb2lab\n",
    "            img_lab = rgb2lab(img_np).astype(\"float32\")\n",
    "            img_lab = torch.tensor(img_lab).permute(2, 0, 1)  # Convert to CHW format\n",
    "            L = img_lab[[0], ...] / 50. - 1.  # Normalize L\n",
    "            ab = img_lab[[1, 2], ...] / 110.  # Normalize ab\n",
    "            return {'L': L, 'ab': ab, 'path': self.paths[idx]}\n",
    "        except Exception as e:\n",
    "            print(f\"Error loading image {self.paths[idx]}: {e}\")\n",
    "            return None  # Skip the image\n",
    "    \n",
    "    def __len__(self):\n",
    "        return len(self.paths)\n",
    "\n",
    "def make_dataloader(batch_size=64, num_workers=0, pin_memory=True):\n",
    "    dataset = ColorizationDataset(val_paths)\n",
    "    dataloader = DataLoader(dataset, batch_size=batch_size, num_workers=num_workers, pin_memory=pin_memory, drop_last=False, shuffle=False)\n",
    "    return dataloader\n",
    "\n",
    "val_dl = make_dataloader()\n",
    "\n",
    "def colorize_validation_set():\n",
    "    colorized_results = []\n",
    "    for batch in tqdm(val_dl, desc=\"Colorizing images\"):\n",
    "        if batch is None:\n",
    "            continue  # Skip corrupted images\n",
    "        \n",
    "        L, ab, paths = batch['L'].to(device), batch['ab'].to(device), batch['path']\n",
    "        \n",
    "        with torch.no_grad():\n",
    "            pred_ab = model.net_G(L)  # Output should be ab channels\n",
    "        \n",
    "        for i, img_path in enumerate(paths):\n",
    "            L_img = (L[i].cpu().numpy() + 1.) * 50.  # De-normalize L\n",
    "            pred_ab_img = pred_ab[i].cpu().numpy() * 110.  # De-normalize ab\n",
    "            lab_img = np.concatenate((L_img, pred_ab_img), axis=0).transpose(1, 2, 0)\n",
    "            colorized_rgb = (lab2rgb(lab_img) * 255).astype(\"uint8\")\n",
    "            \n",
    "            colorized_results.append((img_path, colorized_rgb))\n",
    "    \n",
    "    return colorized_results\n",
    "\n",
    "# Run the function\n",
    "colorized_images = colorize_validation_set()"
   ]
  },
  {
   "cell_type": "code",
   "execution_count": 37,
   "metadata": {},
   "outputs": [
    {
     "name": "stdout",
     "output_type": "stream",
     "text": [
      "Colorized images saved to ./results\n"
     ]
    }
   ],
   "source": [
    "import os\n",
    "from PIL import Image\n",
    "\n",
    "# Create the output directory if it doesn't exist\n",
    "\n",
    "os.makedirs(output_dir, exist_ok=True)\n",
    "\n",
    "# Save each colorized image\n",
    "for img_path, colorized_rgb in colorized_images:\n",
    "    output_path = os.path.join(output_dir, os.path.basename(img_path))\n",
    "    colorized_image = Image.fromarray(colorized_rgb)\n",
    "    colorized_image.save(output_path)\n",
    "\n",
    "print(f\"Colorized images saved to {output_dir}\")"
   ]
  },
  {
   "cell_type": "markdown",
   "metadata": {},
   "source": [
    "Evaluation"
   ]
  },
  {
   "cell_type": "code",
   "execution_count": null,
   "metadata": {},
   "outputs": [],
   "source": [
    "import os\n",
    "import numpy as np\n",
    "from PIL import Image\n",
    "\n",
    "\n",
    "original_img_paths = [os.path.join(input_dir, file_name) for file_name in os.listdir(input_dir)[:1000] if os.path.isfile(os.path.join(input_dir, file_name))]\n",
    "# original_img_paths = sorted(glob.glob(input_dir))[:1000]\n",
    "#original input that is assumed to be coloured\n",
    "\n",
    "def load_images_from_directory(path):\n",
    "    \"\"\"\n",
    "    Load all images from a directory into a list.\n",
    "\n",
    "    Args:\n",
    "        path (str): The path to the directory containing images.\n",
    "\n",
    "    Returns:\n",
    "        list: A list of PIL.Image objects.\n",
    "    \"\"\"\n",
    "    images = []\n",
    "    for file_name in os.listdir(path):\n",
    "        file_path = os.path.join(path, file_name)\n",
    "        if os.path.isfile(file_path):\n",
    "            try:\n",
    "                img = Image.open(file_path)\n",
    "                img = np.array(img)\n",
    "                images.append(img)\n",
    "            except Exception as e:\n",
    "                print(f\"Error loading image {file_name}: {e}\")\n",
    "    return images\n",
    "\n",
    "colorized_images = load_images_from_directory(output_dir)[:1000]\n"
   ]
  },
  {
   "cell_type": "code",
   "execution_count": 44,
   "metadata": {},
   "outputs": [],
   "source": [
    "original_img_paths = sorted(glob.glob(os.path.join(input_dir, \"*.jpg\")))[:1000]\n",
    "\n",
    "colorized_images_paths = sorted(glob.glob(os.path.join(output_dir, \"*.jpg\")))\n",
    "colorized_images = [np.array(Image.open(file_path)) for file_path in colorized_images_paths]"
   ]
  },
  {
   "cell_type": "code",
   "execution_count": 39,
   "metadata": {},
   "outputs": [
    {
     "name": "stdout",
     "output_type": "stream",
     "text": [
      "../project/unlabeled2017/000000000008.jpg ./results/000000000008.jpg\n"
     ]
    }
   ],
   "source": [
    "print(original_img_paths[0],colorized_images_paths[0])"
   ]
  },
  {
   "cell_type": "markdown",
   "metadata": {},
   "source": [
    "### SSIM"
   ]
  },
  {
   "cell_type": "code",
   "execution_count": 43,
   "metadata": {},
   "outputs": [
    {
     "name": "stderr",
     "output_type": "stream",
     "text": [
      "Processing Batches:   0%|          | 0/16 [00:00<?, ?batch/s]"
     ]
    },
    {
     "name": "stderr",
     "output_type": "stream",
     "text": [
      "Processing Batches: 100%|██████████| 16/16 [00:28<00:00,  1.77s/batch]\n"
     ]
    },
    {
     "name": "stdout",
     "output_type": "stream",
     "text": [
      "\n",
      "SSIM results saved to metrics_cGAN.csv\n",
      "\n",
      "SSIM Summary Statistics:\n",
      "count    1000.000000\n",
      "mean        0.809752\n",
      "std         0.069183\n",
      "min         0.550705\n",
      "25%         0.768374\n",
      "50%         0.818372\n",
      "75%         0.856982\n",
      "max         0.982891\n",
      "Name: SSIM, dtype: float64\n"
     ]
    },
    {
     "data": {
      "image/png": "[encoded data removed]",
      "text/plain": [
       "<Figure size 800x600 with 1 Axes>"
      ]
     },
     "metadata": {},
     "output_type": "display_data"
    },
    {
     "name": "stdout",
     "output_type": "stream",
     "text": [
      "\n",
      "Histogram saved as ssim_histogram.png\n"
     ]
    }
   ],
   "source": [
    "import numpy as np\n",
    "import cv2\n",
    "import pandas as pd\n",
    "import matplotlib.pyplot as plt\n",
    "from skimage.metrics import structural_similarity as ssim\n",
    "from tqdm import tqdm\n",
    "\n",
    "# --- Define SSIM Function ---\n",
    "def compute_ssim(original, colorized):\n",
    "    \"\"\"Computes SSIM between two color images with the size of colorized image.\"\"\"\n",
    "    height, width, _ = colorized.shape  # Get dimensions of the colorized image\n",
    "    original_resized = cv2.resize(original, (width, height), interpolation=cv2.INTER_CUBIC)\n",
    "    \n",
    "    return ssim(original_resized, colorized, data_range=255, channel_axis=2)\n",
    "\n",
    "# --- Compute SSIM for All Images ---\n",
    "ssim_values = []\n",
    "batch_size = 64  # Number of images per batch\n",
    "\n",
    "for i in tqdm(range(0, len(original_img_paths), batch_size), desc=\"Processing Batches\", unit=\"batch\"):\n",
    "    batch_original = original_img_paths[i:i+batch_size]\n",
    "    batch_colorized = colorized_images_paths[i:i+batch_size]\n",
    "    # print(batch_original)\n",
    "    # print(batch_colorized)\n",
    "    \n",
    "    for orig_path, colorized_rgb in zip(batch_original, batch_colorized):\n",
    "        try:\n",
    "            original_rgb = cv2.imread(orig_path)  # Load original image\n",
    "            original_rgb = cv2.cvtColor(original_rgb, cv2.COLOR_BGR2RGB)  # Convert to RGB\n",
    "\n",
    "            colorized_rgb = cv2.imread(colorized_rgb)  # Load original image\n",
    "            colorized_rgb = cv2.cvtColor(colorized_rgb, cv2.COLOR_BGR2RGB)  # Convert to RGB\n",
    "            \n",
    "            # Compute SSIM\n",
    "            ssim_val = compute_ssim(original_rgb, colorized_rgb)\n",
    "            ssim_values.append((orig_path, ssim_val))\n",
    "        except Exception as e:\n",
    "            print(f\"Skipping {orig_path} due to error: {e}\")\n",
    "            ssim_values.append((orig_path, np.nan))\n",
    "\n",
    "# --- Save SSIM Results to a New CSV ---\n",
    "ssim_df = pd.DataFrame(ssim_values, columns=[\"Image Path\", \"SSIM\"])\n",
    "ssim_df.to_csv(csv_filename, index=False)\n",
    "print(f\"\\nSSIM results saved to {csv_filename}\")\n",
    "\n",
    "# --- Compute Summary Statistics ---\n",
    "summary_stats = ssim_df[\"SSIM\"].describe()\n",
    "print(\"\\nSSIM Summary Statistics:\")\n",
    "print(summary_stats)\n",
    "\n",
    "# --- Plot Histogram for SSIM ---\n",
    "plt.figure(figsize=(8, 6))\n",
    "plt.hist(ssim_df[\"SSIM\"].dropna(), bins=30, alpha=0.75, color='b', edgecolor='black')\n",
    "plt.title(\"Histogram of SSIM\")\n",
    "plt.xlabel(\"SSIM\")\n",
    "plt.ylabel(\"Frequency\")\n",
    "plt.savefig(\"ssim_histogram.png\")\n",
    "plt.show()\n",
    "print(\"\\nHistogram saved as ssim_histogram.png\")\n"
   ]
  },
  {
   "cell_type": "code",
   "execution_count": 45,
   "metadata": {},
   "outputs": [
    {
     "name": "stderr",
     "output_type": "stream",
     "text": [
      "Processing Batches:   0%|          | 0/100 [00:00<?, ?batch/s]"
     ]
    },
    {
     "name": "stderr",
     "output_type": "stream",
     "text": [
      "Processing Batches: 100%|██████████| 100/100 [00:49<00:00,  2.03batch/s]\n"
     ]
    },
    {
     "name": "stdout",
     "output_type": "stream",
     "text": [
      "\n",
      "Updated CSV saved as metrics_cGAN.csv\n",
      "\n",
      "Summary Statistics:\n",
      "       count      mean       std       min       25%       50%       75%  \\\n",
      "SSIM  1000.0  0.809752  0.069183  0.550705  0.768374  0.818372  0.856982   \n",
      "PCQI  1000.0  1.724097  0.442419  0.458127  1.492287  1.757982  1.997847   \n",
      "\n",
      "           max  \n",
      "SSIM  0.982891  \n",
      "PCQI  3.461067  \n"
     ]
    },
    {
     "data": {
      "image/png": "[encoded data removed]",
      "text/plain": [
       "<Figure size 800x600 with 1 Axes>"
      ]
     },
     "metadata": {},
     "output_type": "display_data"
    },
    {
     "name": "stdout",
     "output_type": "stream",
     "text": [
      "\n",
      "Histogram saved as colorization_metrics_histogram_pcqi.png\n"
     ]
    }
   ],
   "source": [
    "import numpy as np\n",
    "import cv2\n",
    "import pandas as pd\n",
    "import matplotlib.pyplot as plt\n",
    "from tqdm import tqdm\n",
    "from skimage.metrics import structural_similarity as ssim\n",
    "from scipy.ndimage import gaussian_filter\n",
    "import torchvision.transforms as transforms\n",
    "from PIL import Image\n",
    "import os\n",
    "\n",
    "# --- Define PCQI Function ---\n",
    "def compute_pcqi(original, colorized, sigma=1.5):\n",
    "    \"\"\"Computes PCQI (Perception-based Contrast Quality Index) for color images.\"\"\"\n",
    "\n",
    "    # Convert images to YIQ color space\n",
    "    original_yiq = cv2.cvtColor(original, cv2.COLOR_RGB2YCrCb)\n",
    "    colorized_yiq = cv2.cvtColor(colorized, cv2.COLOR_RGB2YCrCb)\n",
    "\n",
    "    # Extract luminance (Y) and chrominance (I, Q) channels\n",
    "    Y_orig, I_orig, Q_orig = cv2.split(original_yiq)\n",
    "    Y_col, I_col, Q_col = cv2.split(colorized_yiq)\n",
    "\n",
    "    # --- Compute Structural Similarity Index (SSIM) for Luminance ---\n",
    "    luminance_similarity = ssim(Y_orig, Y_col, data_range=Y_orig.max() - Y_orig.min())\n",
    "\n",
    "    # --- Compute Chrominance Similarity ---\n",
    "    def chroma_similarity(channel_orig, channel_col):\n",
    "        mu_x = gaussian_filter(channel_orig, sigma)\n",
    "        mu_y = gaussian_filter(channel_col, sigma)\n",
    "        sigma_x = np.sqrt(gaussian_filter(channel_orig**2, sigma) - mu_x**2)\n",
    "        sigma_y = np.sqrt(gaussian_filter(channel_col**2, sigma) - mu_y**2)\n",
    "        contrast_measure = (2 * sigma_x * sigma_y) / (sigma_x**2 + sigma_y**2 + 1e-6)\n",
    "        structure_measure = (2 * mu_x * mu_y) / (mu_x**2 + mu_y**2 + 1e-6)\n",
    "        return np.mean(contrast_measure * structure_measure)\n",
    "\n",
    "    I_similarity = chroma_similarity(I_orig, I_col)\n",
    "    Q_similarity = chroma_similarity(Q_orig, Q_col)\n",
    "    chrominance_similarity = (I_similarity + Q_similarity) / 2\n",
    "\n",
    "    # --- Final PCQI Score ---\n",
    "    pcqi_score = 0.5 * luminance_similarity + 0.5 * chrominance_similarity\n",
    "    return pcqi_score\n",
    "\n",
    "\n",
    "if os.path.exists(csv_filename):\n",
    "    df = pd.read_csv(csv_filename)  # Load existing file\n",
    "else:\n",
    "    df = pd.DataFrame(columns=[\"Image Path\"])  # Create new if not found\n",
    "\n",
    "# --- Compute PCQI for All Images in Batches ---\n",
    "batch_size = 10  # Number of images per batch\n",
    "new_metrics = {}\n",
    "\n",
    "for i in tqdm(range(0, len(original_img_paths), batch_size), desc=\"Processing Batches\", unit=\"batch\"):\n",
    "    batch_original = original_img_paths[i:i+batch_size]\n",
    "    batch_colorized = colorized_images[i:i+batch_size]\n",
    "\n",
    "    for orig_path, colorized_rgb in zip(batch_original, batch_colorized):\n",
    "        original_rgb = Image.open(orig_path).convert(\"RGB\")  # Load original grayscale image as RGB\n",
    "        colorized_rgb = Image.fromarray(colorized_rgb)\n",
    "\n",
    "        # Get dimensions of the colorized image\n",
    "        width, height = colorized_rgb.size\n",
    "        transform = transforms.Compose([\n",
    "            transforms.Resize((height, width), Image.BICUBIC),\n",
    "            transforms.ToTensor()\n",
    "        ])\n",
    "\n",
    "        # Resize images using the defined transform\n",
    "        original_rgb = transform(original_rgb).permute(1, 2, 0).numpy()\n",
    "        colorized_rgb = transform(colorized_rgb).permute(1, 2, 0).numpy()\n",
    "\n",
    "        # Convert images back to uint8 for OpenCV functions\n",
    "        original_rgb = (original_rgb * 255).astype(np.uint8)\n",
    "        colorized_rgb = (colorized_rgb * 255).astype(np.uint8)\n",
    "\n",
    "        pcqi_val = compute_pcqi(original_rgb, colorized_rgb)\n",
    "        new_metrics[orig_path] = pcqi_val\n",
    "\n",
    "# --- Update DataFrame with PCQI Scores ---\n",
    "df[\"PCQI\"] = df[\"Image Path\"].map(new_metrics)  # Map new values to existing entries\n",
    "\n",
    "# --- Save Updated CSV ---\n",
    "df.to_csv(csv_filename, index=False)\n",
    "print(f\"\\nUpdated CSV saved as {csv_filename}\")\n",
    "\n",
    "# --- Compute and Display Summary Statistics ---\n",
    "summary_stats = df.drop(columns=[\"Image Path\"]).describe().T\n",
    "print(\"\\nSummary Statistics:\")\n",
    "print(summary_stats)\n",
    "\n",
    "# --- Plot Histogram for PCQI Scores ---\n",
    "plt.figure(figsize=(8, 6))\n",
    "plt.hist(df[\"PCQI\"].dropna(), bins=30, alpha=0.75, color='g', edgecolor='black')\n",
    "plt.title(\"Histogram of PCQI Scores\")\n",
    "plt.xlabel(\"PCQI\")\n",
    "plt.ylabel(\"Frequency\")\n",
    "plt.savefig(\"colorization_metrics_histogram_pcqi.png\")\n",
    "plt.show()\n",
    "print(\"\\nHistogram saved as colorization_metrics_histogram_pcqi.png\")\n"
   ]
  },
  {
   "cell_type": "code",
   "execution_count": 46,
   "metadata": {},
   "outputs": [
    {
     "name": "stderr",
     "output_type": "stream",
     "text": [
      "Processing Batches:   0%|          | 0/16 [00:00<?, ?batch/s]"
     ]
    },
    {
     "name": "stderr",
     "output_type": "stream",
     "text": [
      "Processing Batches: 100%|██████████| 16/16 [00:06<00:00,  2.37batch/s]\n"
     ]
    },
    {
     "name": "stdout",
     "output_type": "stream",
     "text": [
      "\n",
      "Updated CSV saved as metrics_cGAN.csv\n",
      "\n",
      "Summary Statistics:\n",
      "               count        mean        std        min         25%  \\\n",
      "SSIM          1000.0    0.809752   0.069183   0.550705    0.768374   \n",
      "PCQI          1000.0    1.724097   0.442419   0.458127    1.492287   \n",
      "Colorfulness  1000.0  135.874711  36.432042  35.633408  108.512784   \n",
      "\n",
      "                     50%         75%         max  \n",
      "SSIM            0.818372    0.856982    0.982891  \n",
      "PCQI            1.757982    1.997847    3.461067  \n",
      "Colorfulness  146.439133  164.849701  192.022793  \n"
     ]
    },
    {
     "data": {
      "image/png": "[encoded data removed]",
      "text/plain": [
       "<Figure size 800x600 with 1 Axes>"
      ]
     },
     "metadata": {},
     "output_type": "display_data"
    },
    {
     "name": "stdout",
     "output_type": "stream",
     "text": [
      "\n",
      "Histogram saved as colorization_colorfulness_histogram.png\n"
     ]
    }
   ],
   "source": [
    "import numpy as np\n",
    "import cv2\n",
    "import pandas as pd\n",
    "import matplotlib.pyplot as plt\n",
    "from tqdm import tqdm\n",
    "\n",
    "# --- Define Metric Function ---\n",
    "def compute_colorfulness(image):\n",
    "    \"\"\"Computes the Colorfulness Index (CI).\"\"\"\n",
    "    (R, G, B) = cv2.split(image)\n",
    "    rg = np.abs(R - G)\n",
    "    yb = np.abs(0.5 * (R + G) - B)\n",
    "    std_rg, std_yb = np.std(rg), np.std(yb)\n",
    "    mean_rg, mean_yb = np.mean(rg), np.mean(yb)\n",
    "    return np.sqrt(std_rg**2 + std_yb**2) + (0.3 * np.sqrt(mean_rg**2 + mean_yb**2))\n",
    "\n",
    "\n",
    "try:\n",
    "    df = pd.read_csv(csv_filename)  # Load existing CSV\n",
    "except FileNotFoundError:\n",
    "    df = pd.DataFrame(columns=[\"Image Path\"])  # Create new if not found\n",
    "\n",
    "# --- Compute Colorfulness for Each Image ---\n",
    "batch_size = 64  # Number of images per batch\n",
    "new_metrics = {}\n",
    "\n",
    "for i in tqdm(range(0, len(original_img_paths), batch_size), desc=\"Processing Batches\", unit=\"batch\"):\n",
    "    batch_original = original_img_paths[i:i+batch_size]\n",
    "    batch_colorized = colorized_images[i:i+batch_size]\n",
    "\n",
    "    for orig_path, colorized_rgb in zip(batch_original, batch_colorized):\n",
    "        # Get dimensions of the colorized image\n",
    "        height, width, _ = colorized_rgb.shape\n",
    "        \n",
    "        # Resize the original image to match colorized image size\n",
    "        original_rgb = cv2.imread(orig_path)\n",
    "        original_rgb = cv2.cvtColor(original_rgb, cv2.COLOR_BGR2RGB)\n",
    "        original_rgb = cv2.resize(original_rgb, (width, height), interpolation=cv2.INTER_CUBIC)\n",
    "        \n",
    "        ci = compute_colorfulness(colorized_rgb)\n",
    "        new_metrics[orig_path] = ci\n",
    "\n",
    "# --- Update the Existing DataFrame ---\n",
    "df[\"Colorfulness\"] = df[\"Image Path\"].map(new_metrics)  # Map new values\n",
    "\n",
    "# --- Save Updated CSV ---\n",
    "df.to_csv(csv_filename, index=False)\n",
    "print(f\"\\nUpdated CSV saved as {csv_filename}\")\n",
    "\n",
    "# --- Compute and Display Summary Statistics ---\n",
    "summary_stats = df.drop(columns=[\"Image Path\"]).describe().T\n",
    "print(\"\\nSummary Statistics:\")\n",
    "print(summary_stats)\n",
    "\n",
    "# --- Plot Histogram for Colorfulness ---\n",
    "plt.figure(figsize=(8, 6))\n",
    "plt.hist(df[\"Colorfulness\"].dropna(), bins=30, alpha=0.75, color='b', edgecolor='black')\n",
    "plt.title(\"Histogram of Colorfulness\")\n",
    "plt.xlabel(\"Colorfulness\")\n",
    "plt.ylabel(\"Frequency\")\n",
    "plt.savefig(\"colorization_colorfulness_histogram.png\")\n",
    "plt.show()\n",
    "print(\"\\nHistogram saved as colorization_colorfulness_histogram.png\")\n"
   ]
  },
  {
   "cell_type": "code",
   "execution_count": 47,
   "metadata": {},
   "outputs": [
    {
     "name": "stderr",
     "output_type": "stream",
     "text": [
      "Processing Batches: 100%|██████████| 16/16 [00:00<00:00, 26.65batch/s]\n"
     ]
    },
    {
     "name": "stdout",
     "output_type": "stream",
     "text": [
      "\n",
      "Updated CSV saved as metrics_cGAN.csv\n",
      "\n",
      "Summary Statistics:\n",
      "                count        mean        std        min         25%  \\\n",
      "SSIM           1000.0    0.809752   0.069183   0.550705    0.768374   \n",
      "PCQI           1000.0    1.724097   0.442419   0.458127    1.492287   \n",
      "Colorfulness   1000.0  135.874711  36.432042  35.633408  108.512784   \n",
      "Color Harmony  1000.0    0.007106   0.070927   0.000146    0.000409   \n",
      "\n",
      "                      50%         75%         max  \n",
      "SSIM             0.818372    0.856982    0.982891  \n",
      "PCQI             1.757982    1.997847    3.461067  \n",
      "Colorfulness   146.439133  164.849701  192.022793  \n",
      "Color Harmony    0.000590    0.001137    1.000000  \n"
     ]
    },
    {
     "data": {
      "image/png": "[encoded data removed]",
      "text/plain": [
       "<Figure size 600x600 with 1 Axes>"
      ]
     },
     "metadata": {},
     "output_type": "display_data"
    },
    {
     "name": "stdout",
     "output_type": "stream",
     "text": [
      "\n",
      "Histogram saved as colorization_metrics_histogram.png\n"
     ]
    }
   ],
   "source": [
    "import numpy as np\n",
    "import cv2\n",
    "import pandas as pd\n",
    "import matplotlib.pyplot as plt\n",
    "from tqdm import tqdm\n",
    "\n",
    "# --- Define Metric Function ---\n",
    "def compute_color_harmony(image):\n",
    "    \"\"\"Computes a color harmony score based on hue variance.\"\"\"\n",
    "    hsv = cv2.cvtColor(image, cv2.COLOR_RGB2HSV)\n",
    "    hue = hsv[:, :, 0].flatten()\n",
    "    hue_variance = np.var(hue)\n",
    "    return 1 / (1 + hue_variance)\n",
    "\n",
    "\n",
    "try:\n",
    "    df = pd.read_csv(csv_filename)  # Load existing CSV\n",
    "except FileNotFoundError:\n",
    "    df = pd.DataFrame(columns=[\"Image Path\"])  # Create new if not found\n",
    "\n",
    "# --- Compute Color Harmony for Each Image ---\n",
    "batch_size = 64  # Number of images per batch\n",
    "new_metrics = {}\n",
    "\n",
    "for i in tqdm(range(0, len(original_img_paths), batch_size), desc=\"Processing Batches\", unit=\"batch\"):\n",
    "    batch_original = original_img_paths[i:i+batch_size]\n",
    "    batch_colorized = colorized_images[i:i+batch_size]\n",
    "\n",
    "    for img_path, colorized_rgb in zip(batch_original, batch_colorized):\n",
    "        harmony = compute_color_harmony(colorized_rgb)\n",
    "        new_metrics[img_path] = harmony\n",
    "\n",
    "# --- Update the Existing DataFrame ---\n",
    "df[\"Color Harmony\"] = df[\"Image Path\"].map(new_metrics)  # Map new values\n",
    "\n",
    "# --- Save Updated CSV ---\n",
    "df.to_csv(csv_filename, index=False)\n",
    "print(f\"\\nUpdated CSV saved as {csv_filename}\")\n",
    "\n",
    "# --- Compute and Display Summary Statistics ---\n",
    "summary_stats = df.drop(columns=[\"Image Path\"]).describe().T\n",
    "print(\"\\nSummary Statistics:\")\n",
    "print(summary_stats)\n",
    "\n",
    "# --- Plot Histogram for Color Harmony ---\n",
    "plt.figure(figsize=(6, 6))\n",
    "plt.hist(df[\"Color Harmony\"].dropna(), bins=30, alpha=0.75, color='g', edgecolor='black')\n",
    "plt.title(\"Histogram of Color Harmony\")\n",
    "plt.xlabel(\"Color Harmony\")\n",
    "plt.ylabel(\"Frequency\")\n",
    "plt.savefig(\"colorization_metrics_histogram.png\")\n",
    "plt.show()\n",
    "print(\"\\nHistogram saved as colorization_metrics_histogram.png\")\n"
   ]
  },
  {
   "cell_type": "code",
   "execution_count": 48,
   "metadata": {},
   "outputs": [
    {
     "name": "stderr",
     "output_type": "stream",
     "text": [
      "Processing Batches: 100%|██████████| 16/16 [00:00<00:00, 48.19batch/s]\n"
     ]
    },
    {
     "name": "stdout",
     "output_type": "stream",
     "text": [
      "\n",
      "Updated CSV saved as metrics_cGAN.csv\n",
      "\n",
      "Summary Statistics:\n",
      "                             count        mean        std        min  \\\n",
      "SSIM                        1000.0    0.809752   0.069183   0.550705   \n",
      "PCQI                        1000.0    1.724097   0.442419   0.458127   \n",
      "Colorfulness                1000.0  135.874711  36.432042  35.633408   \n",
      "Color Harmony               1000.0    0.007106   0.070927   0.000146   \n",
      "Color Distribution Balance  1000.0    1.654933   0.188922   1.000000   \n",
      "\n",
      "                                   25%         50%         75%         max  \n",
      "SSIM                          0.768374    0.818372    0.856982    0.982891  \n",
      "PCQI                          1.492287    1.757982    1.997847    3.461067  \n",
      "Colorfulness                108.512784  146.439133  164.849701  192.022793  \n",
      "Color Harmony                 0.000409    0.000590    0.001137    1.000000  \n",
      "Color Distribution Balance    1.566532    1.700162    1.788183    1.951893  \n"
     ]
    },
    {
     "data": {
      "image/png": "[encoded data removed]",
      "text/plain": [
       "<Figure size 600x600 with 1 Axes>"
      ]
     },
     "metadata": {},
     "output_type": "display_data"
    },
    {
     "name": "stdout",
     "output_type": "stream",
     "text": [
      "\n",
      "Histogram saved as colorization_metrics_histogram.png\n"
     ]
    }
   ],
   "source": [
    "import numpy as np\n",
    "import cv2\n",
    "import pandas as pd\n",
    "import matplotlib.pyplot as plt\n",
    "from tqdm import tqdm\n",
    "\n",
    "# --- Define Metric Function ---\n",
    "def compute_color_distribution_balance(image, num_bins=32):\n",
    "    \"\"\"Computes color distribution balance using histogram entropy.\"\"\"\n",
    "    hsv = cv2.cvtColor(image, cv2.COLOR_RGB2HSV)\n",
    "    h_hist = cv2.calcHist([hsv], [0], None, [num_bins], [0, 180])\n",
    "    h_hist = h_hist / np.sum(h_hist)  # Normalize histogram\n",
    "    return 1 - np.sum(h_hist * np.log(h_hist + 1e-6)) / np.log(num_bins)\n",
    "\n",
    "\n",
    "try:\n",
    "    df = pd.read_csv(csv_filename)  # Load existing CSV\n",
    "except FileNotFoundError:\n",
    "    df = pd.DataFrame(columns=[\"Image Path\"])  # Create new if not found\n",
    "\n",
    "# --- Compute Color Distribution Balance for Each Image ---\n",
    "batch_size = 64  # Number of images per batch\n",
    "new_metrics = {}\n",
    "\n",
    "for i in tqdm(range(0, len(original_img_paths), batch_size), desc=\"Processing Batches\", unit=\"batch\"):\n",
    "    batch_original = original_img_paths[i:i+batch_size]\n",
    "    batch_colorized = colorized_images[i:i+batch_size]\n",
    "\n",
    "    for img_path, colorized_rgb in zip(batch_original, batch_colorized):\n",
    "        balance = compute_color_distribution_balance(colorized_rgb)\n",
    "        new_metrics[img_path] = balance\n",
    "\n",
    "# --- Update the Existing DataFrame ---\n",
    "df[\"Color Distribution Balance\"] = df[\"Image Path\"].map(new_metrics)  # Map new values\n",
    "\n",
    "# --- Save Updated CSV ---\n",
    "df.to_csv(csv_filename, index=False)\n",
    "print(f\"\\nUpdated CSV saved as {csv_filename}\")\n",
    "\n",
    "# --- Compute and Display Summary Statistics ---\n",
    "summary_stats = df.drop(columns=[\"Image Path\"]).describe().T\n",
    "print(\"\\nSummary Statistics:\")\n",
    "print(summary_stats)\n",
    "\n",
    "# --- Plot Histogram for Color Distribution Balance ---\n",
    "plt.figure(figsize=(6, 6))\n",
    "plt.hist(df[\"Color Distribution Balance\"].dropna(), bins=30, alpha=0.75, color='b', edgecolor='black')\n",
    "plt.title(\"Histogram of Color Distribution Balance\")\n",
    "plt.xlabel(\"Color Distribution Balance\")\n",
    "plt.ylabel(\"Frequency\")\n",
    "plt.savefig(\"colorization_metrics_histogram.png\")\n",
    "plt.show()\n",
    "print(\"\\nHistogram saved as colorization_metrics_histogram.png\")\n"
   ]
  }
 ],
 "metadata": {
  "kernelspec": {
   "display_name": "pse_env",
   "language": "python",
   "name": "python3"
  },
  "language_info": {
   "codemirror_mode": {
    "name": "ipython",
    "version": 3
   },
   "file_extension": ".py",
   "mimetype": "text/x-python",
   "name": "python",
   "nbconvert_exporter": "python",
   "pygments_lexer": "ipython3",
   "version": "3.8.16"
  }
 },
 "nbformat": 4,
 "nbformat_minor": 2
}
